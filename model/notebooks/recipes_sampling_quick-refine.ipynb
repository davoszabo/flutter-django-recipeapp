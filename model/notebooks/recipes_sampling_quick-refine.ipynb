{
 "cells": [
  {
   "cell_type": "code",
   "execution_count": 1,
   "id": "500ec7be",
   "metadata": {},
   "outputs": [],
   "source": [
    "import numpy as np\n",
    "import pandas as pd"
   ]
  },
  {
   "cell_type": "code",
   "execution_count": 2,
   "id": "9e581abe",
   "metadata": {},
   "outputs": [],
   "source": [
    "df = pd.read_pickle('datasets/sample/recipes_sample_main.pkl')"
   ]
  },
  {
   "cell_type": "code",
   "execution_count": 3,
   "id": "4b3bd24e",
   "metadata": {},
   "outputs": [],
   "source": [
    "reindex_columns = [\"id\",\"name\",\"author_name\",\"submitted\",\"image_url\",\"minutes\",\"description\",\"category\",\"tags\",\"search_terms\",\"steps\",\"ingredients\",\"ingredients_raw_str\",\"serving_size\",\"servings\",\"calories\",\"rating\",\"review_count\"]\n",
    "df = df.reindex(columns=reindex_columns)"
   ]
  },
  {
   "cell_type": "code",
   "execution_count": 4,
   "id": "a60e3ef8",
   "metadata": {},
   "outputs": [],
   "source": [
    "df.to_csv('datasets/sample/recipes_sample_main.csv', sep=';', index=False)"
   ]
  },
  {
   "cell_type": "code",
   "execution_count": null,
   "id": "71ec4434",
   "metadata": {},
   "outputs": [],
   "source": []
  }
 ],
 "metadata": {
  "kernelspec": {
   "display_name": "Python 3 (ipykernel)",
   "language": "python",
   "name": "python3"
  },
  "language_info": {
   "codemirror_mode": {
    "name": "ipython",
    "version": 3
   },
   "file_extension": ".py",
   "mimetype": "text/x-python",
   "name": "python",
   "nbconvert_exporter": "python",
   "pygments_lexer": "ipython3",
   "version": "3.9.12"
  }
 },
 "nbformat": 4,
 "nbformat_minor": 5
}
