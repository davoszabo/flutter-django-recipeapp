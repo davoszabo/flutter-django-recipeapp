{
 "cells": [
  {
   "cell_type": "code",
   "execution_count": 2,
   "metadata": {
    "_cell_guid": "b1076dfc-b9ad-4769-8c92-a6c4dae69d19",
    "_uuid": "8f2839f25d086af736a60e9eeb907d3b93b6e0e5"
   },
   "outputs": [],
   "source": [
    "import numpy as np # linear algebra\n",
    "import pandas as pd # data processing"
   ]
  },
  {
   "cell_type": "markdown",
   "metadata": {},
   "source": [
    "# 1. Read and load DFs\n",
    "This should be executed once and then use the serialized (pickeled) ones."
   ]
  },
  {
   "cell_type": "raw",
   "metadata": {
    "_cell_guid": "79c7e3d0-c299-4dcb-8224-4455121ee9b0",
    "_uuid": "d629ff2d2480ee46fbb7e2d37f6b5fab8052498a",
    "scrolled": false
   },
   "source": [
    "df1 = pd.read_csv('datasets/raw/RAW_recipes.csv')\n",
    "df1 = df[df['name'].notna()]\n",
    "\n",
    "df1.to_pickle('datasets/raw/RAW_recipes.pkl')"
   ]
  },
  {
   "cell_type": "raw",
   "metadata": {},
   "source": [
    "df2 = pd.read_csv('datasets/raw/recipes.csv')\n",
    "df2.rename(columns = {'RecipeId':'id'}, inplace=True)\n",
    "\n",
    "df2.to_pickle('datasets/raw/recipes.pkl')"
   ]
  },
  {
   "cell_type": "raw",
   "metadata": {},
   "source": [
    "df3 = pd.read_csv('datasets/raw/raw_recipes_w_search_terms.csv')\n",
    "\n",
    "df3.to_pickle('datasets/raw/raw_recipes_w_search_terms.pkl')"
   ]
  },
  {
   "cell_type": "markdown",
   "metadata": {},
   "source": [
    "## 1.1 Using serialized DFs for time saving "
   ]
  },
  {
   "cell_type": "raw",
   "metadata": {},
   "source": [
    "df1 = pd.read_pickle('datasets/raw/RAW_reviews.pkl')"
   ]
  },
  {
   "cell_type": "code",
   "execution_count": 3,
   "metadata": {},
   "outputs": [],
   "source": [
    "df2 = pd.read_pickle('datasets/raw/RAW2_reviews.pkl')"
   ]
  },
  {
   "cell_type": "code",
   "execution_count": 4,
   "metadata": {
    "scrolled": false
   },
   "outputs": [],
   "source": [
    "df3 = pd.read_pickle('datasets/raw/raw_recipes_w_search_terms.pkl')"
   ]
  },
  {
   "cell_type": "markdown",
   "metadata": {},
   "source": [
    "### Analysing columns and datastructures"
   ]
  },
  {
   "cell_type": "raw",
   "metadata": {
    "scrolled": true
   },
   "source": [
    "df1.info()"
   ]
  },
  {
   "cell_type": "raw",
   "metadata": {
    "scrolled": true
   },
   "source": [
    "df2.info()"
   ]
  },
  {
   "cell_type": "raw",
   "metadata": {
    "scrolled": true
   },
   "source": [
    "df3.info()"
   ]
  },
  {
   "cell_type": "markdown",
   "metadata": {},
   "source": [
    "### Set unwanted columns and drop those"
   ]
  },
  {
   "cell_type": "code",
   "execution_count": 5,
   "metadata": {},
   "outputs": [],
   "source": [
    "#df1_unwanted_columns = [\"name\", \"tags\", \"n_steps\", \"steps\", \"description\", \"ingredients\", \"n_ingredients\"]\n",
    "df2_unwanted_columns = [\"AuthorId\", \"Name\", \"Keywords\", \"Description\", \"CookTime\", \"PrepTime\", \"RecipeIngredientQuantities\", \"RecipeIngredientParts\", \"FatContent\", \"SaturatedFatContent\", \"CholesterolContent\", \"SodiumContent\", \"CarbohydrateContent\", \"FiberContent\", \"SugarContent\", \"ProteinContent\", \"RecipeServings\", \"RecipeYield\", \"RecipeInstructions\"]\n",
    "df3_unwanted_columns = []"
   ]
  },
  {
   "cell_type": "code",
   "execution_count": 7,
   "metadata": {},
   "outputs": [],
   "source": [
    "#df1.drop(df1_unwanted_columns, axis=1, inplace=True)\n",
    "df2.drop(df2_unwanted_columns, axis=1, inplace=True)"
   ]
  },
  {
   "cell_type": "markdown",
   "metadata": {},
   "source": [
    "### Check DFs"
   ]
  },
  {
   "cell_type": "raw",
   "metadata": {},
   "source": [
    "df1[df1[\"id\"] == 137739]"
   ]
  },
  {
   "cell_type": "code",
   "execution_count": 8,
   "metadata": {},
   "outputs": [
    {
     "data": {
      "text/html": [
       "<div>\n",
       "<style scoped>\n",
       "    .dataframe tbody tr th:only-of-type {\n",
       "        vertical-align: middle;\n",
       "    }\n",
       "\n",
       "    .dataframe tbody tr th {\n",
       "        vertical-align: top;\n",
       "    }\n",
       "\n",
       "    .dataframe thead th {\n",
       "        text-align: right;\n",
       "    }\n",
       "</style>\n",
       "<table border=\"1\" class=\"dataframe\">\n",
       "  <thead>\n",
       "    <tr style=\"text-align: right;\">\n",
       "      <th></th>\n",
       "      <th>id</th>\n",
       "      <th>AuthorName</th>\n",
       "      <th>TotalTime</th>\n",
       "      <th>DatePublished</th>\n",
       "      <th>Images</th>\n",
       "      <th>RecipeCategory</th>\n",
       "      <th>AggregatedRating</th>\n",
       "      <th>ReviewCount</th>\n",
       "      <th>Calories</th>\n",
       "    </tr>\n",
       "  </thead>\n",
       "  <tbody>\n",
       "    <tr>\n",
       "      <th>131151</th>\n",
       "      <td>137739</td>\n",
       "      <td>COOKGIRl</td>\n",
       "      <td>PT55M</td>\n",
       "      <td>2005-09-16T15:24:00Z</td>\n",
       "      <td>\"https://img.sndimg.com/food/image/upload/w_55...</td>\n",
       "      <td>Vegetable</td>\n",
       "      <td>5.0</td>\n",
       "      <td>3.0</td>\n",
       "      <td>51.5</td>\n",
       "    </tr>\n",
       "  </tbody>\n",
       "</table>\n",
       "</div>"
      ],
      "text/plain": [
       "            id AuthorName TotalTime         DatePublished  \\\n",
       "131151  137739   COOKGIRl     PT55M  2005-09-16T15:24:00Z   \n",
       "\n",
       "                                                   Images RecipeCategory  \\\n",
       "131151  \"https://img.sndimg.com/food/image/upload/w_55...      Vegetable   \n",
       "\n",
       "        AggregatedRating  ReviewCount  Calories  \n",
       "131151               5.0          3.0      51.5  "
      ]
     },
     "execution_count": 8,
     "metadata": {},
     "output_type": "execute_result"
    }
   ],
   "source": [
    "df2[df2[\"id\"] == 137739]"
   ]
  },
  {
   "cell_type": "code",
   "execution_count": 9,
   "metadata": {
    "scrolled": true
   },
   "outputs": [
    {
     "data": {
      "text/html": [
       "<div>\n",
       "<style scoped>\n",
       "    .dataframe tbody tr th:only-of-type {\n",
       "        vertical-align: middle;\n",
       "    }\n",
       "\n",
       "    .dataframe tbody tr th {\n",
       "        vertical-align: top;\n",
       "    }\n",
       "\n",
       "    .dataframe thead th {\n",
       "        text-align: right;\n",
       "    }\n",
       "</style>\n",
       "<table border=\"1\" class=\"dataframe\">\n",
       "  <thead>\n",
       "    <tr style=\"text-align: right;\">\n",
       "      <th></th>\n",
       "      <th>id</th>\n",
       "      <th>name</th>\n",
       "      <th>description</th>\n",
       "      <th>ingredients</th>\n",
       "      <th>ingredients_raw_str</th>\n",
       "      <th>serving_size</th>\n",
       "      <th>servings</th>\n",
       "      <th>steps</th>\n",
       "      <th>tags</th>\n",
       "      <th>search_terms</th>\n",
       "    </tr>\n",
       "  </thead>\n",
       "  <tbody>\n",
       "    <tr>\n",
       "      <th>63363</th>\n",
       "      <td>137739</td>\n",
       "      <td>! Arriba ! Baked Winter Squash Mexican-Style</td>\n",
       "      <td>Autumn is my favorite time of year to cook! Th...</td>\n",
       "      <td>['winter squash', 'mexican seasoning', 'mixed ...</td>\n",
       "      <td>[\"1   lb    winter squash (such as hubbard, ac...</td>\n",
       "      <td>1 (129 g)</td>\n",
       "      <td>3</td>\n",
       "      <td>['*NOTE: Two separate seasoning suggestions ar...</td>\n",
       "      <td>['60-minutes-or-less', 'time-to-make', 'course...</td>\n",
       "      <td>{'mexican', 'side', 'vegetarian', 'baked'}</td>\n",
       "    </tr>\n",
       "  </tbody>\n",
       "</table>\n",
       "</div>"
      ],
      "text/plain": [
       "           id                                          name  \\\n",
       "63363  137739  ! Arriba ! Baked Winter Squash Mexican-Style   \n",
       "\n",
       "                                             description  \\\n",
       "63363  Autumn is my favorite time of year to cook! Th...   \n",
       "\n",
       "                                             ingredients  \\\n",
       "63363  ['winter squash', 'mexican seasoning', 'mixed ...   \n",
       "\n",
       "                                     ingredients_raw_str serving_size  \\\n",
       "63363  [\"1   lb    winter squash (such as hubbard, ac...    1 (129 g)   \n",
       "\n",
       "       servings                                              steps  \\\n",
       "63363         3  ['*NOTE: Two separate seasoning suggestions ar...   \n",
       "\n",
       "                                                    tags  \\\n",
       "63363  ['60-minutes-or-less', 'time-to-make', 'course...   \n",
       "\n",
       "                                     search_terms  \n",
       "63363  {'mexican', 'side', 'vegetarian', 'baked'}  "
      ]
     },
     "execution_count": 9,
     "metadata": {},
     "output_type": "execute_result"
    }
   ],
   "source": [
    "df3[df3[\"id\"] == 137739]"
   ]
  },
  {
   "cell_type": "markdown",
   "metadata": {},
   "source": [
    "### Conclusion about the 3 dataframes\n",
    "Here can be seen, that the first dataset contains only nutrions that are not in the other ones, bt is is not compulsory.\n",
    "The df1 can be left."
   ]
  },
  {
   "cell_type": "markdown",
   "metadata": {},
   "source": [
    "### Patching total time"
   ]
  },
  {
   "cell_type": "code",
   "execution_count": 10,
   "metadata": {},
   "outputs": [],
   "source": [
    "df2['TotalTime'] = df2['TotalTime'].str[2:-1].str.split('H')\n",
    "df2['TotalTime'] = df2['TotalTime'].apply(lambda x: (int(x[0]) * 60 + int(x[1])) if (len(x) > 1) else x[0])"
   ]
  },
  {
   "cell_type": "code",
   "execution_count": 11,
   "metadata": {},
   "outputs": [
    {
     "data": {
      "text/plain": [
       "0         1485\n",
       "1          265\n",
       "2           35\n",
       "3         1460\n",
       "4           50\n",
       "          ... \n",
       "522512      95\n",
       "522513     210\n",
       "522514       4\n",
       "522515      15\n",
       "522516      40\n",
       "Name: TotalTime, Length: 522517, dtype: object"
      ]
     },
     "execution_count": 11,
     "metadata": {},
     "output_type": "execute_result"
    }
   ],
   "source": [
    "df2['TotalTime']"
   ]
  },
  {
   "cell_type": "markdown",
   "metadata": {},
   "source": [
    "### Patching submitted"
   ]
  },
  {
   "cell_type": "code",
   "execution_count": 12,
   "metadata": {
    "scrolled": true
   },
   "outputs": [],
   "source": [
    "df2[\"DatePublished\"] = df2['DatePublished'].str[:10]"
   ]
  },
  {
   "cell_type": "code",
   "execution_count": 13,
   "metadata": {},
   "outputs": [
    {
     "data": {
      "text/plain": [
       "0         1999-08-09\n",
       "1         1999-08-29\n",
       "2         1999-09-05\n",
       "3         1999-09-03\n",
       "4         1999-09-19\n",
       "             ...    \n",
       "522512    2020-12-22\n",
       "522513    2020-12-22\n",
       "522514    2020-12-22\n",
       "522515    2020-12-22\n",
       "522516    2020-12-22\n",
       "Name: DatePublished, Length: 522517, dtype: object"
      ]
     },
     "execution_count": 13,
     "metadata": {},
     "output_type": "execute_result"
    }
   ],
   "source": [
    "df2[\"DatePublished\"]"
   ]
  },
  {
   "cell_type": "markdown",
   "metadata": {},
   "source": [
    "---"
   ]
  },
  {
   "cell_type": "markdown",
   "metadata": {},
   "source": [
    "# 2. Merge"
   ]
  },
  {
   "cell_type": "code",
   "execution_count": 14,
   "metadata": {},
   "outputs": [],
   "source": [
    "df_merged = pd.merge(df3, df2, on=\"id\", how=\"left\")"
   ]
  },
  {
   "cell_type": "raw",
   "metadata": {},
   "source": [
    "df_merged.columns"
   ]
  },
  {
   "cell_type": "markdown",
   "metadata": {},
   "source": [
    "___"
   ]
  },
  {
   "cell_type": "markdown",
   "metadata": {},
   "source": [
    "# 3. Refining"
   ]
  },
  {
   "cell_type": "markdown",
   "metadata": {},
   "source": [
    "### Drop duplicates due to megre"
   ]
  },
  {
   "cell_type": "raw",
   "metadata": {},
   "source": [
    "df_merged.drop(['description', 'RecipeIngredientParts', 'RecipeIngredientQuantities', 'Name', 'Keywords'], axis=1, inplace=True)"
   ]
  },
  {
   "cell_type": "markdown",
   "metadata": {},
   "source": [
    "### Simplify column names"
   ]
  },
  {
   "cell_type": "code",
   "execution_count": 15,
   "metadata": {},
   "outputs": [],
   "source": [
    "df_merged.rename(columns={\n",
    "    #\"contributor_id\":\"author_id\",\n",
    "    \"AuthorName\":\"author_name\",\n",
    "    #\"Description\":\"description\",\n",
    "    \"TotalTime\":\"minutes\",\n",
    "    \"DatePublished\":\"submitted\",\n",
    "    \"Images\":\"image_url\",\n",
    "    \"RecipeCategory\":\"category\",\n",
    "    #\"Keywords\":\"keywords\",\n",
    "    \"AggregatedRating\":\"rating\",\n",
    "    \"ReviewCount\":\"review_count\",\n",
    "    \"Calories\":\"calories\"\n",
    "}, inplace=True)"
   ]
  },
  {
   "cell_type": "markdown",
   "metadata": {},
   "source": [
    "### Reindexing"
   ]
  },
  {
   "cell_type": "code",
   "execution_count": 16,
   "metadata": {},
   "outputs": [],
   "source": [
    "reindex_columns = [\"id\",\"name\",\"author_name\",\"submitted\",\"image_url\",\"minutes\",\"description\",\"category\",\"tags\",\"search_terms\",\"steps\",\"ingredients\",\"ingredients_raw_str\",\"serving_size\",\"servings\",\"calories\",\"rating\",\"review_count\"]\n",
    "df_merged = df_merged.reindex(columns=reindex_columns)"
   ]
  },
  {
   "cell_type": "markdown",
   "metadata": {},
   "source": [
    "### Replace NaN values to 0"
   ]
  },
  {
   "cell_type": "code",
   "execution_count": 17,
   "metadata": {},
   "outputs": [],
   "source": [
    "df_merged[\"minutes\"].fillna(0, inplace=True)\n",
    "df_merged[\"review_count\"].fillna(0, inplace=True)"
   ]
  },
  {
   "cell_type": "markdown",
   "metadata": {},
   "source": [
    "### Change data types"
   ]
  },
  {
   "cell_type": "code",
   "execution_count": 18,
   "metadata": {},
   "outputs": [],
   "source": [
    "df_merged[\"minutes\"] = df_merged[\"minutes\"].astype(int)"
   ]
  },
  {
   "cell_type": "code",
   "execution_count": 19,
   "metadata": {},
   "outputs": [],
   "source": [
    "df_merged[\"review_count\"] = df_merged[\"review_count\"].astype(int)"
   ]
  },
  {
   "cell_type": "code",
   "execution_count": 20,
   "metadata": {
    "scrolled": false
   },
   "outputs": [
    {
     "name": "stdout",
     "output_type": "stream",
     "text": [
      "<class 'pandas.core.frame.DataFrame'>\n",
      "Int64Index: 494963 entries, 0 to 494962\n",
      "Data columns (total 18 columns):\n",
      " #   Column               Non-Null Count   Dtype  \n",
      "---  ------               --------------   -----  \n",
      " 0   id                   494963 non-null  int64  \n",
      " 1   name                 494963 non-null  object \n",
      " 2   author_name          494949 non-null  object \n",
      " 3   submitted            494949 non-null  object \n",
      " 4   image_url            494949 non-null  object \n",
      " 5   minutes              494963 non-null  int64  \n",
      " 6   description          485365 non-null  object \n",
      " 7   category             494294 non-null  object \n",
      " 8   tags                 494963 non-null  object \n",
      " 9   search_terms         494963 non-null  object \n",
      " 10  steps                494963 non-null  object \n",
      " 11  ingredients          494963 non-null  object \n",
      " 12  ingredients_raw_str  494963 non-null  object \n",
      " 13  serving_size         494963 non-null  object \n",
      " 14  servings             494963 non-null  int64  \n",
      " 15  review_count         494963 non-null  int64  \n",
      " 16  calories             494949 non-null  float64\n",
      " 17  rating               258307 non-null  float64\n",
      "dtypes: float64(2), int64(4), object(12)\n",
      "memory usage: 71.7+ MB\n"
     ]
    }
   ],
   "source": [
    "df_merged.info()"
   ]
  },
  {
   "cell_type": "markdown",
   "metadata": {},
   "source": [
    "## 3.1 Dealing with false data\n",
    "There are several records that are having multiple NaN values. They might be unnecessary."
   ]
  },
  {
   "cell_type": "code",
   "execution_count": 21,
   "metadata": {},
   "outputs": [
    {
     "data": {
      "text/plain": [
       "9598"
      ]
     },
     "execution_count": 21,
     "metadata": {},
     "output_type": "execute_result"
    }
   ],
   "source": [
    "len(df_merged[df_merged['description'].isna()])"
   ]
  },
  {
   "cell_type": "markdown",
   "metadata": {},
   "source": [
    "### Drop unwanted lines"
   ]
  },
  {
   "cell_type": "raw",
   "metadata": {},
   "source": [
    "df_merged = df_merged[df_merged['description'].notna()]"
   ]
  },
  {
   "cell_type": "markdown",
   "metadata": {},
   "source": [
    "### Patching missing images with NaN values"
   ]
  },
  {
   "cell_type": "code",
   "execution_count": 22,
   "metadata": {},
   "outputs": [],
   "source": [
    "df_merged.loc[df_merged[\"image_url\"] == \"character(0)\", \"image_url\"] = np.nan\n",
    "#df_merged[df_merged[\"image_url\"].isna()]"
   ]
  },
  {
   "cell_type": "markdown",
   "metadata": {},
   "source": [
    "### Separating images\n",
    "Keeping only the first one if there are many."
   ]
  },
  {
   "cell_type": "code",
   "execution_count": 23,
   "metadata": {},
   "outputs": [],
   "source": [
    "def image_separator(img):\n",
    "    if (img is not np.nan) and (img[:2] == \"c(\"):\n",
    "        resu = img[3:].split('\\\",')[0]\n",
    "        return (f'\"{resu}\"')\n",
    "    return img"
   ]
  },
  {
   "cell_type": "code",
   "execution_count": 24,
   "metadata": {},
   "outputs": [],
   "source": [
    "test_image = 'c(\"https://img.sndimg.com/food/image/upload/w_555,h_416,c_fit,fl_progressive,q_95/v1/img/recipes/20/75/25/goj8UrKTNSYVONgsYBeA_0S9A3808.jpg\", \"https://img.sndimg.com/food/image/upload/w_555,h_416,c_fit,fl_progressive,q_95/v1/img/recipes/20/75/25/3PwRRgWPQNARxEy98tJ6_0S9A3805.jpg\", \"https://img.sndimg.com/food/image/upload/w_555,h_416,c_fit,fl_progressive,q_95/v1/img/recipes/20/75/25/zgJ1MMCwQKeNGWlXs8E9_0S9A3827.jpg\", \"https://img.sndimg.com/food/image/upload/w_555,h_416,c_fit,fl_progressive,q_95/v1/img/recipes/20/75/25/cSdUyOFASsCuBEQR6ZX4_IMG_0257.JPG\", \\n\"https://img.sndimg.com/food/image/upload/w_555,h_416,c_fit,fl_progressive,q_95/v1/img/recipes/20/75/25/1HoI6OmTTX6XhhNWfQHA_1512733305639530.jpg\", \"https://img.sndimg.com/food/image/upload/w_555,h_416,c_fit,fl_progressive,q_95/v1/img/recipes/20/75/25/pic7ZjJDF.jpg\", \"https://img.sndimg.com/food/image/upload/w_555,h_416,c_fit,fl_progressive,q_95/v1/img/recipes/20/75/25/pico1sqDg.jpg\", \"https://img.sndimg.com/food/image/upload/w_555,h_416,c_fit,fl_progressive,q_95/v1/img/recipes/20/75/25/pic8RZ4tX.jpg\", \\n\"https://img.sndimg.com/food/image/upload/w_555,h_416,c_fit,fl_progressive,q_95/v1/img/recipes/20/75/25/piceIbNzr.jpg\", \"https://img.sndimg.com/food/image/upload/w_555,h_416,c_fit,fl_progressive,q_95/v1/img/recipes/20/75/25/pic3ezacq.jpg\", \"https://img.sndimg.com/food/image/upload/w_555,h_416,c_fit,fl_progressive,q_95/v1/img/recipes/20/75/25/pico5O6nj.jpg\", \"https://img.sndimg.com/food/image/upload/w_555,h_416,c_fit,fl_progressive,q_95/v1/img/recipes/20/75/25/picx5uHkq.jpg\")'\n",
    "test_image2 = np.nan"
   ]
  },
  {
   "cell_type": "code",
   "execution_count": 25,
   "metadata": {
    "scrolled": false
   },
   "outputs": [
    {
     "name": "stdout",
     "output_type": "stream",
     "text": [
      "\"https://img.sndimg.com/food/image/upload/w_555,h_416,c_fit,fl_progressive,q_95/v1/img/recipes/20/75/25/goj8UrKTNSYVONgsYBeA_0S9A3808.jpg\"\n"
     ]
    }
   ],
   "source": [
    "print((image_separator(test_image)))"
   ]
  },
  {
   "cell_type": "raw",
   "metadata": {},
   "source": [
    "df_merged[\"image_url\"]"
   ]
  },
  {
   "cell_type": "code",
   "execution_count": 26,
   "metadata": {
    "scrolled": true
   },
   "outputs": [],
   "source": [
    "df_merged[\"image_url\"] = df_merged.apply(lambda x: image_separator(x[\"image_url\"]), axis=1)"
   ]
  },
  {
   "cell_type": "markdown",
   "metadata": {},
   "source": [
    "### Change border to solid"
   ]
  },
  {
   "cell_type": "code",
   "execution_count": 27,
   "metadata": {},
   "outputs": [],
   "source": [
    "df_merged[\"search_terms\"] = df_merged[\"search_terms\"].apply(lambda x: '[' + x[1:-1] + ']')"
   ]
  },
  {
   "cell_type": "markdown",
   "metadata": {},
   "source": [
    "## Check"
   ]
  },
  {
   "cell_type": "code",
   "execution_count": 28,
   "metadata": {
    "scrolled": false
   },
   "outputs": [
    {
     "data": {
      "text/html": [
       "<div>\n",
       "<style scoped>\n",
       "    .dataframe tbody tr th:only-of-type {\n",
       "        vertical-align: middle;\n",
       "    }\n",
       "\n",
       "    .dataframe tbody tr th {\n",
       "        vertical-align: top;\n",
       "    }\n",
       "\n",
       "    .dataframe thead th {\n",
       "        text-align: right;\n",
       "    }\n",
       "</style>\n",
       "<table border=\"1\" class=\"dataframe\">\n",
       "  <thead>\n",
       "    <tr style=\"text-align: right;\">\n",
       "      <th></th>\n",
       "      <th>id</th>\n",
       "      <th>name</th>\n",
       "      <th>author_name</th>\n",
       "      <th>submitted</th>\n",
       "      <th>image_url</th>\n",
       "      <th>minutes</th>\n",
       "      <th>description</th>\n",
       "      <th>category</th>\n",
       "      <th>tags</th>\n",
       "      <th>search_terms</th>\n",
       "      <th>steps</th>\n",
       "      <th>ingredients</th>\n",
       "      <th>ingredients_raw_str</th>\n",
       "      <th>serving_size</th>\n",
       "      <th>servings</th>\n",
       "      <th>review_count</th>\n",
       "      <th>calories</th>\n",
       "      <th>rating</th>\n",
       "    </tr>\n",
       "  </thead>\n",
       "  <tbody>\n",
       "    <tr>\n",
       "      <th>0</th>\n",
       "      <td>96313</td>\n",
       "      <td>Grilled Garlic Cheese Grits</td>\n",
       "      <td>Barb G.</td>\n",
       "      <td>2004-07-24</td>\n",
       "      <td>\"https://img.sndimg.com/food/image/upload/w_55...</td>\n",
       "      <td>65</td>\n",
       "      <td>We love grits, this is another good way to ser...</td>\n",
       "      <td>Grains</td>\n",
       "      <td>['time-to-make', 'course', 'main-ingredient', ...</td>\n",
       "      <td>['diabetic', 'low-calorie', 'vegetarian', 'low...</td>\n",
       "      <td>['I a sauce pan, bring water to a boil; slowly...</td>\n",
       "      <td>['water', 'grits', 'salt', 'cheddar cheese', '...</td>\n",
       "      <td>[\"4   cups    water\",\"1   cup   uncooked old f...</td>\n",
       "      <td>1 (155 g)</td>\n",
       "      <td>8</td>\n",
       "      <td>3</td>\n",
       "      <td>144.8</td>\n",
       "      <td>5.0</td>\n",
       "    </tr>\n",
       "    <tr>\n",
       "      <th>1</th>\n",
       "      <td>232037</td>\n",
       "      <td>Simple Shrimp and Andouille Jambalaya</td>\n",
       "      <td>lisar</td>\n",
       "      <td>2007-06-03</td>\n",
       "      <td>NaN</td>\n",
       "      <td>45</td>\n",
       "      <td>Simple, easy and very tasty for when you are i...</td>\n",
       "      <td>One Dish Meal</td>\n",
       "      <td>['60-minutes-or-less', 'time-to-make', 'course...</td>\n",
       "      <td>['dinner', 'shrimp']</td>\n",
       "      <td>['In a food processor, pulse the onion, red pe...</td>\n",
       "      <td>['onion', 'red bell pepper', 'garlic cloves', ...</td>\n",
       "      <td>[\"1   medium    onion, chopped coarse \",\"1   m...</td>\n",
       "      <td>1 (366 g)</td>\n",
       "      <td>4</td>\n",
       "      <td>3</td>\n",
       "      <td>756.5</td>\n",
       "      <td>5.0</td>\n",
       "    </tr>\n",
       "    <tr>\n",
       "      <th>2</th>\n",
       "      <td>41090</td>\n",
       "      <td>black-and-white bean salad</td>\n",
       "      <td>spatchcock</td>\n",
       "      <td>2002-09-24</td>\n",
       "      <td>NaN</td>\n",
       "      <td>5</td>\n",
       "      <td>NaN</td>\n",
       "      <td>Black Beans</td>\n",
       "      <td>['15-minutes-or-less', 'time-to-make', 'course...</td>\n",
       "      <td>['vegetarian', 'salad', 'side', 'dinner', 'veg...</td>\n",
       "      <td>['In a large bowl, combine beans, tomato, onio...</td>\n",
       "      <td>['white beans', 'canned black beans', 'tomatoe...</td>\n",
       "      <td>[\"1   cup   canned white beans, rinsed and dra...</td>\n",
       "      <td>1 (807 g)</td>\n",
       "      <td>1</td>\n",
       "      <td>2</td>\n",
       "      <td>159.0</td>\n",
       "      <td>4.5</td>\n",
       "    </tr>\n",
       "    <tr>\n",
       "      <th>3</th>\n",
       "      <td>60656</td>\n",
       "      <td>Crock Pot Italian Zucchini</td>\n",
       "      <td>Karen in KS</td>\n",
       "      <td>2003-04-22</td>\n",
       "      <td>NaN</td>\n",
       "      <td>370</td>\n",
       "      <td>This is a good recipe for weight watchers. It ...</td>\n",
       "      <td>Vegetable</td>\n",
       "      <td>['weeknight', 'time-to-make', 'course', 'main-...</td>\n",
       "      <td>['side', 'vegetarian', 'italian']</td>\n",
       "      <td>['Put all ingredients in the crock pot and coo...</td>\n",
       "      <td>['zucchini', 'yellow squash', 'diced tomatoes'...</td>\n",
       "      <td>[\"2       zucchini, sliced \",\"2   small    yel...</td>\n",
       "      <td>1 (244 g)</td>\n",
       "      <td>4</td>\n",
       "      <td>1</td>\n",
       "      <td>47.1</td>\n",
       "      <td>4.0</td>\n",
       "    </tr>\n",
       "    <tr>\n",
       "      <th>4</th>\n",
       "      <td>232047</td>\n",
       "      <td>Beef Stew With Dried Cherries</td>\n",
       "      <td>ktdid</td>\n",
       "      <td>2007-06-03</td>\n",
       "      <td>NaN</td>\n",
       "      <td>165</td>\n",
       "      <td>This is a fabulous stew that came from one of ...</td>\n",
       "      <td>Stew</td>\n",
       "      <td>['time-to-make', 'course', 'main-ingredient', ...</td>\n",
       "      <td>['dinner']</td>\n",
       "      <td>['Preheat oven to 350°F.', \"Cut beef into 1 in...</td>\n",
       "      <td>['beef stew meat', 'flour', 'salt', 'allspice'...</td>\n",
       "      <td>[\"3   lbs    beef stew meat\",\"3   tablespoons ...</td>\n",
       "      <td>1 (358 g)</td>\n",
       "      <td>8</td>\n",
       "      <td>0</td>\n",
       "      <td>691.1</td>\n",
       "      <td>NaN</td>\n",
       "    </tr>\n",
       "    <tr>\n",
       "      <th>...</th>\n",
       "      <td>...</td>\n",
       "      <td>...</td>\n",
       "      <td>...</td>\n",
       "      <td>...</td>\n",
       "      <td>...</td>\n",
       "      <td>...</td>\n",
       "      <td>...</td>\n",
       "      <td>...</td>\n",
       "      <td>...</td>\n",
       "      <td>...</td>\n",
       "      <td>...</td>\n",
       "      <td>...</td>\n",
       "      <td>...</td>\n",
       "      <td>...</td>\n",
       "      <td>...</td>\n",
       "      <td>...</td>\n",
       "      <td>...</td>\n",
       "      <td>...</td>\n",
       "    </tr>\n",
       "    <tr>\n",
       "      <th>494958</th>\n",
       "      <td>276465</td>\n",
       "      <td>Blackberry Orange Scones</td>\n",
       "      <td>MsTeechur</td>\n",
       "      <td>2008-01-04</td>\n",
       "      <td>NaN</td>\n",
       "      <td>27</td>\n",
       "      <td>The orange zest makes for a flavorful, not ove...</td>\n",
       "      <td>Scones</td>\n",
       "      <td>['30-minutes-or-less', 'time-to-make', 'course...</td>\n",
       "      <td>['breakfast', 'bread']</td>\n",
       "      <td>['Sift about 2 cups of flour onto a piece of w...</td>\n",
       "      <td>['unbleached flour', 'baking soda', 'butter', ...</td>\n",
       "      <td>[\"2 1/2  cups    unbleached flour\",\"2   teaspo...</td>\n",
       "      <td>1 (83 g)</td>\n",
       "      <td>8</td>\n",
       "      <td>2</td>\n",
       "      <td>244.8</td>\n",
       "      <td>3.5</td>\n",
       "    </tr>\n",
       "    <tr>\n",
       "      <th>494959</th>\n",
       "      <td>257796</td>\n",
       "      <td>Slow Cooker Garlic Chicken With Rosemary</td>\n",
       "      <td>AZRoxy63</td>\n",
       "      <td>2007-10-08</td>\n",
       "      <td>NaN</td>\n",
       "      <td>440</td>\n",
       "      <td>Delicious and easy!</td>\n",
       "      <td>Chicken</td>\n",
       "      <td>['main-ingredient', 'preparation', 'occasion',...</td>\n",
       "      <td>['dinner', 'chicken']</td>\n",
       "      <td>['Place rosemary springs, 1 lemon half, celery...</td>\n",
       "      <td>['roasting chickens', 'lemons', 'rosemary spri...</td>\n",
       "      <td>[\"1 (5   lb)    roasting chickens, rinsed and ...</td>\n",
       "      <td>1 (340 g)</td>\n",
       "      <td>6</td>\n",
       "      <td>1</td>\n",
       "      <td>566.2</td>\n",
       "      <td>4.0</td>\n",
       "    </tr>\n",
       "    <tr>\n",
       "      <th>494960</th>\n",
       "      <td>78003</td>\n",
       "      <td>Pot Roast with Port (Stove Top)</td>\n",
       "      <td>Rick B2</td>\n",
       "      <td>2003-12-05</td>\n",
       "      <td>NaN</td>\n",
       "      <td>115</td>\n",
       "      <td>This is a recipe from the Frugal Gourmet cooki...</td>\n",
       "      <td>Weeknight</td>\n",
       "      <td>['weeknight', 'time-to-make', 'course', 'prepa...</td>\n",
       "      <td>['roast', 'dinner', 'low-sodium', 'low-carb']</td>\n",
       "      <td>['In a large pan, heat oil and brown roast on ...</td>\n",
       "      <td>['boneless beef chuck roast', 'olive oil', 'ta...</td>\n",
       "      <td>[\"2 -3   lbs    boneless beef chuck roast\",\"2 ...</td>\n",
       "      <td>1 (283 g)</td>\n",
       "      <td>4</td>\n",
       "      <td>5</td>\n",
       "      <td>828.2</td>\n",
       "      <td>5.0</td>\n",
       "    </tr>\n",
       "    <tr>\n",
       "      <th>494961</th>\n",
       "      <td>328810</td>\n",
       "      <td>Kapusta ( Cabbage and Kielbasa )</td>\n",
       "      <td>Nikki S</td>\n",
       "      <td>2008-10-04</td>\n",
       "      <td>NaN</td>\n",
       "      <td>2</td>\n",
       "      <td>Cabbage and sausage in tomato sauce</td>\n",
       "      <td>One Dish Meal</td>\n",
       "      <td>['time-to-make', 'course', 'preparation', 'mai...</td>\n",
       "      <td>['dinner']</td>\n",
       "      <td>['Saute bacon in large pan until browned.  Lea...</td>\n",
       "      <td>['cabbage', 'condensed tomato soup', 'kielbasa...</td>\n",
       "      <td>[\"8   cups    cabbage or 2   heads    cabbage,...</td>\n",
       "      <td>1 (564 g)</td>\n",
       "      <td>6</td>\n",
       "      <td>0</td>\n",
       "      <td>688.0</td>\n",
       "      <td>NaN</td>\n",
       "    </tr>\n",
       "    <tr>\n",
       "      <th>494962</th>\n",
       "      <td>9116</td>\n",
       "      <td>Yellow or Zucchini Squash Pie</td>\n",
       "      <td>southern chef in lo</td>\n",
       "      <td>2001-05-28</td>\n",
       "      <td>\"https://img.sndimg.com/food/image/upload/w_55...</td>\n",
       "      <td>40</td>\n",
       "      <td>This recipe was given to my mom from a lady wh...</td>\n",
       "      <td>Cheese</td>\n",
       "      <td>['60-minutes-or-less', 'time-to-make', 'course...</td>\n",
       "      <td>['southern', 'pie', 'dinner', 'side']</td>\n",
       "      <td>['Melt butter in skillet. Add squash, onions, ...</td>\n",
       "      <td>['zucchini', 'onion', 'butter', 'oregano', 'ba...</td>\n",
       "      <td>[\"4   cups    zucchini (can mix the squash if ...</td>\n",
       "      <td>1 (160 g)</td>\n",
       "      <td>6</td>\n",
       "      <td>70</td>\n",
       "      <td>411.0</td>\n",
       "      <td>5.0</td>\n",
       "    </tr>\n",
       "  </tbody>\n",
       "</table>\n",
       "<p>494963 rows × 18 columns</p>\n",
       "</div>"
      ],
      "text/plain": [
       "            id                                      name          author_name  \\\n",
       "0        96313               Grilled Garlic Cheese Grits              Barb G.   \n",
       "1       232037     Simple Shrimp and Andouille Jambalaya                lisar   \n",
       "2        41090                black-and-white bean salad           spatchcock   \n",
       "3        60656                Crock Pot Italian Zucchini          Karen in KS   \n",
       "4       232047             Beef Stew With Dried Cherries                ktdid   \n",
       "...        ...                                       ...                  ...   \n",
       "494958  276465                  Blackberry Orange Scones            MsTeechur   \n",
       "494959  257796  Slow Cooker Garlic Chicken With Rosemary             AZRoxy63   \n",
       "494960   78003           Pot Roast with Port (Stove Top)              Rick B2   \n",
       "494961  328810          Kapusta ( Cabbage and Kielbasa )              Nikki S   \n",
       "494962    9116             Yellow or Zucchini Squash Pie  southern chef in lo   \n",
       "\n",
       "         submitted                                          image_url  \\\n",
       "0       2004-07-24  \"https://img.sndimg.com/food/image/upload/w_55...   \n",
       "1       2007-06-03                                                NaN   \n",
       "2       2002-09-24                                                NaN   \n",
       "3       2003-04-22                                                NaN   \n",
       "4       2007-06-03                                                NaN   \n",
       "...            ...                                                ...   \n",
       "494958  2008-01-04                                                NaN   \n",
       "494959  2007-10-08                                                NaN   \n",
       "494960  2003-12-05                                                NaN   \n",
       "494961  2008-10-04                                                NaN   \n",
       "494962  2001-05-28  \"https://img.sndimg.com/food/image/upload/w_55...   \n",
       "\n",
       "        minutes                                        description  \\\n",
       "0            65  We love grits, this is another good way to ser...   \n",
       "1            45  Simple, easy and very tasty for when you are i...   \n",
       "2             5                                                NaN   \n",
       "3           370  This is a good recipe for weight watchers. It ...   \n",
       "4           165  This is a fabulous stew that came from one of ...   \n",
       "...         ...                                                ...   \n",
       "494958       27  The orange zest makes for a flavorful, not ove...   \n",
       "494959      440                                Delicious and easy!   \n",
       "494960      115  This is a recipe from the Frugal Gourmet cooki...   \n",
       "494961        2                Cabbage and sausage in tomato sauce   \n",
       "494962       40  This recipe was given to my mom from a lady wh...   \n",
       "\n",
       "             category                                               tags  \\\n",
       "0              Grains  ['time-to-make', 'course', 'main-ingredient', ...   \n",
       "1       One Dish Meal  ['60-minutes-or-less', 'time-to-make', 'course...   \n",
       "2         Black Beans  ['15-minutes-or-less', 'time-to-make', 'course...   \n",
       "3           Vegetable  ['weeknight', 'time-to-make', 'course', 'main-...   \n",
       "4                Stew  ['time-to-make', 'course', 'main-ingredient', ...   \n",
       "...               ...                                                ...   \n",
       "494958         Scones  ['30-minutes-or-less', 'time-to-make', 'course...   \n",
       "494959        Chicken  ['main-ingredient', 'preparation', 'occasion',...   \n",
       "494960      Weeknight  ['weeknight', 'time-to-make', 'course', 'prepa...   \n",
       "494961  One Dish Meal  ['time-to-make', 'course', 'preparation', 'mai...   \n",
       "494962         Cheese  ['60-minutes-or-less', 'time-to-make', 'course...   \n",
       "\n",
       "                                             search_terms  \\\n",
       "0       ['diabetic', 'low-calorie', 'vegetarian', 'low...   \n",
       "1                                    ['dinner', 'shrimp']   \n",
       "2       ['vegetarian', 'salad', 'side', 'dinner', 'veg...   \n",
       "3                       ['side', 'vegetarian', 'italian']   \n",
       "4                                              ['dinner']   \n",
       "...                                                   ...   \n",
       "494958                             ['breakfast', 'bread']   \n",
       "494959                              ['dinner', 'chicken']   \n",
       "494960      ['roast', 'dinner', 'low-sodium', 'low-carb']   \n",
       "494961                                         ['dinner']   \n",
       "494962              ['southern', 'pie', 'dinner', 'side']   \n",
       "\n",
       "                                                    steps  \\\n",
       "0       ['I a sauce pan, bring water to a boil; slowly...   \n",
       "1       ['In a food processor, pulse the onion, red pe...   \n",
       "2       ['In a large bowl, combine beans, tomato, onio...   \n",
       "3       ['Put all ingredients in the crock pot and coo...   \n",
       "4       ['Preheat oven to 350°F.', \"Cut beef into 1 in...   \n",
       "...                                                   ...   \n",
       "494958  ['Sift about 2 cups of flour onto a piece of w...   \n",
       "494959  ['Place rosemary springs, 1 lemon half, celery...   \n",
       "494960  ['In a large pan, heat oil and brown roast on ...   \n",
       "494961  ['Saute bacon in large pan until browned.  Lea...   \n",
       "494962  ['Melt butter in skillet. Add squash, onions, ...   \n",
       "\n",
       "                                              ingredients  \\\n",
       "0       ['water', 'grits', 'salt', 'cheddar cheese', '...   \n",
       "1       ['onion', 'red bell pepper', 'garlic cloves', ...   \n",
       "2       ['white beans', 'canned black beans', 'tomatoe...   \n",
       "3       ['zucchini', 'yellow squash', 'diced tomatoes'...   \n",
       "4       ['beef stew meat', 'flour', 'salt', 'allspice'...   \n",
       "...                                                   ...   \n",
       "494958  ['unbleached flour', 'baking soda', 'butter', ...   \n",
       "494959  ['roasting chickens', 'lemons', 'rosemary spri...   \n",
       "494960  ['boneless beef chuck roast', 'olive oil', 'ta...   \n",
       "494961  ['cabbage', 'condensed tomato soup', 'kielbasa...   \n",
       "494962  ['zucchini', 'onion', 'butter', 'oregano', 'ba...   \n",
       "\n",
       "                                      ingredients_raw_str serving_size  \\\n",
       "0       [\"4   cups    water\",\"1   cup   uncooked old f...    1 (155 g)   \n",
       "1       [\"1   medium    onion, chopped coarse \",\"1   m...    1 (366 g)   \n",
       "2       [\"1   cup   canned white beans, rinsed and dra...    1 (807 g)   \n",
       "3       [\"2       zucchini, sliced \",\"2   small    yel...    1 (244 g)   \n",
       "4       [\"3   lbs    beef stew meat\",\"3   tablespoons ...    1 (358 g)   \n",
       "...                                                   ...          ...   \n",
       "494958  [\"2 1/2  cups    unbleached flour\",\"2   teaspo...     1 (83 g)   \n",
       "494959  [\"1 (5   lb)    roasting chickens, rinsed and ...    1 (340 g)   \n",
       "494960  [\"2 -3   lbs    boneless beef chuck roast\",\"2 ...    1 (283 g)   \n",
       "494961  [\"8   cups    cabbage or 2   heads    cabbage,...    1 (564 g)   \n",
       "494962  [\"4   cups    zucchini (can mix the squash if ...    1 (160 g)   \n",
       "\n",
       "        servings  review_count  calories  rating  \n",
       "0              8             3     144.8     5.0  \n",
       "1              4             3     756.5     5.0  \n",
       "2              1             2     159.0     4.5  \n",
       "3              4             1      47.1     4.0  \n",
       "4              8             0     691.1     NaN  \n",
       "...          ...           ...       ...     ...  \n",
       "494958         8             2     244.8     3.5  \n",
       "494959         6             1     566.2     4.0  \n",
       "494960         4             5     828.2     5.0  \n",
       "494961         6             0     688.0     NaN  \n",
       "494962         6            70     411.0     5.0  \n",
       "\n",
       "[494963 rows x 18 columns]"
      ]
     },
     "execution_count": 28,
     "metadata": {},
     "output_type": "execute_result"
    }
   ],
   "source": [
    "df_merged"
   ]
  },
  {
   "cell_type": "markdown",
   "metadata": {},
   "source": [
    "--------"
   ]
  },
  {
   "cell_type": "markdown",
   "metadata": {},
   "source": [
    "# 4. Save"
   ]
  },
  {
   "cell_type": "code",
   "execution_count": 29,
   "metadata": {},
   "outputs": [],
   "source": [
    "df_merged.to_csv('datasets/refined/recipes_refined_merged.csv', sep='|', index=False)"
   ]
  },
  {
   "cell_type": "code",
   "execution_count": 30,
   "metadata": {},
   "outputs": [],
   "source": [
    "df_merged.to_pickle('datasets/refined/recipes_refined_merged.pkl')"
   ]
  },
  {
   "cell_type": "code",
   "execution_count": null,
   "metadata": {},
   "outputs": [],
   "source": []
  }
 ],
 "metadata": {
  "kernelspec": {
   "display_name": "Python 3 (ipykernel)",
   "language": "python",
   "name": "python3"
  },
  "language_info": {
   "codemirror_mode": {
    "name": "ipython",
    "version": 3
   },
   "file_extension": ".py",
   "mimetype": "text/x-python",
   "name": "python",
   "nbconvert_exporter": "python",
   "pygments_lexer": "ipython3",
   "version": "3.9.12"
  }
 },
 "nbformat": 4,
 "nbformat_minor": 4
}
