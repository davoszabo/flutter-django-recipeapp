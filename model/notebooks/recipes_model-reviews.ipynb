{
 "cells": [
  {
   "cell_type": "markdown",
   "id": "f219a187",
   "metadata": {},
   "source": [
    "# 0. Imports"
   ]
  },
  {
   "cell_type": "code",
   "execution_count": 2,
   "id": "05cd2531",
   "metadata": {},
   "outputs": [],
   "source": [
    "import pandas as pd\n",
    "import numpy as np"
   ]
  },
  {
   "cell_type": "markdown",
   "id": "b31f8b4c",
   "metadata": {},
   "source": [
    "---"
   ]
  },
  {
   "cell_type": "markdown",
   "id": "78f01b08",
   "metadata": {},
   "source": [
    "# 1. Load datasets"
   ]
  },
  {
   "cell_type": "code",
   "execution_count": 3,
   "id": "3b1504a8",
   "metadata": {},
   "outputs": [],
   "source": [
    "df_reviews = pd.read_csv(\"datasets/raw/reviews.csv\")\n",
    "df_reviews.to_pickle('datasets/raw/reviews.pkl')"
   ]
  },
  {
   "cell_type": "code",
   "execution_count": 4,
   "id": "23ce2623",
   "metadata": {},
   "outputs": [],
   "source": [
    "df_reviews = pd.read_pickle('datasets/raw/reviews.pkl')"
   ]
  },
  {
   "cell_type": "code",
   "execution_count": 5,
   "id": "76a60236",
   "metadata": {},
   "outputs": [
    {
     "data": {
      "text/plain": [
       "24748"
      ]
     },
     "execution_count": 5,
     "metadata": {},
     "output_type": "execute_result"
    }
   ],
   "source": [
    "df_recipes = pd.read_csv(\"datasets/sample/recipes_sample_main.csv\", sep=';')\n",
    "len(df_recipes)"
   ]
  },
  {
   "cell_type": "raw",
   "id": "6c53efc9",
   "metadata": {},
   "source": [
    "df_recipes = pd.read_pickle('datasets/refined/recipes_refined_merged_char.pkl')\n",
    "len(df_recipes)"
   ]
  },
  {
   "cell_type": "markdown",
   "id": "011034af",
   "metadata": {},
   "source": [
    "### Make sample df"
   ]
  },
  {
   "cell_type": "markdown",
   "id": "8aec83dd",
   "metadata": {},
   "source": [
    "df_sample = df_recipes.sample(frac = .1)\n",
    "len(df_sample)"
   ]
  },
  {
   "cell_type": "markdown",
   "id": "6da34c13",
   "metadata": {},
   "source": [
    "### Save sample (CSV+PICKLE) "
   ]
  },
  {
   "cell_type": "raw",
   "id": "c65ad7b9",
   "metadata": {},
   "source": [
    "df_sample = pd.read_pickle('sample/refined_recipes_2_sample_main_attempt.pkl')"
   ]
  },
  {
   "cell_type": "raw",
   "id": "39a28fca",
   "metadata": {},
   "source": [
    "df_sample = pd.read_csv(\"sample/refined_recipes_2_sample_main_attempt.csv\", sep=';')"
   ]
  },
  {
   "cell_type": "raw",
   "id": "620681e5",
   "metadata": {},
   "source": [
    "df_sample.drop(columns=[\"listed\"], inplace=True)"
   ]
  },
  {
   "cell_type": "raw",
   "id": "6e9dacc8",
   "metadata": {},
   "source": [
    "df_sample['review_count'] = df_sample['review_count'].astype('Int64')"
   ]
  },
  {
   "cell_type": "raw",
   "id": "a62317b4",
   "metadata": {
    "scrolled": true
   },
   "source": [
    "for col in [\"tags\", \"steps\", \"ingredients\", \"ingredients_raw_str\", \"search_terms\"]:\n",
    "    #df_merged[col] = df_merged[col].str.replace('[','{').str.replace(']','}', regex=False).str.replace(\"'\",'\"').str.replace(\"'\",'\"')    \n",
    "    \n",
    "    df_sample[col] = df_sample[col].str.replace(\"{\",'(').str.replace(\"}\",')')\n",
    "    df_sample[col] = \"{\" + df_sample[col].str[1:-1] + \"}\"\n",
    "    "
   ]
  },
  {
   "cell_type": "raw",
   "id": "ba1e8012",
   "metadata": {},
   "source": [
    "for col in [\"tags\", \"steps\", \"ingredients\", \"ingredients_raw_str\", \"search_terms\"]:\n",
    "    df_sample[col] = df_sample[col].str.replace(', \"','', regex=False)   "
   ]
  },
  {
   "cell_type": "raw",
   "id": "bf94512c",
   "metadata": {
    "scrolled": true
   },
   "source": [
    "df_sample"
   ]
  },
  {
   "cell_type": "raw",
   "id": "a2e91448",
   "metadata": {},
   "source": [
    "df_sample.to_csv('sample/refined_recipes_2_sample_main.csv', index=False, sep=\";\")\n",
    "df_sample.to_pickle('sample/refined_recipes_2_sample_main.pkl')"
   ]
  },
  {
   "cell_type": "markdown",
   "id": "2817dde9",
   "metadata": {},
   "source": [
    "## 1.1 Load from pickle"
   ]
  },
  {
   "cell_type": "raw",
   "id": "e4cb285c",
   "metadata": {},
   "source": [
    "df_sample = pd.read_pickle('sample/refined_recipes_2_sample_main.pkl')"
   ]
  },
  {
   "cell_type": "markdown",
   "id": "36be202d",
   "metadata": {},
   "source": [
    "### Override if necessary"
   ]
  },
  {
   "cell_type": "raw",
   "id": "c991b761",
   "metadata": {},
   "source": [
    "df_recipes = df_sample"
   ]
  },
  {
   "cell_type": "markdown",
   "id": "52fcea0a",
   "metadata": {},
   "source": [
    "---"
   ]
  },
  {
   "cell_type": "markdown",
   "id": "bd5e2e42",
   "metadata": {},
   "source": [
    "# 2. Refine "
   ]
  },
  {
   "cell_type": "markdown",
   "id": "c87170ba",
   "metadata": {},
   "source": [
    "### Review simplify"
   ]
  },
  {
   "cell_type": "code",
   "execution_count": 6,
   "id": "c3f536bb",
   "metadata": {},
   "outputs": [],
   "source": [
    "df_reviews.drop([\"ReviewId\", \"AuthorName\", \"Review\", \"DateSubmitted\", \"DateModified\"], axis=1, inplace = True)\n",
    "df_reviews.columns = [\"Item\", \"User\", \"Rating\"]\n",
    "df_reviews = df_reviews[[\"User\", \"Item\", \"Rating\"]]"
   ]
  },
  {
   "cell_type": "markdown",
   "id": "d305f23b",
   "metadata": {},
   "source": [
    "### Filtering reviews"
   ]
  },
  {
   "cell_type": "code",
   "execution_count": 7,
   "id": "c5075ac0",
   "metadata": {},
   "outputs": [
    {
     "data": {
      "text/plain": [
       "23429"
      ]
     },
     "execution_count": 7,
     "metadata": {},
     "output_type": "execute_result"
    }
   ],
   "source": [
    "df_recipe_review_counts = df_reviews.groupby(['Item']).size()\n",
    "\n",
    "df_filtered_recipes = df_recipe_review_counts.loc[(df_recipe_review_counts > 10)]\n",
    "\n",
    "filtered_recipes_list = df_filtered_recipes.index.tolist()\n",
    "\n",
    "len(filtered_recipes_list)"
   ]
  },
  {
   "cell_type": "markdown",
   "id": "8c671faf",
   "metadata": {},
   "source": [
    "### Is the reviewed recipe in the main dataset (narrowing)"
   ]
  },
  {
   "cell_type": "code",
   "execution_count": 8,
   "id": "50ec8f35",
   "metadata": {},
   "outputs": [
    {
     "data": {
      "text/plain": [
       "1192"
      ]
     },
     "execution_count": 8,
     "metadata": {},
     "output_type": "execute_result"
    }
   ],
   "source": [
    "all_recipes_list = df_recipes.id.tolist()\n",
    "\n",
    "filtered_all_recipes_list = [value for value in filtered_recipes_list if value in all_recipes_list]\n",
    "\n",
    "len(filtered_all_recipes_list)"
   ]
  },
  {
   "cell_type": "code",
   "execution_count": 9,
   "id": "04521488",
   "metadata": {
    "scrolled": true
   },
   "outputs": [
    {
     "data": {
      "text/plain": [
       "User      38234\n",
       "Item      38234\n",
       "Rating    38234\n",
       "dtype: int64"
      ]
     },
     "execution_count": 9,
     "metadata": {},
     "output_type": "execute_result"
    }
   ],
   "source": [
    "df_recipe_ratings = df_reviews[df_reviews['Item'].isin(filtered_all_recipes_list)]\n",
    "df_recipe_ratings.count()"
   ]
  },
  {
   "cell_type": "code",
   "execution_count": 10,
   "id": "01ea4dd1",
   "metadata": {},
   "outputs": [
    {
     "data": {
      "text/html": [
       "<div>\n",
       "<style scoped>\n",
       "    .dataframe tbody tr th:only-of-type {\n",
       "        vertical-align: middle;\n",
       "    }\n",
       "\n",
       "    .dataframe tbody tr th {\n",
       "        vertical-align: top;\n",
       "    }\n",
       "\n",
       "    .dataframe thead th {\n",
       "        text-align: right;\n",
       "    }\n",
       "</style>\n",
       "<table border=\"1\" class=\"dataframe\">\n",
       "  <thead>\n",
       "    <tr style=\"text-align: right;\">\n",
       "      <th></th>\n",
       "      <th>User</th>\n",
       "      <th>Item</th>\n",
       "      <th>Rating</th>\n",
       "    </tr>\n",
       "  </thead>\n",
       "  <tbody>\n",
       "    <tr>\n",
       "      <th>5</th>\n",
       "      <td>2046</td>\n",
       "      <td>5221</td>\n",
       "      <td>4</td>\n",
       "    </tr>\n",
       "    <tr>\n",
       "      <th>12</th>\n",
       "      <td>2369</td>\n",
       "      <td>5221</td>\n",
       "      <td>5</td>\n",
       "    </tr>\n",
       "    <tr>\n",
       "      <th>45</th>\n",
       "      <td>2178</td>\n",
       "      <td>4366</td>\n",
       "      <td>5</td>\n",
       "    </tr>\n",
       "    <tr>\n",
       "      <th>111</th>\n",
       "      <td>2525</td>\n",
       "      <td>8468</td>\n",
       "      <td>0</td>\n",
       "    </tr>\n",
       "    <tr>\n",
       "      <th>170</th>\n",
       "      <td>4074</td>\n",
       "      <td>5221</td>\n",
       "      <td>5</td>\n",
       "    </tr>\n",
       "    <tr>\n",
       "      <th>...</th>\n",
       "      <td>...</td>\n",
       "      <td>...</td>\n",
       "      <td>...</td>\n",
       "    </tr>\n",
       "    <tr>\n",
       "      <th>1401625</th>\n",
       "      <td>2002889404</td>\n",
       "      <td>87058</td>\n",
       "      <td>2</td>\n",
       "    </tr>\n",
       "    <tr>\n",
       "      <th>1401631</th>\n",
       "      <td>2002889744</td>\n",
       "      <td>91762</td>\n",
       "      <td>5</td>\n",
       "    </tr>\n",
       "    <tr>\n",
       "      <th>1401817</th>\n",
       "      <td>2002897355</td>\n",
       "      <td>22430</td>\n",
       "      <td>1</td>\n",
       "    </tr>\n",
       "    <tr>\n",
       "      <th>1401929</th>\n",
       "      <td>2038463</td>\n",
       "      <td>26370</td>\n",
       "      <td>0</td>\n",
       "    </tr>\n",
       "    <tr>\n",
       "      <th>1401936</th>\n",
       "      <td>2002900649</td>\n",
       "      <td>436332</td>\n",
       "      <td>5</td>\n",
       "    </tr>\n",
       "  </tbody>\n",
       "</table>\n",
       "<p>38234 rows × 3 columns</p>\n",
       "</div>"
      ],
      "text/plain": [
       "               User    Item  Rating\n",
       "5              2046    5221       4\n",
       "12             2369    5221       5\n",
       "45             2178    4366       5\n",
       "111            2525    8468       0\n",
       "170            4074    5221       5\n",
       "...             ...     ...     ...\n",
       "1401625  2002889404   87058       2\n",
       "1401631  2002889744   91762       5\n",
       "1401817  2002897355   22430       1\n",
       "1401929     2038463   26370       0\n",
       "1401936  2002900649  436332       5\n",
       "\n",
       "[38234 rows x 3 columns]"
      ]
     },
     "execution_count": 10,
     "metadata": {},
     "output_type": "execute_result"
    }
   ],
   "source": [
    "df_recipe_ratings"
   ]
  },
  {
   "cell_type": "markdown",
   "id": "6f9d3a33",
   "metadata": {},
   "source": [
    "### Save recipe ratings"
   ]
  },
  {
   "cell_type": "code",
   "execution_count": 12,
   "id": "56cc2b2f",
   "metadata": {
    "scrolled": true
   },
   "outputs": [],
   "source": [
    "df_recipe_ratings.to_pickle('serialized-model/recipe_ratings.pkl')"
   ]
  },
  {
   "cell_type": "raw",
   "id": "ec32196d",
   "metadata": {},
   "source": [
    "df_recipe_ratings = pd.read_pickle('serialized-model/recipe_ratings.pkl')"
   ]
  },
  {
   "cell_type": "markdown",
   "id": "736d8353",
   "metadata": {},
   "source": [
    "---"
   ]
  },
  {
   "cell_type": "markdown",
   "id": "8d640010",
   "metadata": {},
   "source": [
    "# SAMPLE"
   ]
  },
  {
   "cell_type": "raw",
   "id": "b4f97a21",
   "metadata": {},
   "source": [
    "df_thesis = df_recipes.loc[df_recipes[\"review_count\"] > 10]"
   ]
  },
  {
   "cell_type": "raw",
   "id": "a9a816d8",
   "metadata": {},
   "source": [
    "df_thesis = df_thesis.sample(n=40)"
   ]
  },
  {
   "cell_type": "raw",
   "id": "42ae1514",
   "metadata": {},
   "source": [
    "df_thesis_list = df_thesis.id.to_list()\n",
    "df_thesis"
   ]
  },
  {
   "cell_type": "raw",
   "id": "b5c3197e",
   "metadata": {},
   "source": [
    "df_ratings_thesis = df_recipe_ratings.loc[df_recipe_ratings[\"Item\"].isin(df_thesis_list)].groupby(by=[\"User\"]).count()"
   ]
  },
  {
   "cell_type": "raw",
   "id": "41ee15b8",
   "metadata": {},
   "source": [
    "df_rated_more_than_two = df_ratings_thesis.loc[df_ratings_thesis[\"Item\"].isin([3,4])].index.to_list()"
   ]
  },
  {
   "cell_type": "raw",
   "id": "d2e48bfe",
   "metadata": {
    "scrolled": true
   },
   "source": [
    "df_rated_more_than_two"
   ]
  },
  {
   "cell_type": "raw",
   "id": "d36a7bab",
   "metadata": {
    "scrolled": true
   },
   "source": [
    "df_thesis_table_almost = df_recipe_ratings.loc[df_recipe_ratings[\"User\"].isin(df_rated_more_than_two)].loc[df_recipe_ratings[\"Item\"].isin(df_thesis_list)]"
   ]
  },
  {
   "cell_type": "raw",
   "id": "5a63c83c",
   "metadata": {},
   "source": [
    "df_thesis_table_almost"
   ]
  },
  {
   "cell_type": "raw",
   "id": "ee2e46b9",
   "metadata": {},
   "source": [
    "p_table = pd.pivot_table(df_thesis_table_almost, index = [\"User\", \"Item\"])"
   ]
  },
  {
   "cell_type": "raw",
   "id": "90bd98df",
   "metadata": {},
   "source": [
    "p_table"
   ]
  },
  {
   "cell_type": "raw",
   "id": "1e613e8f",
   "metadata": {
    "scrolled": true
   },
   "source": [
    "p_table = pd.crosstab(df_thesis_table_almost.User, df_thesis_table_almost.Item)\n",
    "p_table"
   ]
  },
  {
   "cell_type": "raw",
   "id": "3c408445",
   "metadata": {},
   "source": [
    "with pd.option_context('display.max_rows', None, 'display.max_columns', None):  # more options can be specified also\n",
    "    display(p_table.replace(0, \"-\"))"
   ]
  },
  {
   "cell_type": "markdown",
   "id": "c192c92b",
   "metadata": {},
   "source": [
    "# Add new user"
   ]
  },
  {
   "cell_type": "raw",
   "id": "eecbfa0c",
   "metadata": {},
   "source": [
    "### Adding new user reviews"
   ]
  },
  {
   "cell_type": "raw",
   "id": "86e45967",
   "metadata": {},
   "source": [
    "new_user_liked_recipes = [12349, 20731, 73499]"
   ]
  },
  {
   "cell_type": "raw",
   "id": "f8f8987d",
   "metadata": {
    "scrolled": true
   },
   "source": [
    "df_new_user = pd.DataFrame({\"User\": 1853000001, \"Item\": new_user_liked_recipes, \"Rating\": 5})\n",
    "df_new_user"
   ]
  },
  {
   "cell_type": "raw",
   "id": "d78b4891",
   "metadata": {},
   "source": [
    "df_recipes.loc[df_recipes[\"id\"].isin(df_new_user.Item.tolist())]"
   ]
  },
  {
   "cell_type": "raw",
   "id": "53c12a60",
   "metadata": {},
   "source": [
    "### DROP IF NECESSARY"
   ]
  },
  {
   "cell_type": "raw",
   "id": "77d35444",
   "metadata": {},
   "source": [
    "idxs = df_recipe_ratings.loc[df_reviews[\"User\"] == 4177].index\n",
    "idxs"
   ]
  },
  {
   "cell_type": "raw",
   "id": "7e6aa98b",
   "metadata": {},
   "source": [
    "df_recipe_ratings_clarified = df_recipe_ratings.drop(idxs)"
   ]
  },
  {
   "cell_type": "raw",
   "id": "558952ab",
   "metadata": {},
   "source": [
    "### Concatenating base and new df"
   ]
  },
  {
   "cell_type": "raw",
   "id": "cc877392",
   "metadata": {},
   "source": [
    "df_concat = pd.concat([df_recipe_ratings_clarified, df_new_user], sort=False, ignore_index=True)\n",
    "df_concat2 = pd.concat([df_recipe_ratings, df_new_user], sort=False, ignore_index=True)"
   ]
  },
  {
   "cell_type": "raw",
   "id": "ab2fb792",
   "metadata": {},
   "source": [
    "df_concat_v3 = pd.concat([df_thesis_table_almost, df_new_user], sort=False, ignore_index=True)"
   ]
  },
  {
   "cell_type": "raw",
   "id": "4a0723bd",
   "metadata": {},
   "source": [
    "with pd.option_context('display.max_rows', None, 'display.max_columns', None):  # more options can be specified also\n",
    "    display(pd.crosstab(df_concat_v3.User, df_concat_v3.Item).replace(0, \"-\"))\n"
   ]
  },
  {
   "cell_type": "raw",
   "id": "d56e5478",
   "metadata": {},
   "source": [
    "[73499, 52089, 23808, 391996, 361414, 2532, 92592, 53034, 196850, 16273]\n",
    "[73499, 52089, 74275, 223424, 391996, 361414, 2532, 92592, 53034, 196850]\n",
    "\n",
    "[223424, 52089, 196850, 74275, 20266, 391996, 361414, 2532, 92592, 53034]\n",
    "[52089, 74275, 223424, 196850]"
   ]
  },
  {
   "cell_type": "raw",
   "id": "6435e2fb",
   "metadata": {
    "scrolled": true
   },
   "source": [
    "df_concat.loc[df_concat[\"User\"].isin([1853000001, 4177])]"
   ]
  },
  {
   "cell_type": "markdown",
   "id": "3f5c21b9",
   "metadata": {},
   "source": [
    "---"
   ]
  },
  {
   "cell_type": "markdown",
   "id": "86b6549f",
   "metadata": {},
   "source": [
    "# 3. Model training"
   ]
  },
  {
   "cell_type": "markdown",
   "id": "931a55c7",
   "metadata": {},
   "source": [
    "### Imports"
   ]
  },
  {
   "cell_type": "code",
   "execution_count": 13,
   "id": "1ccf9a7c",
   "metadata": {},
   "outputs": [],
   "source": [
    "from surprise import NormalPredictor\n",
    "from surprise import Dataset\n",
    "from surprise import Reader\n",
    "from surprise import SVD\n",
    "from surprise import SVDpp\n",
    "from surprise import KNNBasic\n",
    "from surprise.model_selection import cross_validate\n",
    "\n",
    "import pickle"
   ]
  },
  {
   "cell_type": "markdown",
   "id": "cd956cc9",
   "metadata": {},
   "source": [
    "### Load and read df"
   ]
  },
  {
   "cell_type": "code",
   "execution_count": 14,
   "id": "6a1f2ead",
   "metadata": {},
   "outputs": [],
   "source": [
    "reader = Reader(rating_scale=(0, 5))\n",
    "\n",
    "#data = Dataset.load_from_df(df_concat_v3, reader)\n",
    "data = Dataset.load_from_df(df_recipe_ratings, reader)\n",
    "#data = Dataset.load_from_df(df_concat, reader)"
   ]
  },
  {
   "cell_type": "markdown",
   "id": "69e999d8",
   "metadata": {},
   "source": [
    "### Training set"
   ]
  },
  {
   "cell_type": "code",
   "execution_count": 15,
   "id": "e22fa77f",
   "metadata": {},
   "outputs": [],
   "source": [
    "trainSet = data.build_full_trainset()"
   ]
  },
  {
   "cell_type": "raw",
   "id": "6a360005",
   "metadata": {},
   "source": [
    "trainSet"
   ]
  },
  {
   "cell_type": "code",
   "execution_count": 16,
   "id": "df5b4a2a",
   "metadata": {},
   "outputs": [
    {
     "data": {
      "text/plain": [
       "2046"
      ]
     },
     "execution_count": 16,
     "metadata": {},
     "output_type": "execute_result"
    }
   ],
   "source": [
    "trainSet.to_raw_uid(0)"
   ]
  },
  {
   "cell_type": "code",
   "execution_count": 17,
   "id": "6dd2116a",
   "metadata": {},
   "outputs": [],
   "source": [
    "def trainset_contains(id):\n",
    "    try:\n",
    "        trainSet.to_inner_uid(id)\n",
    "        return True\n",
    "    except:\n",
    "        print(\"Item is not part of the trainset.\")\n",
    "        return False"
   ]
  },
  {
   "cell_type": "code",
   "execution_count": 18,
   "id": "b425f79c",
   "metadata": {},
   "outputs": [
    {
     "name": "stdout",
     "output_type": "stream",
     "text": [
      "Item is not part of the trainset.\n"
     ]
    },
    {
     "data": {
      "text/plain": [
       "False"
      ]
     },
     "execution_count": 18,
     "metadata": {},
     "output_type": "execute_result"
    }
   ],
   "source": [
    "trainset_contains(90221)"
   ]
  },
  {
   "cell_type": "markdown",
   "id": "910c6b24",
   "metadata": {},
   "source": [
    "### Save and load training set"
   ]
  },
  {
   "cell_type": "code",
   "execution_count": 19,
   "id": "5248e074",
   "metadata": {},
   "outputs": [],
   "source": [
    "pickle.dump(trainSet, open('serialized-model/trainset.pkl', 'wb'))"
   ]
  },
  {
   "cell_type": "raw",
   "id": "918e8699",
   "metadata": {},
   "source": [
    "trainSet = pickle.load(open('serialized-model/trainset.pkl', 'rb'))"
   ]
  },
  {
   "cell_type": "markdown",
   "id": "f09e6e77",
   "metadata": {},
   "source": [
    "### Anti training (test) set for ONE specific user"
   ]
  },
  {
   "cell_type": "code",
   "execution_count": 20,
   "id": "7f1b793b",
   "metadata": {},
   "outputs": [],
   "source": [
    "def make_anti_testset(raw_user_id):\n",
    "    anti_testset_user = []\n",
    "    \n",
    "    #targetUser = 0 #inner_id of the target user\n",
    "    targetUser = trainSet.to_inner_uid(raw_user_id)\n",
    "    \n",
    "    fillValue = trainSet.global_mean\n",
    "    \n",
    "    user_item_ratings = trainSet.ur[targetUser]\n",
    "    user_items = [item for (item,_) in (user_item_ratings)]\n",
    "    user_items\n",
    "    \n",
    "    ratings = trainSet.all_ratings()\n",
    "    \n",
    "    for iid in trainSet.all_items():\n",
    "        if(iid not in user_items):\n",
    "            anti_testset_user.append((trainSet.to_raw_uid(targetUser),trainSet.to_raw_iid(iid),fillValue))\n",
    "            \n",
    "    return anti_testset_user"
   ]
  },
  {
   "cell_type": "markdown",
   "id": "2ddbefc8",
   "metadata": {},
   "source": [
    "## 3.1 Validating"
   ]
  },
  {
   "cell_type": "markdown",
   "id": "9b8c58e7",
   "metadata": {},
   "source": [
    "### Normal Predictor"
   ]
  },
  {
   "cell_type": "code",
   "execution_count": 21,
   "id": "da85a013",
   "metadata": {},
   "outputs": [
    {
     "name": "stdout",
     "output_type": "stream",
     "text": [
      "Evaluating RMSE, MAE of algorithm NormalPredictor on 5 split(s).\n",
      "\n",
      "                  Fold 1  Fold 2  Fold 3  Fold 4  Fold 5  Mean    Std     \n",
      "RMSE (testset)    1.5904  1.5857  1.5793  1.5681  1.5949  1.5837  0.0093  \n",
      "MAE (testset)     1.0686  1.0722  1.0591  1.0593  1.0737  1.0666  0.0063  \n",
      "Fit time          0.02    0.02    0.02    0.02    0.02    0.02    0.00    \n",
      "Test time         0.03    0.02    0.02    0.05    0.02    0.03    0.01    \n"
     ]
    },
    {
     "data": {
      "text/plain": [
       "{'test_rmse': array([1.59039088, 1.58566352, 1.57929978, 1.5681242 , 1.59490917]),\n",
       " 'test_mae': array([1.06856473, 1.07223472, 1.05911124, 1.05929634, 1.07370516]),\n",
       " 'fit_time': (0.015499591827392578,\n",
       "  0.01630878448486328,\n",
       "  0.01741790771484375,\n",
       "  0.016812562942504883,\n",
       "  0.016965866088867188),\n",
       " 'test_time': (0.02936863899230957,\n",
       "  0.020272254943847656,\n",
       "  0.02042555809020996,\n",
       "  0.05369424819946289,\n",
       "  0.0196840763092041)}"
      ]
     },
     "execution_count": 21,
     "metadata": {},
     "output_type": "execute_result"
    }
   ],
   "source": [
    "algo = NormalPredictor()\n",
    "cross_validate(algo, data, measures=['RMSE', 'MAE'], cv=5, verbose=True)"
   ]
  },
  {
   "cell_type": "markdown",
   "id": "477aad9d",
   "metadata": {},
   "source": [
    "### KNNBasic"
   ]
  },
  {
   "cell_type": "code",
   "execution_count": 22,
   "id": "a1fac2ad",
   "metadata": {},
   "outputs": [
    {
     "name": "stdout",
     "output_type": "stream",
     "text": [
      "Computing the cosine similarity matrix...\n",
      "Done computing similarity matrix.\n",
      "Computing the cosine similarity matrix...\n",
      "Done computing similarity matrix.\n"
     ]
    },
    {
     "name": "stderr",
     "output_type": "stream",
     "text": [
      "/opt/conda/lib/python3.9/site-packages/surprise/prediction_algorithms/algo_base.py:249: RuntimeWarning: invalid value encountered in double_scalars\n",
      "  sim = construction_func[name](*args)\n"
     ]
    },
    {
     "name": "stdout",
     "output_type": "stream",
     "text": [
      "Computing the cosine similarity matrix...\n",
      "Done computing similarity matrix.\n",
      "Evaluating RMSE, MAE of algorithm KNNBasic on 3 split(s).\n",
      "\n",
      "                  Fold 1  Fold 2  Fold 3  Mean    Std     \n",
      "RMSE (testset)    1.2899  1.3010  1.3227  1.3045  0.0136  \n",
      "MAE (testset)     0.7711  0.7783  0.7864  0.7786  0.0062  \n",
      "Fit time          0.04    0.05    0.04    0.04    0.00    \n",
      "Test time         0.06    0.10    0.06    0.07    0.02    \n"
     ]
    },
    {
     "data": {
      "text/plain": [
       "{'test_rmse': array([1.28986258, 1.30098233, 1.3226601 ]),\n",
       " 'test_mae': array([0.77111071, 0.77828397, 0.7863993 ]),\n",
       " 'fit_time': (0.04423403739929199, 0.046239376068115234, 0.04424023628234863),\n",
       " 'test_time': (0.06112480163574219, 0.09769225120544434, 0.06223440170288086)}"
      ]
     },
     "execution_count": 22,
     "metadata": {},
     "output_type": "execute_result"
    }
   ],
   "source": [
    "sim_options = {'name': 'cosine',\n",
    "               'user_based': False  # compute  similarities between items\n",
    "               }\n",
    "algo = KNNBasic(sim_options=sim_options)\n",
    "# Run 5-fold cross-validation and print results\n",
    "cross_validate(algo, data, measures=['RMSE', 'MAE'], cv=3, verbose=True)"
   ]
  },
  {
   "cell_type": "markdown",
   "id": "5d78d054",
   "metadata": {},
   "source": [
    "### SVD"
   ]
  },
  {
   "cell_type": "code",
   "execution_count": 23,
   "id": "1e670b11",
   "metadata": {},
   "outputs": [
    {
     "name": "stdout",
     "output_type": "stream",
     "text": [
      "Evaluating RMSE, MAE of algorithm SVD on 3 split(s).\n",
      "\n",
      "                  Fold 1  Fold 2  Fold 3  Mean    Std     \n",
      "RMSE (testset)    1.3140  1.3119  1.3324  1.3194  0.0092  \n",
      "MAE (testset)     0.8499  0.8536  0.8620  0.8552  0.0051  \n",
      "Fit time          2.85    2.57    2.58    2.67    0.13    \n",
      "Test time         0.18    0.11    0.10    0.13    0.04    \n"
     ]
    },
    {
     "data": {
      "text/plain": [
       "{'test_rmse': array([1.31404924, 1.31189568, 1.33236792]),\n",
       " 'test_mae': array([0.84987175, 0.85362411, 0.86201313]),\n",
       " 'fit_time': (2.848823308944702, 2.5730812549591064, 2.5816802978515625),\n",
       " 'test_time': (0.18066859245300293, 0.1072394847869873, 0.10192370414733887)}"
      ]
     },
     "execution_count": 23,
     "metadata": {},
     "output_type": "execute_result"
    }
   ],
   "source": [
    "#n_factors=100, n_epochs=25, lr_all=0.005, reg_all=0.1\n",
    "algo = SVD(n_factors=100, n_epochs=25, lr_all=0.005, reg_all=0.1)\n",
    "# Run 5-fold cross-validation and print results\n",
    "cross_validate(algo, data, measures=['RMSE', 'MAE'], cv=3, verbose=True)"
   ]
  },
  {
   "cell_type": "markdown",
   "id": "e7c41fc4",
   "metadata": {},
   "source": [
    "### GridSearchCV"
   ]
  },
  {
   "cell_type": "code",
   "execution_count": 12,
   "id": "9f2a4077",
   "metadata": {},
   "outputs": [],
   "source": [
    "from surprise.model_selection import GridSearchCV"
   ]
  },
  {
   "cell_type": "code",
   "execution_count": null,
   "id": "44e768dd",
   "metadata": {},
   "outputs": [],
   "source": [
    "from surprise.model_selection import GridSearchCV\n",
    "\n",
    "param_grid = {'n_factors': [100,150],\n",
    "              'n_epochs': [20,25,30],\n",
    "              'lr_all':[0.005,0.01,0.1],\n",
    "              'reg_all':[0.02,0.05,0.1]}\n",
    "grid_search = GridSearchCV(SVD, param_grid, measures=['rmse','mae'], cv=3)\n",
    "grid_search.fit(data)"
   ]
  },
  {
   "cell_type": "code",
   "execution_count": null,
   "id": "11079752",
   "metadata": {},
   "outputs": [],
   "source": [
    "print(grid_search.best_score['rmse'])\n",
    "print(grid_search.best_score['mae'])"
   ]
  },
  {
   "cell_type": "code",
   "execution_count": null,
   "id": "7dd8d0b7",
   "metadata": {},
   "outputs": [],
   "source": [
    "print(grid_search.best_params['rmse'])"
   ]
  },
  {
   "cell_type": "code",
   "execution_count": null,
   "id": "63ddee7c",
   "metadata": {},
   "outputs": [],
   "source": [
    "algo = grid_search.best_estimator['rmse']\n",
    "\n",
    "cross_validate(algo, data, measures=['RMSE', 'MAE'], cv=5, verbose=True)"
   ]
  },
  {
   "cell_type": "markdown",
   "id": "eff6ef7c",
   "metadata": {},
   "source": [
    "## 3.2 Fit and test on trainset"
   ]
  },
  {
   "cell_type": "markdown",
   "id": "f005f837",
   "metadata": {},
   "source": [
    "### Fitting algorithm"
   ]
  },
  {
   "cell_type": "code",
   "execution_count": 23,
   "id": "1fa994f9",
   "metadata": {},
   "outputs": [
    {
     "name": "stdout",
     "output_type": "stream",
     "text": [
      "Computing the cosine similarity matrix...\n",
      "Done computing similarity matrix.\n"
     ]
    },
    {
     "data": {
      "text/plain": [
       "<surprise.prediction_algorithms.knns.KNNBasic at 0x7f7b9673a3a0>"
      ]
     },
     "execution_count": 23,
     "metadata": {},
     "output_type": "execute_result"
    }
   ],
   "source": [
    "algo = KNNBasic(sim_options = {\"name\":\"cosine\", \"user_based\":False})#SVD()\n",
    "algo.fit(trainSet)"
   ]
  },
  {
   "cell_type": "code",
   "execution_count": 24,
   "id": "f2c7a9d6",
   "metadata": {},
   "outputs": [],
   "source": [
    "pickle.dump(algo, open('serialized-model/recrecsys.pkl', 'wb'))"
   ]
  },
  {
   "cell_type": "markdown",
   "id": "742e95fd",
   "metadata": {},
   "source": [
    "### Checking for one user"
   ]
  },
  {
   "cell_type": "code",
   "execution_count": 25,
   "id": "131f5f6b",
   "metadata": {},
   "outputs": [
    {
     "data": {
      "text/plain": [
       "5142"
      ]
     },
     "execution_count": 25,
     "metadata": {},
     "output_type": "execute_result"
    }
   ],
   "source": [
    "user_id = 8\n",
    "\n",
    "raw_user_id = trainSet.to_raw_uid(user_id)\n",
    "\n",
    "raw_user_id\n",
    "#2178"
   ]
  },
  {
   "cell_type": "raw",
   "id": "5ac3042d",
   "metadata": {},
   "source": [
    "raw_user_id = 1853000001"
   ]
  },
  {
   "cell_type": "markdown",
   "id": "4487f7bb",
   "metadata": {},
   "source": [
    "### List user reviewed recipes"
   ]
  },
  {
   "cell_type": "code",
   "execution_count": 26,
   "id": "4620d6cb",
   "metadata": {
    "scrolled": false
   },
   "outputs": [
    {
     "data": {
      "text/html": [
       "<div>\n",
       "<style scoped>\n",
       "    .dataframe tbody tr th:only-of-type {\n",
       "        vertical-align: middle;\n",
       "    }\n",
       "\n",
       "    .dataframe tbody tr th {\n",
       "        vertical-align: top;\n",
       "    }\n",
       "\n",
       "    .dataframe thead th {\n",
       "        text-align: right;\n",
       "    }\n",
       "</style>\n",
       "<table border=\"1\" class=\"dataframe\">\n",
       "  <thead>\n",
       "    <tr style=\"text-align: right;\">\n",
       "      <th></th>\n",
       "      <th>id</th>\n",
       "      <th>name</th>\n",
       "      <th>author_name</th>\n",
       "      <th>submitted</th>\n",
       "      <th>image_url</th>\n",
       "      <th>minutes</th>\n",
       "      <th>description</th>\n",
       "      <th>category</th>\n",
       "      <th>tags</th>\n",
       "      <th>search_terms</th>\n",
       "      <th>steps</th>\n",
       "      <th>ingredients</th>\n",
       "      <th>ingredients_raw_str</th>\n",
       "      <th>serving_size</th>\n",
       "      <th>servings</th>\n",
       "      <th>calories</th>\n",
       "      <th>rating</th>\n",
       "      <th>review_count</th>\n",
       "    </tr>\n",
       "  </thead>\n",
       "  <tbody>\n",
       "    <tr>\n",
       "      <th>6337</th>\n",
       "      <td>8509</td>\n",
       "      <td>Pork Chops With Beer</td>\n",
       "      <td>Lorraine Handlin</td>\n",
       "      <td>2000-11-13</td>\n",
       "      <td>\"https://img.sndimg.com/food/image/upload/w_55...</td>\n",
       "      <td>90</td>\n",
       "      <td>Makes a great brown gravy.</td>\n",
       "      <td>Pork</td>\n",
       "      <td>{\"weeknight\",\"time-to-make\",\"main-ingredient\",...</td>\n",
       "      <td>{\"pork\"}</td>\n",
       "      <td>{Season pork chops with garlic powder; salt; p...</td>\n",
       "      <td>{\"pork chops\",\"garlic powder\",\"salt\",\"pepper\",...</td>\n",
       "      <td>{\"6       pork chops (lean and thick)\",\"1   te...</td>\n",
       "      <td>1 (618 g)</td>\n",
       "      <td>3</td>\n",
       "      <td>803.5</td>\n",
       "      <td>4.5</td>\n",
       "      <td>66</td>\n",
       "    </tr>\n",
       "  </tbody>\n",
       "</table>\n",
       "</div>"
      ],
      "text/plain": [
       "        id                  name       author_name   submitted  \\\n",
       "6337  8509  Pork Chops With Beer  Lorraine Handlin  2000-11-13   \n",
       "\n",
       "                                              image_url  minutes  \\\n",
       "6337  \"https://img.sndimg.com/food/image/upload/w_55...       90   \n",
       "\n",
       "                     description category  \\\n",
       "6337  Makes a great brown gravy.     Pork   \n",
       "\n",
       "                                                   tags search_terms  \\\n",
       "6337  {\"weeknight\",\"time-to-make\",\"main-ingredient\",...     {\"pork\"}   \n",
       "\n",
       "                                                  steps  \\\n",
       "6337  {Season pork chops with garlic powder; salt; p...   \n",
       "\n",
       "                                            ingredients  \\\n",
       "6337  {\"pork chops\",\"garlic powder\",\"salt\",\"pepper\",...   \n",
       "\n",
       "                                    ingredients_raw_str serving_size  \\\n",
       "6337  {\"6       pork chops (lean and thick)\",\"1   te...    1 (618 g)   \n",
       "\n",
       "      servings  calories  rating  review_count  \n",
       "6337         3     803.5     4.5            66  "
      ]
     },
     "execution_count": 26,
     "metadata": {},
     "output_type": "execute_result"
    }
   ],
   "source": [
    "df_user_recipes = df_recipe_ratings.loc[df_recipe_ratings[\"User\"] == raw_user_id]\n",
    "#df_user_recipes = df_concat.loc[df_concat[\"User\"] == raw_user_id]\n",
    "\n",
    "df_recipes.loc[df_recipes[\"id\"].isin(df_user_recipes.Item.tolist())]"
   ]
  },
  {
   "cell_type": "code",
   "execution_count": 27,
   "id": "031a5323",
   "metadata": {},
   "outputs": [
    {
     "data": {
      "text/html": [
       "<div>\n",
       "<style scoped>\n",
       "    .dataframe tbody tr th:only-of-type {\n",
       "        vertical-align: middle;\n",
       "    }\n",
       "\n",
       "    .dataframe tbody tr th {\n",
       "        vertical-align: top;\n",
       "    }\n",
       "\n",
       "    .dataframe thead th {\n",
       "        text-align: right;\n",
       "    }\n",
       "</style>\n",
       "<table border=\"1\" class=\"dataframe\">\n",
       "  <thead>\n",
       "    <tr style=\"text-align: right;\">\n",
       "      <th></th>\n",
       "      <th>User</th>\n",
       "      <th>Item</th>\n",
       "      <th>Rating</th>\n",
       "    </tr>\n",
       "  </thead>\n",
       "  <tbody>\n",
       "    <tr>\n",
       "      <th>235</th>\n",
       "      <td>5142</td>\n",
       "      <td>8509</td>\n",
       "      <td>4</td>\n",
       "    </tr>\n",
       "  </tbody>\n",
       "</table>\n",
       "</div>"
      ],
      "text/plain": [
       "     User  Item  Rating\n",
       "235  5142  8509       4"
      ]
     },
     "execution_count": 27,
     "metadata": {},
     "output_type": "execute_result"
    }
   ],
   "source": [
    "df_recipe_ratings.loc[(df_recipe_ratings[\"Item\"].isin(df_user_recipes.Item.tolist())) & (df_recipe_ratings[\"User\"] == raw_user_id)]"
   ]
  },
  {
   "cell_type": "markdown",
   "id": "8679621a",
   "metadata": {},
   "source": [
    "### Make anti testset"
   ]
  },
  {
   "cell_type": "code",
   "execution_count": 28,
   "id": "11868cf6",
   "metadata": {},
   "outputs": [],
   "source": [
    "anti_testset = make_anti_testset(raw_user_id)"
   ]
  },
  {
   "cell_type": "markdown",
   "id": "75ecf436",
   "metadata": {},
   "source": [
    "###  Make prediction with locally made algorithm"
   ]
  },
  {
   "cell_type": "code",
   "execution_count": 29,
   "id": "6a1c33a4",
   "metadata": {},
   "outputs": [],
   "source": [
    "predictions = algo.test(anti_testset)"
   ]
  },
  {
   "cell_type": "raw",
   "id": "0f2c833f",
   "metadata": {},
   "source": [
    "predictions"
   ]
  },
  {
   "cell_type": "markdown",
   "id": "d3565d76",
   "metadata": {},
   "source": [
    "### OR with pickled"
   ]
  },
  {
   "cell_type": "code",
   "execution_count": 32,
   "id": "d1e15867",
   "metadata": {},
   "outputs": [],
   "source": [
    "pickled_model = pickle.load(open('serialized-model/recrecsys.pkl', 'rb'))\n",
    "predictions = pickled_model.test(anti_testset)"
   ]
  },
  {
   "cell_type": "code",
   "execution_count": 33,
   "id": "2b02f861",
   "metadata": {},
   "outputs": [
    {
     "ename": "KeyError",
     "evalue": "'actual_k'",
     "output_type": "error",
     "traceback": [
      "\u001b[0;31m---------------------------------------------------------------------------\u001b[0m",
      "\u001b[0;31mKeyError\u001b[0m                                  Traceback (most recent call last)",
      "\u001b[0;32m/tmp/ipykernel_34/3795805782.py\u001b[0m in \u001b[0;36m<module>\u001b[0;34m\u001b[0m\n\u001b[1;32m      2\u001b[0m \u001b[0mpred\u001b[0m \u001b[0;34m=\u001b[0m \u001b[0mpred\u001b[0m\u001b[0;34m.\u001b[0m\u001b[0mloc\u001b[0m\u001b[0;34m[\u001b[0m\u001b[0mpred\u001b[0m\u001b[0;34m[\u001b[0m\u001b[0;34m\"est\"\u001b[0m\u001b[0;34m]\u001b[0m \u001b[0;34m==\u001b[0m \u001b[0;36m5\u001b[0m\u001b[0;34m]\u001b[0m\u001b[0;34m\u001b[0m\u001b[0;34m\u001b[0m\u001b[0m\n\u001b[1;32m      3\u001b[0m \u001b[0mpred\u001b[0m \u001b[0;34m=\u001b[0m \u001b[0mpd\u001b[0m\u001b[0;34m.\u001b[0m\u001b[0mconcat\u001b[0m\u001b[0;34m(\u001b[0m\u001b[0;34m[\u001b[0m\u001b[0mpred\u001b[0m\u001b[0;34m,\u001b[0m \u001b[0mpred\u001b[0m\u001b[0;34m[\u001b[0m\u001b[0;34m'details'\u001b[0m\u001b[0;34m]\u001b[0m\u001b[0;34m.\u001b[0m\u001b[0mapply\u001b[0m\u001b[0;34m(\u001b[0m\u001b[0mpd\u001b[0m\u001b[0;34m.\u001b[0m\u001b[0mSeries\u001b[0m\u001b[0;34m)\u001b[0m\u001b[0;34m]\u001b[0m\u001b[0;34m,\u001b[0m \u001b[0maxis\u001b[0m \u001b[0;34m=\u001b[0m \u001b[0;36m1\u001b[0m\u001b[0;34m)\u001b[0m\u001b[0;34m.\u001b[0m\u001b[0mdrop\u001b[0m\u001b[0;34m(\u001b[0m\u001b[0;34m'details'\u001b[0m\u001b[0;34m,\u001b[0m \u001b[0maxis\u001b[0m \u001b[0;34m=\u001b[0m \u001b[0;36m1\u001b[0m\u001b[0;34m)\u001b[0m\u001b[0;34m\u001b[0m\u001b[0;34m\u001b[0m\u001b[0m\n\u001b[0;32m----> 4\u001b[0;31m \u001b[0mpred\u001b[0m\u001b[0;34m.\u001b[0m\u001b[0msort_values\u001b[0m\u001b[0;34m(\u001b[0m\u001b[0mby\u001b[0m\u001b[0;34m=\u001b[0m\u001b[0;34m[\u001b[0m\u001b[0;34m'actual_k'\u001b[0m\u001b[0;34m]\u001b[0m\u001b[0;34m,\u001b[0m \u001b[0minplace\u001b[0m\u001b[0;34m=\u001b[0m\u001b[0;32mTrue\u001b[0m\u001b[0;34m,\u001b[0m \u001b[0mascending\u001b[0m\u001b[0;34m=\u001b[0m\u001b[0;32mFalse\u001b[0m\u001b[0;34m)\u001b[0m\u001b[0;34m\u001b[0m\u001b[0;34m\u001b[0m\u001b[0m\n\u001b[0m",
      "\u001b[0;32m/opt/conda/lib/python3.9/site-packages/pandas/util/_decorators.py\u001b[0m in \u001b[0;36mwrapper\u001b[0;34m(*args, **kwargs)\u001b[0m\n\u001b[1;32m    309\u001b[0m                     \u001b[0mstacklevel\u001b[0m\u001b[0;34m=\u001b[0m\u001b[0mstacklevel\u001b[0m\u001b[0;34m,\u001b[0m\u001b[0;34m\u001b[0m\u001b[0;34m\u001b[0m\u001b[0m\n\u001b[1;32m    310\u001b[0m                 )\n\u001b[0;32m--> 311\u001b[0;31m             \u001b[0;32mreturn\u001b[0m \u001b[0mfunc\u001b[0m\u001b[0;34m(\u001b[0m\u001b[0;34m*\u001b[0m\u001b[0margs\u001b[0m\u001b[0;34m,\u001b[0m \u001b[0;34m**\u001b[0m\u001b[0mkwargs\u001b[0m\u001b[0;34m)\u001b[0m\u001b[0;34m\u001b[0m\u001b[0;34m\u001b[0m\u001b[0m\n\u001b[0m\u001b[1;32m    312\u001b[0m \u001b[0;34m\u001b[0m\u001b[0m\n\u001b[1;32m    313\u001b[0m         \u001b[0;32mreturn\u001b[0m \u001b[0mwrapper\u001b[0m\u001b[0;34m\u001b[0m\u001b[0;34m\u001b[0m\u001b[0m\n",
      "\u001b[0;32m/opt/conda/lib/python3.9/site-packages/pandas/core/frame.py\u001b[0m in \u001b[0;36msort_values\u001b[0;34m(self, by, axis, ascending, inplace, kind, na_position, ignore_index, key)\u001b[0m\n\u001b[1;32m   6320\u001b[0m \u001b[0;34m\u001b[0m\u001b[0m\n\u001b[1;32m   6321\u001b[0m             \u001b[0mby\u001b[0m \u001b[0;34m=\u001b[0m \u001b[0mby\u001b[0m\u001b[0;34m[\u001b[0m\u001b[0;36m0\u001b[0m\u001b[0;34m]\u001b[0m\u001b[0;34m\u001b[0m\u001b[0;34m\u001b[0m\u001b[0m\n\u001b[0;32m-> 6322\u001b[0;31m             \u001b[0mk\u001b[0m \u001b[0;34m=\u001b[0m \u001b[0mself\u001b[0m\u001b[0;34m.\u001b[0m\u001b[0m_get_label_or_level_values\u001b[0m\u001b[0;34m(\u001b[0m\u001b[0mby\u001b[0m\u001b[0;34m,\u001b[0m \u001b[0maxis\u001b[0m\u001b[0;34m=\u001b[0m\u001b[0maxis\u001b[0m\u001b[0;34m)\u001b[0m\u001b[0;34m\u001b[0m\u001b[0;34m\u001b[0m\u001b[0m\n\u001b[0m\u001b[1;32m   6323\u001b[0m \u001b[0;34m\u001b[0m\u001b[0m\n\u001b[1;32m   6324\u001b[0m             \u001b[0;31m# need to rewrap column in Series to apply key function\u001b[0m\u001b[0;34m\u001b[0m\u001b[0;34m\u001b[0m\u001b[0m\n",
      "\u001b[0;32m/opt/conda/lib/python3.9/site-packages/pandas/core/generic.py\u001b[0m in \u001b[0;36m_get_label_or_level_values\u001b[0;34m(self, key, axis)\u001b[0m\n\u001b[1;32m   1838\u001b[0m             \u001b[0mvalues\u001b[0m \u001b[0;34m=\u001b[0m \u001b[0mself\u001b[0m\u001b[0;34m.\u001b[0m\u001b[0maxes\u001b[0m\u001b[0;34m[\u001b[0m\u001b[0maxis\u001b[0m\u001b[0;34m]\u001b[0m\u001b[0;34m.\u001b[0m\u001b[0mget_level_values\u001b[0m\u001b[0;34m(\u001b[0m\u001b[0mkey\u001b[0m\u001b[0;34m)\u001b[0m\u001b[0;34m.\u001b[0m\u001b[0m_values\u001b[0m\u001b[0;34m\u001b[0m\u001b[0;34m\u001b[0m\u001b[0m\n\u001b[1;32m   1839\u001b[0m         \u001b[0;32melse\u001b[0m\u001b[0;34m:\u001b[0m\u001b[0;34m\u001b[0m\u001b[0;34m\u001b[0m\u001b[0m\n\u001b[0;32m-> 1840\u001b[0;31m             \u001b[0;32mraise\u001b[0m \u001b[0mKeyError\u001b[0m\u001b[0;34m(\u001b[0m\u001b[0mkey\u001b[0m\u001b[0;34m)\u001b[0m\u001b[0;34m\u001b[0m\u001b[0;34m\u001b[0m\u001b[0m\n\u001b[0m\u001b[1;32m   1841\u001b[0m \u001b[0;34m\u001b[0m\u001b[0m\n\u001b[1;32m   1842\u001b[0m         \u001b[0;31m# Check for duplicates\u001b[0m\u001b[0;34m\u001b[0m\u001b[0;34m\u001b[0m\u001b[0m\n",
      "\u001b[0;31mKeyError\u001b[0m: 'actual_k'"
     ]
    }
   ],
   "source": [
    "pred = pd.DataFrame(predictions)\n",
    "pred = pred.loc[pred[\"est\"] == 5]\n",
    "pred = pd.concat([pred, pred['details'].apply(pd.Series)], axis = 1).drop('details', axis = 1)\n",
    "pred.sort_values(by=['actual_k'], inplace=True, ascending=False)"
   ]
  },
  {
   "cell_type": "code",
   "execution_count": 34,
   "id": "3301aa1f",
   "metadata": {},
   "outputs": [
    {
     "data": {
      "text/html": [
       "<div>\n",
       "<style scoped>\n",
       "    .dataframe tbody tr th:only-of-type {\n",
       "        vertical-align: middle;\n",
       "    }\n",
       "\n",
       "    .dataframe tbody tr th {\n",
       "        vertical-align: top;\n",
       "    }\n",
       "\n",
       "    .dataframe thead th {\n",
       "        text-align: right;\n",
       "    }\n",
       "</style>\n",
       "<table border=\"1\" class=\"dataframe\">\n",
       "  <thead>\n",
       "    <tr style=\"text-align: right;\">\n",
       "      <th></th>\n",
       "      <th>uid</th>\n",
       "      <th>iid</th>\n",
       "      <th>r_ui</th>\n",
       "      <th>est</th>\n",
       "    </tr>\n",
       "  </thead>\n",
       "  <tbody>\n",
       "  </tbody>\n",
       "</table>\n",
       "</div>"
      ],
      "text/plain": [
       "Empty DataFrame\n",
       "Columns: [uid, iid, r_ui, est]\n",
       "Index: []"
      ]
     },
     "execution_count": 34,
     "metadata": {},
     "output_type": "execute_result"
    }
   ],
   "source": [
    "pred"
   ]
  },
  {
   "cell_type": "markdown",
   "id": "20ec1e0b",
   "metadata": {},
   "source": [
    "### List Top-n results"
   ]
  },
  {
   "cell_type": "code",
   "execution_count": 35,
   "id": "4732c0d4",
   "metadata": {},
   "outputs": [],
   "source": [
    "def list_result(predictions):\n",
    "    pred = pd.DataFrame(predictions)\n",
    "    pred.sort_values(by=['est'], inplace=True, ascending=False)\n",
    "    \n",
    "    recipe_list = pred.head(10)['iid'].to_list()\n",
    "    \n",
    "    print(recipe_list)\n",
    "    \n",
    "    # return df_recipes.loc[recipe_list]\n",
    "    return df_recipes.loc[df_recipes[\"id\"].isin(recipe_list)]"
   ]
  },
  {
   "cell_type": "code",
   "execution_count": 36,
   "id": "b0a2f0b3",
   "metadata": {},
   "outputs": [],
   "source": [
    "def list_result_knn(predictions):\n",
    "    pred = pd.DataFrame(predictions)\n",
    "    pred = pred.loc[pred[\"est\"] == 5]\n",
    "    pred = pd.concat([pred, pred['details'].apply(pd.Series)], axis = 1).drop('details', axis = 1)\n",
    "    pred.sort_values(by=['actual_k'], inplace=True, ascending=False)\n",
    "    recipe_list = pred.head(10)['iid'].to_list()\n",
    "    \n",
    "    for x, y in zip(recipe_list, pred.head(10)['actual_k']):\n",
    "        print(x, y)\n",
    "    # return df_recipes.loc[recipe_list]\n",
    "    return df_recipes.loc[df_recipes[\"id\"].isin(recipe_list)]"
   ]
  },
  {
   "cell_type": "markdown",
   "id": "771d6c00",
   "metadata": {},
   "source": [
    "## KNN"
   ]
  },
  {
   "cell_type": "code",
   "execution_count": 37,
   "id": "47787739",
   "metadata": {},
   "outputs": [
    {
     "ename": "KeyError",
     "evalue": "'actual_k'",
     "output_type": "error",
     "traceback": [
      "\u001b[0;31m---------------------------------------------------------------------------\u001b[0m",
      "\u001b[0;31mKeyError\u001b[0m                                  Traceback (most recent call last)",
      "\u001b[0;32m/tmp/ipykernel_34/703217399.py\u001b[0m in \u001b[0;36m<module>\u001b[0;34m\u001b[0m\n\u001b[0;32m----> 1\u001b[0;31m \u001b[0mdf_results\u001b[0m \u001b[0;34m=\u001b[0m \u001b[0mlist_result_knn\u001b[0m\u001b[0;34m(\u001b[0m\u001b[0mpredictions\u001b[0m\u001b[0;34m)\u001b[0m\u001b[0;34m\u001b[0m\u001b[0;34m\u001b[0m\u001b[0m\n\u001b[0m\u001b[1;32m      2\u001b[0m \u001b[0mdf_results\u001b[0m\u001b[0;34m\u001b[0m\u001b[0;34m\u001b[0m\u001b[0m\n",
      "\u001b[0;32m/tmp/ipykernel_34/1704446055.py\u001b[0m in \u001b[0;36mlist_result_knn\u001b[0;34m(predictions)\u001b[0m\n\u001b[1;32m      3\u001b[0m     \u001b[0mpred\u001b[0m \u001b[0;34m=\u001b[0m \u001b[0mpred\u001b[0m\u001b[0;34m.\u001b[0m\u001b[0mloc\u001b[0m\u001b[0;34m[\u001b[0m\u001b[0mpred\u001b[0m\u001b[0;34m[\u001b[0m\u001b[0;34m\"est\"\u001b[0m\u001b[0;34m]\u001b[0m \u001b[0;34m==\u001b[0m \u001b[0;36m5\u001b[0m\u001b[0;34m]\u001b[0m\u001b[0;34m\u001b[0m\u001b[0;34m\u001b[0m\u001b[0m\n\u001b[1;32m      4\u001b[0m     \u001b[0mpred\u001b[0m \u001b[0;34m=\u001b[0m \u001b[0mpd\u001b[0m\u001b[0;34m.\u001b[0m\u001b[0mconcat\u001b[0m\u001b[0;34m(\u001b[0m\u001b[0;34m[\u001b[0m\u001b[0mpred\u001b[0m\u001b[0;34m,\u001b[0m \u001b[0mpred\u001b[0m\u001b[0;34m[\u001b[0m\u001b[0;34m'details'\u001b[0m\u001b[0;34m]\u001b[0m\u001b[0;34m.\u001b[0m\u001b[0mapply\u001b[0m\u001b[0;34m(\u001b[0m\u001b[0mpd\u001b[0m\u001b[0;34m.\u001b[0m\u001b[0mSeries\u001b[0m\u001b[0;34m)\u001b[0m\u001b[0;34m]\u001b[0m\u001b[0;34m,\u001b[0m \u001b[0maxis\u001b[0m \u001b[0;34m=\u001b[0m \u001b[0;36m1\u001b[0m\u001b[0;34m)\u001b[0m\u001b[0;34m.\u001b[0m\u001b[0mdrop\u001b[0m\u001b[0;34m(\u001b[0m\u001b[0;34m'details'\u001b[0m\u001b[0;34m,\u001b[0m \u001b[0maxis\u001b[0m \u001b[0;34m=\u001b[0m \u001b[0;36m1\u001b[0m\u001b[0;34m)\u001b[0m\u001b[0;34m\u001b[0m\u001b[0;34m\u001b[0m\u001b[0m\n\u001b[0;32m----> 5\u001b[0;31m     \u001b[0mpred\u001b[0m\u001b[0;34m.\u001b[0m\u001b[0msort_values\u001b[0m\u001b[0;34m(\u001b[0m\u001b[0mby\u001b[0m\u001b[0;34m=\u001b[0m\u001b[0;34m[\u001b[0m\u001b[0;34m'actual_k'\u001b[0m\u001b[0;34m]\u001b[0m\u001b[0;34m,\u001b[0m \u001b[0minplace\u001b[0m\u001b[0;34m=\u001b[0m\u001b[0;32mTrue\u001b[0m\u001b[0;34m,\u001b[0m \u001b[0mascending\u001b[0m\u001b[0;34m=\u001b[0m\u001b[0;32mFalse\u001b[0m\u001b[0;34m)\u001b[0m\u001b[0;34m\u001b[0m\u001b[0;34m\u001b[0m\u001b[0m\n\u001b[0m\u001b[1;32m      6\u001b[0m     \u001b[0mrecipe_list\u001b[0m \u001b[0;34m=\u001b[0m \u001b[0mpred\u001b[0m\u001b[0;34m.\u001b[0m\u001b[0mhead\u001b[0m\u001b[0;34m(\u001b[0m\u001b[0;36m10\u001b[0m\u001b[0;34m)\u001b[0m\u001b[0;34m[\u001b[0m\u001b[0;34m'iid'\u001b[0m\u001b[0;34m]\u001b[0m\u001b[0;34m.\u001b[0m\u001b[0mto_list\u001b[0m\u001b[0;34m(\u001b[0m\u001b[0;34m)\u001b[0m\u001b[0;34m\u001b[0m\u001b[0;34m\u001b[0m\u001b[0m\n\u001b[1;32m      7\u001b[0m \u001b[0;34m\u001b[0m\u001b[0m\n",
      "\u001b[0;32m/opt/conda/lib/python3.9/site-packages/pandas/util/_decorators.py\u001b[0m in \u001b[0;36mwrapper\u001b[0;34m(*args, **kwargs)\u001b[0m\n\u001b[1;32m    309\u001b[0m                     \u001b[0mstacklevel\u001b[0m\u001b[0;34m=\u001b[0m\u001b[0mstacklevel\u001b[0m\u001b[0;34m,\u001b[0m\u001b[0;34m\u001b[0m\u001b[0;34m\u001b[0m\u001b[0m\n\u001b[1;32m    310\u001b[0m                 )\n\u001b[0;32m--> 311\u001b[0;31m             \u001b[0;32mreturn\u001b[0m \u001b[0mfunc\u001b[0m\u001b[0;34m(\u001b[0m\u001b[0;34m*\u001b[0m\u001b[0margs\u001b[0m\u001b[0;34m,\u001b[0m \u001b[0;34m**\u001b[0m\u001b[0mkwargs\u001b[0m\u001b[0;34m)\u001b[0m\u001b[0;34m\u001b[0m\u001b[0;34m\u001b[0m\u001b[0m\n\u001b[0m\u001b[1;32m    312\u001b[0m \u001b[0;34m\u001b[0m\u001b[0m\n\u001b[1;32m    313\u001b[0m         \u001b[0;32mreturn\u001b[0m \u001b[0mwrapper\u001b[0m\u001b[0;34m\u001b[0m\u001b[0;34m\u001b[0m\u001b[0m\n",
      "\u001b[0;32m/opt/conda/lib/python3.9/site-packages/pandas/core/frame.py\u001b[0m in \u001b[0;36msort_values\u001b[0;34m(self, by, axis, ascending, inplace, kind, na_position, ignore_index, key)\u001b[0m\n\u001b[1;32m   6320\u001b[0m \u001b[0;34m\u001b[0m\u001b[0m\n\u001b[1;32m   6321\u001b[0m             \u001b[0mby\u001b[0m \u001b[0;34m=\u001b[0m \u001b[0mby\u001b[0m\u001b[0;34m[\u001b[0m\u001b[0;36m0\u001b[0m\u001b[0;34m]\u001b[0m\u001b[0;34m\u001b[0m\u001b[0;34m\u001b[0m\u001b[0m\n\u001b[0;32m-> 6322\u001b[0;31m             \u001b[0mk\u001b[0m \u001b[0;34m=\u001b[0m \u001b[0mself\u001b[0m\u001b[0;34m.\u001b[0m\u001b[0m_get_label_or_level_values\u001b[0m\u001b[0;34m(\u001b[0m\u001b[0mby\u001b[0m\u001b[0;34m,\u001b[0m \u001b[0maxis\u001b[0m\u001b[0;34m=\u001b[0m\u001b[0maxis\u001b[0m\u001b[0;34m)\u001b[0m\u001b[0;34m\u001b[0m\u001b[0;34m\u001b[0m\u001b[0m\n\u001b[0m\u001b[1;32m   6323\u001b[0m \u001b[0;34m\u001b[0m\u001b[0m\n\u001b[1;32m   6324\u001b[0m             \u001b[0;31m# need to rewrap column in Series to apply key function\u001b[0m\u001b[0;34m\u001b[0m\u001b[0;34m\u001b[0m\u001b[0m\n",
      "\u001b[0;32m/opt/conda/lib/python3.9/site-packages/pandas/core/generic.py\u001b[0m in \u001b[0;36m_get_label_or_level_values\u001b[0;34m(self, key, axis)\u001b[0m\n\u001b[1;32m   1838\u001b[0m             \u001b[0mvalues\u001b[0m \u001b[0;34m=\u001b[0m \u001b[0mself\u001b[0m\u001b[0;34m.\u001b[0m\u001b[0maxes\u001b[0m\u001b[0;34m[\u001b[0m\u001b[0maxis\u001b[0m\u001b[0;34m]\u001b[0m\u001b[0;34m.\u001b[0m\u001b[0mget_level_values\u001b[0m\u001b[0;34m(\u001b[0m\u001b[0mkey\u001b[0m\u001b[0;34m)\u001b[0m\u001b[0;34m.\u001b[0m\u001b[0m_values\u001b[0m\u001b[0;34m\u001b[0m\u001b[0;34m\u001b[0m\u001b[0m\n\u001b[1;32m   1839\u001b[0m         \u001b[0;32melse\u001b[0m\u001b[0;34m:\u001b[0m\u001b[0;34m\u001b[0m\u001b[0;34m\u001b[0m\u001b[0m\n\u001b[0;32m-> 1840\u001b[0;31m             \u001b[0;32mraise\u001b[0m \u001b[0mKeyError\u001b[0m\u001b[0;34m(\u001b[0m\u001b[0mkey\u001b[0m\u001b[0;34m)\u001b[0m\u001b[0;34m\u001b[0m\u001b[0;34m\u001b[0m\u001b[0m\n\u001b[0m\u001b[1;32m   1841\u001b[0m \u001b[0;34m\u001b[0m\u001b[0m\n\u001b[1;32m   1842\u001b[0m         \u001b[0;31m# Check for duplicates\u001b[0m\u001b[0;34m\u001b[0m\u001b[0;34m\u001b[0m\u001b[0m\n",
      "\u001b[0;31mKeyError\u001b[0m: 'actual_k'"
     ]
    }
   ],
   "source": [
    "df_results = list_result_knn(predictions)\n",
    "df_results"
   ]
  },
  {
   "cell_type": "markdown",
   "id": "89cc9f52",
   "metadata": {},
   "source": [
    "### Examination"
   ]
  },
  {
   "cell_type": "raw",
   "id": "a457e222",
   "metadata": {},
   "source": [
    "examined_recipes = [9872, 809]\n",
    "\n",
    "df_examine_1 = df_recipe_ratings.loc[df_recipe_ratings[\"Item\"].isin(examined_recipes)]\n",
    "\n",
    "len(df_examine_1)#.pivot_table(values='Rating', index=\"User\", columns=\"Item\")"
   ]
  },
  {
   "cell_type": "raw",
   "id": "027e3e35",
   "metadata": {},
   "source": [
    "examined_users = df_examine_1[\"User\"].to_list()\n",
    "\n",
    "for item in examined_users:\n",
    "    print(df_reviews.loc[df_reviews[\"User\"]==item])"
   ]
  },
  {
   "cell_type": "raw",
   "id": "4abbaad8",
   "metadata": {},
   "source": [
    "df_reviews.loc[(df_reviews[\"Item\"] == 8264)][\"User\"].to_list()"
   ]
  },
  {
   "cell_type": "raw",
   "id": "958ec4d5",
   "metadata": {},
   "source": [
    "def intersection(lst1, lst2):\n",
    "    return list(set(lst1) & set(lst2))\n",
    " \n",
    "# Driver Code\n",
    "lst1 = df_examine_1[\"User\"].to_list()\n",
    "lst2 = df_reviews.loc[(df_reviews[\"Item\"] == 8264)][\"User\"].to_list()\n",
    "print(intersection(lst1, lst2))"
   ]
  },
  {
   "cell_type": "markdown",
   "id": "380e2596",
   "metadata": {},
   "source": [
    "---"
   ]
  },
  {
   "cell_type": "markdown",
   "id": "4debb0da",
   "metadata": {},
   "source": [
    "# 4. Save model"
   ]
  },
  {
   "cell_type": "code",
   "execution_count": null,
   "id": "9509a24a",
   "metadata": {},
   "outputs": [],
   "source": []
  }
 ],
 "metadata": {
  "kernelspec": {
   "display_name": "Python 3 (ipykernel)",
   "language": "python",
   "name": "python3"
  },
  "language_info": {
   "codemirror_mode": {
    "name": "ipython",
    "version": 3
   },
   "file_extension": ".py",
   "mimetype": "text/x-python",
   "name": "python",
   "nbconvert_exporter": "python",
   "pygments_lexer": "ipython3",
   "version": "3.9.13"
  }
 },
 "nbformat": 4,
 "nbformat_minor": 5
}
