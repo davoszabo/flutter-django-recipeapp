{
 "cells": [
  {
   "cell_type": "markdown",
   "id": "f219a187",
   "metadata": {},
   "source": [
    "# 0. Imports"
   ]
  },
  {
   "cell_type": "code",
   "execution_count": 1,
   "id": "05cd2531",
   "metadata": {},
   "outputs": [],
   "source": [
    "import pandas as pd\n",
    "import numpy as np"
   ]
  },
  {
   "cell_type": "markdown",
   "id": "b31f8b4c",
   "metadata": {},
   "source": [
    "---"
   ]
  },
  {
   "cell_type": "markdown",
   "id": "78f01b08",
   "metadata": {},
   "source": [
    "# 1. Load datasets"
   ]
  },
  {
   "cell_type": "raw",
   "id": "9b47fa2f",
   "metadata": {},
   "source": [
    "df_reviews = pd.read_csv(\"datasets/raw/reviews.csv\")\n",
    "df_reviews.to_pickle('datasets/raw/reviews.pkl')"
   ]
  },
  {
   "cell_type": "code",
   "execution_count": 13,
   "id": "23ce2623",
   "metadata": {},
   "outputs": [],
   "source": [
    "df_reviews = pd.read_pickle('datasets/raw/reviews.pkl')"
   ]
  },
  {
   "cell_type": "code",
   "execution_count": 14,
   "id": "76a60236",
   "metadata": {},
   "outputs": [
    {
     "data": {
      "text/plain": [
       "24742"
      ]
     },
     "execution_count": 14,
     "metadata": {},
     "output_type": "execute_result"
    }
   ],
   "source": [
    "df_recipes = pd.read_csv(\"datasets/sample/recipes_sample_main.csv\", sep=';')\n",
    "len(df_recipes)"
   ]
  },
  {
   "cell_type": "code",
   "execution_count": 3,
   "id": "20a1d513",
   "metadata": {},
   "outputs": [
    {
     "data": {
      "text/plain": [
       "494963"
      ]
     },
     "execution_count": 3,
     "metadata": {},
     "output_type": "execute_result"
    }
   ],
   "source": [
    "df_recipes = pd.read_pickle('datasets/refined/recipes_refined_merged_char.pkl')\n",
    "len(df_recipes)"
   ]
  },
  {
   "cell_type": "markdown",
   "id": "011034af",
   "metadata": {},
   "source": [
    "### Make sample df"
   ]
  },
  {
   "cell_type": "markdown",
   "id": "8aec83dd",
   "metadata": {},
   "source": [
    "df_sample = df_recipes.sample(frac = .1)\n",
    "len(df_sample)"
   ]
  },
  {
   "cell_type": "markdown",
   "id": "6da34c13",
   "metadata": {},
   "source": [
    "### Save sample (CSV+PICKLE) "
   ]
  },
  {
   "cell_type": "raw",
   "id": "c65ad7b9",
   "metadata": {},
   "source": [
    "df_sample = pd.read_pickle('sample/refined_recipes_2_sample_main_attempt.pkl')"
   ]
  },
  {
   "cell_type": "raw",
   "id": "39a28fca",
   "metadata": {},
   "source": [
    "df_sample = pd.read_csv(\"sample/refined_recipes_2_sample_main_attempt.csv\", sep=';')"
   ]
  },
  {
   "cell_type": "raw",
   "id": "620681e5",
   "metadata": {},
   "source": [
    "df_sample.drop(columns=[\"listed\"], inplace=True)"
   ]
  },
  {
   "cell_type": "raw",
   "id": "6e9dacc8",
   "metadata": {},
   "source": [
    "df_sample['review_count'] = df_sample['review_count'].astype('Int64')"
   ]
  },
  {
   "cell_type": "raw",
   "id": "a62317b4",
   "metadata": {
    "scrolled": true
   },
   "source": [
    "for col in [\"tags\", \"steps\", \"ingredients\", \"ingredients_raw_str\", \"search_terms\"]:\n",
    "    #df_merged[col] = df_merged[col].str.replace('[','{').str.replace(']','}', regex=False).str.replace(\"'\",'\"').str.replace(\"'\",'\"')    \n",
    "    \n",
    "    df_sample[col] = df_sample[col].str.replace(\"{\",'(').str.replace(\"}\",')')\n",
    "    df_sample[col] = \"{\" + df_sample[col].str[1:-1] + \"}\"\n",
    "    "
   ]
  },
  {
   "cell_type": "raw",
   "id": "ba1e8012",
   "metadata": {},
   "source": [
    "for col in [\"tags\", \"steps\", \"ingredients\", \"ingredients_raw_str\", \"search_terms\"]:\n",
    "    df_sample[col] = df_sample[col].str.replace(', \"','', regex=False)   "
   ]
  },
  {
   "cell_type": "raw",
   "id": "bf94512c",
   "metadata": {
    "scrolled": true
   },
   "source": [
    "df_sample"
   ]
  },
  {
   "cell_type": "raw",
   "id": "a2e91448",
   "metadata": {},
   "source": [
    "df_sample.to_csv('sample/refined_recipes_2_sample_main.csv', index=False, sep=\";\")\n",
    "df_sample.to_pickle('sample/refined_recipes_2_sample_main.pkl')"
   ]
  },
  {
   "cell_type": "markdown",
   "id": "2817dde9",
   "metadata": {},
   "source": [
    "## 1.1 Load from pickle"
   ]
  },
  {
   "cell_type": "raw",
   "id": "e4cb285c",
   "metadata": {},
   "source": [
    "df_sample = pd.read_pickle('sample/refined_recipes_2_sample_main.pkl')"
   ]
  },
  {
   "cell_type": "markdown",
   "id": "36be202d",
   "metadata": {},
   "source": [
    "### Override if necessary"
   ]
  },
  {
   "cell_type": "raw",
   "id": "c991b761",
   "metadata": {},
   "source": [
    "df_recipes = df_sample"
   ]
  },
  {
   "cell_type": "markdown",
   "id": "52fcea0a",
   "metadata": {},
   "source": [
    "---"
   ]
  },
  {
   "cell_type": "markdown",
   "id": "bd5e2e42",
   "metadata": {},
   "source": [
    "# 2. Refine "
   ]
  },
  {
   "cell_type": "markdown",
   "id": "c87170ba",
   "metadata": {},
   "source": [
    "### Review simplify"
   ]
  },
  {
   "cell_type": "code",
   "execution_count": 15,
   "id": "c3f536bb",
   "metadata": {},
   "outputs": [],
   "source": [
    "df_reviews.drop([\"ReviewId\", \"AuthorName\", \"Review\", \"DateSubmitted\", \"DateModified\"], axis=1, inplace = True)\n",
    "df_reviews.columns = [\"Item\", \"User\", \"Rating\"]\n",
    "df_reviews = df_reviews[[\"User\", \"Item\", \"Rating\"]]"
   ]
  },
  {
   "cell_type": "markdown",
   "id": "d305f23b",
   "metadata": {},
   "source": [
    "### Filtering reviews"
   ]
  },
  {
   "cell_type": "code",
   "execution_count": 16,
   "id": "c5075ac0",
   "metadata": {},
   "outputs": [
    {
     "data": {
      "text/plain": [
       "23429"
      ]
     },
     "execution_count": 16,
     "metadata": {},
     "output_type": "execute_result"
    }
   ],
   "source": [
    "df_recipe_review_counts = df_reviews.groupby(['Item']).size()\n",
    "\n",
    "df_filtered_recipes = df_recipe_review_counts.loc[(df_recipe_review_counts > 10)]\n",
    "\n",
    "filtered_recipes_list = df_filtered_recipes.index.tolist()\n",
    "\n",
    "len(filtered_recipes_list)"
   ]
  },
  {
   "cell_type": "markdown",
   "id": "8c671faf",
   "metadata": {},
   "source": [
    "### Is the reviewed recipe in the main dataset (narrowing)"
   ]
  },
  {
   "cell_type": "code",
   "execution_count": 17,
   "id": "50ec8f35",
   "metadata": {},
   "outputs": [
    {
     "data": {
      "text/plain": [
       "1175"
      ]
     },
     "execution_count": 17,
     "metadata": {},
     "output_type": "execute_result"
    }
   ],
   "source": [
    "all_recipes_list = df_recipes.id.tolist()\n",
    "\n",
    "filtered_all_recipes_list = [value for value in filtered_recipes_list if value in all_recipes_list]\n",
    "\n",
    "len(filtered_all_recipes_list)"
   ]
  },
  {
   "cell_type": "code",
   "execution_count": 18,
   "id": "04521488",
   "metadata": {
    "scrolled": true
   },
   "outputs": [
    {
     "data": {
      "text/plain": [
       "User      38058\n",
       "Item      38058\n",
       "Rating    38058\n",
       "dtype: int64"
      ]
     },
     "execution_count": 18,
     "metadata": {},
     "output_type": "execute_result"
    }
   ],
   "source": [
    "df_recipe_ratings = df_reviews[df_reviews['Item'].isin(filtered_all_recipes_list)]\n",
    "df_recipe_ratings.count()"
   ]
  },
  {
   "cell_type": "code",
   "execution_count": 19,
   "id": "01ea4dd1",
   "metadata": {},
   "outputs": [
    {
     "data": {
      "text/html": [
       "<div>\n",
       "<style scoped>\n",
       "    .dataframe tbody tr th:only-of-type {\n",
       "        vertical-align: middle;\n",
       "    }\n",
       "\n",
       "    .dataframe tbody tr th {\n",
       "        vertical-align: top;\n",
       "    }\n",
       "\n",
       "    .dataframe thead th {\n",
       "        text-align: right;\n",
       "    }\n",
       "</style>\n",
       "<table border=\"1\" class=\"dataframe\">\n",
       "  <thead>\n",
       "    <tr style=\"text-align: right;\">\n",
       "      <th></th>\n",
       "      <th>User</th>\n",
       "      <th>Item</th>\n",
       "      <th>Rating</th>\n",
       "    </tr>\n",
       "  </thead>\n",
       "  <tbody>\n",
       "    <tr>\n",
       "      <th>47</th>\n",
       "      <td>3166</td>\n",
       "      <td>4165</td>\n",
       "      <td>0</td>\n",
       "    </tr>\n",
       "    <tr>\n",
       "      <th>118</th>\n",
       "      <td>3912</td>\n",
       "      <td>8278</td>\n",
       "      <td>5</td>\n",
       "    </tr>\n",
       "    <tr>\n",
       "      <th>180</th>\n",
       "      <td>4240</td>\n",
       "      <td>4165</td>\n",
       "      <td>0</td>\n",
       "    </tr>\n",
       "    <tr>\n",
       "      <th>250</th>\n",
       "      <td>5049</td>\n",
       "      <td>1559</td>\n",
       "      <td>4</td>\n",
       "    </tr>\n",
       "    <tr>\n",
       "      <th>276</th>\n",
       "      <td>5643</td>\n",
       "      <td>1209</td>\n",
       "      <td>5</td>\n",
       "    </tr>\n",
       "    <tr>\n",
       "      <th>...</th>\n",
       "      <td>...</td>\n",
       "      <td>...</td>\n",
       "      <td>...</td>\n",
       "    </tr>\n",
       "    <tr>\n",
       "      <th>1401865</th>\n",
       "      <td>2002898723</td>\n",
       "      <td>11345</td>\n",
       "      <td>1</td>\n",
       "    </tr>\n",
       "    <tr>\n",
       "      <th>1401910</th>\n",
       "      <td>2002900056</td>\n",
       "      <td>406867</td>\n",
       "      <td>5</td>\n",
       "    </tr>\n",
       "    <tr>\n",
       "      <th>1401937</th>\n",
       "      <td>2002900712</td>\n",
       "      <td>11345</td>\n",
       "      <td>5</td>\n",
       "    </tr>\n",
       "    <tr>\n",
       "      <th>1401949</th>\n",
       "      <td>2002901010</td>\n",
       "      <td>2886</td>\n",
       "      <td>0</td>\n",
       "    </tr>\n",
       "    <tr>\n",
       "      <th>1401961</th>\n",
       "      <td>2002901271</td>\n",
       "      <td>54752</td>\n",
       "      <td>5</td>\n",
       "    </tr>\n",
       "  </tbody>\n",
       "</table>\n",
       "<p>38058 rows × 3 columns</p>\n",
       "</div>"
      ],
      "text/plain": [
       "               User    Item  Rating\n",
       "47             3166    4165       0\n",
       "118            3912    8278       5\n",
       "180            4240    4165       0\n",
       "250            5049    1559       4\n",
       "276            5643    1209       5\n",
       "...             ...     ...     ...\n",
       "1401865  2002898723   11345       1\n",
       "1401910  2002900056  406867       5\n",
       "1401937  2002900712   11345       5\n",
       "1401949  2002901010    2886       0\n",
       "1401961  2002901271   54752       5\n",
       "\n",
       "[38058 rows x 3 columns]"
      ]
     },
     "execution_count": 19,
     "metadata": {},
     "output_type": "execute_result"
    }
   ],
   "source": [
    "df_recipe_ratings"
   ]
  },
  {
   "cell_type": "markdown",
   "id": "6f9d3a33",
   "metadata": {},
   "source": [
    "### Save recipe ratings"
   ]
  },
  {
   "cell_type": "code",
   "execution_count": 9,
   "id": "56cc2b2f",
   "metadata": {},
   "outputs": [],
   "source": [
    "df_recipe_ratings.to_pickle('serialized-model/recipe_ratings.pkl')"
   ]
  },
  {
   "cell_type": "raw",
   "id": "ec32196d",
   "metadata": {},
   "source": [
    "df_recipe_ratings = pd.read_pickle('serialized-model/recipe_ratings.pkl')"
   ]
  },
  {
   "cell_type": "markdown",
   "id": "736d8353",
   "metadata": {},
   "source": [
    "---"
   ]
  },
  {
   "cell_type": "markdown",
   "id": "8d640010",
   "metadata": {},
   "source": [
    "# SAMPLE"
   ]
  },
  {
   "cell_type": "raw",
   "id": "b4f97a21",
   "metadata": {},
   "source": [
    "df_thesis = df_recipes.loc[df_recipes[\"review_count\"] > 10]"
   ]
  },
  {
   "cell_type": "raw",
   "id": "a9a816d8",
   "metadata": {},
   "source": [
    "df_thesis = df_thesis.sample(n=40)"
   ]
  },
  {
   "cell_type": "raw",
   "id": "42ae1514",
   "metadata": {},
   "source": [
    "df_thesis_list = df_thesis.id.to_list()\n",
    "df_thesis"
   ]
  },
  {
   "cell_type": "raw",
   "id": "b5c3197e",
   "metadata": {},
   "source": [
    "df_ratings_thesis = df_recipe_ratings.loc[df_recipe_ratings[\"Item\"].isin(df_thesis_list)].groupby(by=[\"User\"]).count()"
   ]
  },
  {
   "cell_type": "raw",
   "id": "41ee15b8",
   "metadata": {},
   "source": [
    "df_rated_more_than_two = df_ratings_thesis.loc[df_ratings_thesis[\"Item\"].isin([3,4])].index.to_list()"
   ]
  },
  {
   "cell_type": "raw",
   "id": "d2e48bfe",
   "metadata": {
    "scrolled": true
   },
   "source": [
    "df_rated_more_than_two"
   ]
  },
  {
   "cell_type": "raw",
   "id": "d36a7bab",
   "metadata": {
    "scrolled": true
   },
   "source": [
    "df_thesis_table_almost = df_recipe_ratings.loc[df_recipe_ratings[\"User\"].isin(df_rated_more_than_two)].loc[df_recipe_ratings[\"Item\"].isin(df_thesis_list)]"
   ]
  },
  {
   "cell_type": "raw",
   "id": "5a63c83c",
   "metadata": {},
   "source": [
    "df_thesis_table_almost"
   ]
  },
  {
   "cell_type": "raw",
   "id": "ee2e46b9",
   "metadata": {},
   "source": [
    "p_table = pd.pivot_table(df_thesis_table_almost, index = [\"User\", \"Item\"])"
   ]
  },
  {
   "cell_type": "raw",
   "id": "90bd98df",
   "metadata": {},
   "source": [
    "p_table"
   ]
  },
  {
   "cell_type": "raw",
   "id": "1e613e8f",
   "metadata": {
    "scrolled": true
   },
   "source": [
    "p_table = pd.crosstab(df_thesis_table_almost.User, df_thesis_table_almost.Item)\n",
    "p_table"
   ]
  },
  {
   "cell_type": "raw",
   "id": "3c408445",
   "metadata": {},
   "source": [
    "with pd.option_context('display.max_rows', None, 'display.max_columns', None):  # more options can be specified also\n",
    "    display(p_table.replace(0, \"-\"))"
   ]
  },
  {
   "cell_type": "markdown",
   "id": "c192c92b",
   "metadata": {},
   "source": [
    "# Add new user"
   ]
  },
  {
   "cell_type": "raw",
   "id": "eecbfa0c",
   "metadata": {},
   "source": [
    "### Adding new user reviews"
   ]
  },
  {
   "cell_type": "raw",
   "id": "86e45967",
   "metadata": {},
   "source": [
    "new_user_liked_recipes = [12349, 20731, 73499]"
   ]
  },
  {
   "cell_type": "raw",
   "id": "f8f8987d",
   "metadata": {
    "scrolled": true
   },
   "source": [
    "df_new_user = pd.DataFrame({\"User\": 1853000001, \"Item\": new_user_liked_recipes, \"Rating\": 5})\n",
    "df_new_user"
   ]
  },
  {
   "cell_type": "raw",
   "id": "d78b4891",
   "metadata": {},
   "source": [
    "df_recipes.loc[df_recipes[\"id\"].isin(df_new_user.Item.tolist())]"
   ]
  },
  {
   "cell_type": "raw",
   "id": "53c12a60",
   "metadata": {},
   "source": [
    "### DROP IF NECESSARY"
   ]
  },
  {
   "cell_type": "raw",
   "id": "77d35444",
   "metadata": {},
   "source": [
    "idxs = df_recipe_ratings.loc[df_reviews[\"User\"] == 4177].index\n",
    "idxs"
   ]
  },
  {
   "cell_type": "raw",
   "id": "7e6aa98b",
   "metadata": {},
   "source": [
    "df_recipe_ratings_clarified = df_recipe_ratings.drop(idxs)"
   ]
  },
  {
   "cell_type": "raw",
   "id": "558952ab",
   "metadata": {},
   "source": [
    "### Concatenating base and new df"
   ]
  },
  {
   "cell_type": "raw",
   "id": "cc877392",
   "metadata": {},
   "source": [
    "df_concat = pd.concat([df_recipe_ratings_clarified, df_new_user], sort=False, ignore_index=True)\n",
    "df_concat2 = pd.concat([df_recipe_ratings, df_new_user], sort=False, ignore_index=True)"
   ]
  },
  {
   "cell_type": "raw",
   "id": "ab2fb792",
   "metadata": {},
   "source": [
    "df_concat_v3 = pd.concat([df_thesis_table_almost, df_new_user], sort=False, ignore_index=True)"
   ]
  },
  {
   "cell_type": "raw",
   "id": "4a0723bd",
   "metadata": {},
   "source": [
    "with pd.option_context('display.max_rows', None, 'display.max_columns', None):  # more options can be specified also\n",
    "    display(pd.crosstab(df_concat_v3.User, df_concat_v3.Item).replace(0, \"-\"))\n"
   ]
  },
  {
   "cell_type": "raw",
   "id": "d56e5478",
   "metadata": {},
   "source": [
    "[73499, 52089, 23808, 391996, 361414, 2532, 92592, 53034, 196850, 16273]\n",
    "[73499, 52089, 74275, 223424, 391996, 361414, 2532, 92592, 53034, 196850]\n",
    "\n",
    "[223424, 52089, 196850, 74275, 20266, 391996, 361414, 2532, 92592, 53034]\n",
    "[52089, 74275, 223424, 196850]"
   ]
  },
  {
   "cell_type": "raw",
   "id": "6435e2fb",
   "metadata": {
    "scrolled": true
   },
   "source": [
    "df_concat.loc[df_concat[\"User\"].isin([1853000001, 4177])]"
   ]
  },
  {
   "cell_type": "markdown",
   "id": "3f5c21b9",
   "metadata": {},
   "source": [
    "---"
   ]
  },
  {
   "cell_type": "markdown",
   "id": "86b6549f",
   "metadata": {},
   "source": [
    "# 3. Model training"
   ]
  },
  {
   "cell_type": "markdown",
   "id": "931a55c7",
   "metadata": {},
   "source": [
    "### Imports"
   ]
  },
  {
   "cell_type": "code",
   "execution_count": 20,
   "id": "1ccf9a7c",
   "metadata": {},
   "outputs": [],
   "source": [
    "from surprise import NormalPredictor\n",
    "from surprise import Dataset\n",
    "from surprise import Reader\n",
    "from surprise import SVD\n",
    "from surprise import SVDpp\n",
    "from surprise import KNNBasic\n",
    "from surprise.model_selection import cross_validate\n",
    "\n",
    "import pickle"
   ]
  },
  {
   "cell_type": "markdown",
   "id": "cd956cc9",
   "metadata": {},
   "source": [
    "### Load and read df"
   ]
  },
  {
   "cell_type": "code",
   "execution_count": 21,
   "id": "6a1f2ead",
   "metadata": {},
   "outputs": [],
   "source": [
    "reader = Reader(rating_scale=(0, 5))\n",
    "\n",
    "#data = Dataset.load_from_df(df_concat_v3, reader)\n",
    "data = Dataset.load_from_df(df_recipe_ratings, reader)\n",
    "#data = Dataset.load_from_df(df_concat, reader)"
   ]
  },
  {
   "cell_type": "markdown",
   "id": "69e999d8",
   "metadata": {},
   "source": [
    "### Training set"
   ]
  },
  {
   "cell_type": "code",
   "execution_count": 22,
   "id": "e22fa77f",
   "metadata": {},
   "outputs": [],
   "source": [
    "trainSet = data.build_full_trainset()"
   ]
  },
  {
   "cell_type": "raw",
   "id": "6a360005",
   "metadata": {},
   "source": [
    "trainSet"
   ]
  },
  {
   "cell_type": "code",
   "execution_count": 12,
   "id": "df5b4a2a",
   "metadata": {},
   "outputs": [
    {
     "data": {
      "text/plain": [
       "2008"
      ]
     },
     "execution_count": 12,
     "metadata": {},
     "output_type": "execute_result"
    }
   ],
   "source": [
    "trainSet.to_raw_uid(0)"
   ]
  },
  {
   "cell_type": "code",
   "execution_count": 13,
   "id": "6dd2116a",
   "metadata": {},
   "outputs": [],
   "source": [
    "def trainset_contains(id):\n",
    "    try:\n",
    "        trainSet.to_inner_uid(id)\n",
    "        return True\n",
    "    except:\n",
    "        print(\"Item is not part of the trainset.\")\n",
    "        return False"
   ]
  },
  {
   "cell_type": "code",
   "execution_count": 15,
   "id": "b425f79c",
   "metadata": {},
   "outputs": [
    {
     "data": {
      "text/plain": [
       "True"
      ]
     },
     "execution_count": 15,
     "metadata": {},
     "output_type": "execute_result"
    }
   ],
   "source": [
    "trainset_contains(90221)"
   ]
  },
  {
   "cell_type": "markdown",
   "id": "910c6b24",
   "metadata": {},
   "source": [
    "### Save and load training set"
   ]
  },
  {
   "cell_type": "code",
   "execution_count": 68,
   "id": "5248e074",
   "metadata": {},
   "outputs": [],
   "source": [
    "pickle.dump(trainSet, open('serialized-model/trainset.pkl', 'wb'))"
   ]
  },
  {
   "cell_type": "raw",
   "id": "918e8699",
   "metadata": {},
   "source": [
    "trainSet = pickle.load(open('serialized-model/trainset.pkl', 'rb'))"
   ]
  },
  {
   "cell_type": "markdown",
   "id": "f09e6e77",
   "metadata": {},
   "source": [
    "### Anti training (test) set for ONE specific user"
   ]
  },
  {
   "cell_type": "code",
   "execution_count": 14,
   "id": "7f1b793b",
   "metadata": {},
   "outputs": [],
   "source": [
    "def make_anti_testset(raw_user_id):\n",
    "    anti_testset_user = []\n",
    "    \n",
    "    #targetUser = 0 #inner_id of the target user\n",
    "    targetUser = trainSet.to_inner_uid(raw_user_id)\n",
    "    \n",
    "    fillValue = trainSet.global_mean\n",
    "    \n",
    "    user_item_ratings = trainSet.ur[targetUser]\n",
    "    user_items = [item for (item,_) in (user_item_ratings)]\n",
    "    user_items\n",
    "    \n",
    "    ratings = trainSet.all_ratings()\n",
    "    \n",
    "    for iid in trainSet.all_items():\n",
    "        if(iid not in user_items):\n",
    "            anti_testset_user.append((trainSet.to_raw_uid(targetUser),trainSet.to_raw_iid(iid),fillValue))\n",
    "            \n",
    "    return anti_testset_user"
   ]
  },
  {
   "cell_type": "markdown",
   "id": "2ddbefc8",
   "metadata": {},
   "source": [
    "## 3.1 Validating"
   ]
  },
  {
   "cell_type": "markdown",
   "id": "9b8c58e7",
   "metadata": {},
   "source": [
    "### Normal Predictor"
   ]
  },
  {
   "cell_type": "code",
   "execution_count": 14,
   "id": "da85a013",
   "metadata": {},
   "outputs": [
    {
     "name": "stdout",
     "output_type": "stream",
     "text": [
      "Evaluating RMSE, MAE of algorithm NormalPredictor on 5 split(s).\n",
      "\n",
      "                  Fold 1  Fold 2  Fold 3  Fold 4  Fold 5  Mean    Std     \n",
      "RMSE (testset)    1.6192  1.6217  1.6171  1.6239  1.6216  1.6207  0.0023  \n",
      "MAE (testset)     1.0898  1.0930  1.0896  1.0950  1.0909  1.0917  0.0020  \n",
      "Fit time          1.26    1.35    1.35    1.36    1.42    1.35    0.05    \n",
      "Test time         1.84    2.09    1.75    1.32    1.79    1.76    0.25    \n"
     ]
    },
    {
     "data": {
      "text/plain": [
       "{'test_rmse': array([1.61920459, 1.62172679, 1.61711712, 1.6238843 , 1.62160761]),\n",
       " 'test_mae': array([1.08980806, 1.09295632, 1.08963012, 1.09497301, 1.09093494]),\n",
       " 'fit_time': (1.2554898262023926,\n",
       "  1.3547992706298828,\n",
       "  1.35099196434021,\n",
       "  1.3627970218658447,\n",
       "  1.418653964996338),\n",
       " 'test_time': (1.835482120513916,\n",
       "  2.091679811477661,\n",
       "  1.747131109237671,\n",
       "  1.317690372467041,\n",
       "  1.789693832397461)}"
      ]
     },
     "execution_count": 14,
     "metadata": {},
     "output_type": "execute_result"
    }
   ],
   "source": [
    "algo = NormalPredictor()\n",
    "cross_validate(algo, data, measures=['RMSE', 'MAE'], cv=5, verbose=True)"
   ]
  },
  {
   "cell_type": "markdown",
   "id": "477aad9d",
   "metadata": {},
   "source": [
    "### KNNBasic"
   ]
  },
  {
   "cell_type": "code",
   "execution_count": null,
   "id": "a1fac2ad",
   "metadata": {},
   "outputs": [],
   "source": [
    "sim_options = {'name': 'cosine',\n",
    "               'user_based': False  # compute  similarities between items\n",
    "               }\n",
    "algo = KNNBasic(sim_options=sim_options)\n",
    "# Run 5-fold cross-validation and print results\n",
    "cross_validate(algo, data, measures=['RMSE', 'MAE'], cv=3, verbose=True)"
   ]
  },
  {
   "cell_type": "markdown",
   "id": "5d78d054",
   "metadata": {},
   "source": [
    "### SVD"
   ]
  },
  {
   "cell_type": "code",
   "execution_count": 23,
   "id": "1e670b11",
   "metadata": {},
   "outputs": [
    {
     "name": "stdout",
     "output_type": "stream",
     "text": [
      "Evaluating RMSE, MAE of algorithm SVD on 3 split(s).\n",
      "\n",
      "                  Fold 1  Fold 2  Fold 3  Mean    Std     \n",
      "RMSE (testset)    1.3140  1.3119  1.3324  1.3194  0.0092  \n",
      "MAE (testset)     0.8499  0.8536  0.8620  0.8552  0.0051  \n",
      "Fit time          2.85    2.57    2.58    2.67    0.13    \n",
      "Test time         0.18    0.11    0.10    0.13    0.04    \n"
     ]
    },
    {
     "data": {
      "text/plain": [
       "{'test_rmse': array([1.31404924, 1.31189568, 1.33236792]),\n",
       " 'test_mae': array([0.84987175, 0.85362411, 0.86201313]),\n",
       " 'fit_time': (2.848823308944702, 2.5730812549591064, 2.5816802978515625),\n",
       " 'test_time': (0.18066859245300293, 0.1072394847869873, 0.10192370414733887)}"
      ]
     },
     "execution_count": 23,
     "metadata": {},
     "output_type": "execute_result"
    }
   ],
   "source": [
    "#n_factors=100, n_epochs=25, lr_all=0.005, reg_all=0.1\n",
    "algo = SVD(n_factors=100, n_epochs=25, lr_all=0.005, reg_all=0.1)\n",
    "# Run 5-fold cross-validation and print results\n",
    "cross_validate(algo, data, measures=['RMSE', 'MAE'], cv=3, verbose=True)"
   ]
  },
  {
   "cell_type": "markdown",
   "id": "e7c41fc4",
   "metadata": {},
   "source": [
    "### GridSearchCV"
   ]
  },
  {
   "cell_type": "code",
   "execution_count": 12,
   "id": "9f2a4077",
   "metadata": {},
   "outputs": [],
   "source": [
    "from surprise.model_selection import GridSearchCV"
   ]
  },
  {
   "cell_type": "code",
   "execution_count": null,
   "id": "44e768dd",
   "metadata": {},
   "outputs": [],
   "source": [
    "from surprise.model_selection import GridSearchCV\n",
    "\n",
    "param_grid = {'n_factors': [100,150],\n",
    "              'n_epochs': [20,25,30],\n",
    "              'lr_all':[0.005,0.01,0.1],\n",
    "              'reg_all':[0.02,0.05,0.1]}\n",
    "grid_search = GridSearchCV(SVD, param_grid, measures=['rmse','mae'], cv=3)\n",
    "grid_search.fit(data)"
   ]
  },
  {
   "cell_type": "code",
   "execution_count": null,
   "id": "11079752",
   "metadata": {},
   "outputs": [],
   "source": [
    "print(grid_search.best_score['rmse'])\n",
    "print(grid_search.best_score['mae'])"
   ]
  },
  {
   "cell_type": "code",
   "execution_count": null,
   "id": "7dd8d0b7",
   "metadata": {},
   "outputs": [],
   "source": [
    "print(grid_search.best_params['rmse'])"
   ]
  },
  {
   "cell_type": "code",
   "execution_count": null,
   "id": "63ddee7c",
   "metadata": {},
   "outputs": [],
   "source": [
    "algo = grid_search.best_estimator['rmse']\n",
    "\n",
    "cross_validate(algo, data, measures=['RMSE', 'MAE'], cv=5, verbose=True)"
   ]
  },
  {
   "cell_type": "markdown",
   "id": "eff6ef7c",
   "metadata": {},
   "source": [
    "## 3.2 Fit and test on trainset"
   ]
  },
  {
   "cell_type": "markdown",
   "id": "f005f837",
   "metadata": {},
   "source": [
    "### Fitting algorithm"
   ]
  },
  {
   "cell_type": "code",
   "execution_count": 71,
   "id": "1fa994f9",
   "metadata": {},
   "outputs": [
    {
     "name": "stdout",
     "output_type": "stream",
     "text": [
      "Computing the cosine similarity matrix...\n",
      "Done computing similarity matrix.\n"
     ]
    },
    {
     "name": "stderr",
     "output_type": "stream",
     "text": [
      "/opt/conda/lib/python3.9/site-packages/surprise/prediction_algorithms/algo_base.py:249: RuntimeWarning: invalid value encountered in double_scalars\n",
      "  sim = construction_func[name](*args)\n"
     ]
    },
    {
     "data": {
      "text/plain": [
       "<surprise.prediction_algorithms.knns.KNNBasic at 0x7fb6f6233a90>"
      ]
     },
     "execution_count": 71,
     "metadata": {},
     "output_type": "execute_result"
    }
   ],
   "source": [
    "algo = KNNBasic(sim_options = {\"name\":\"cosine\", \"user_based\":False})#SVD()\n",
    "algo.fit(trainSet)"
   ]
  },
  {
   "cell_type": "code",
   "execution_count": 72,
   "id": "f2c7a9d6",
   "metadata": {},
   "outputs": [],
   "source": [
    "pickle.dump(algo, open('serialized-model/recrecsys.pkl', 'wb'))"
   ]
  },
  {
   "cell_type": "markdown",
   "id": "742e95fd",
   "metadata": {},
   "source": [
    "### Checking for one user"
   ]
  },
  {
   "cell_type": "code",
   "execution_count": 73,
   "id": "131f5f6b",
   "metadata": {},
   "outputs": [
    {
     "data": {
      "text/plain": [
       "2312"
      ]
     },
     "execution_count": 73,
     "metadata": {},
     "output_type": "execute_result"
    }
   ],
   "source": [
    "user_id = 8\n",
    "\n",
    "raw_user_id = trainSet.to_raw_uid(user_id)\n",
    "\n",
    "raw_user_id\n",
    "#2178"
   ]
  },
  {
   "cell_type": "raw",
   "id": "5ac3042d",
   "metadata": {},
   "source": [
    "raw_user_id = 1853000001"
   ]
  },
  {
   "cell_type": "markdown",
   "id": "4487f7bb",
   "metadata": {},
   "source": [
    "### List user reviewed recipes"
   ]
  },
  {
   "cell_type": "code",
   "execution_count": 74,
   "id": "4620d6cb",
   "metadata": {
    "scrolled": false
   },
   "outputs": [
    {
     "data": {
      "text/html": [
       "<div>\n",
       "<style scoped>\n",
       "    .dataframe tbody tr th:only-of-type {\n",
       "        vertical-align: middle;\n",
       "    }\n",
       "\n",
       "    .dataframe tbody tr th {\n",
       "        vertical-align: top;\n",
       "    }\n",
       "\n",
       "    .dataframe thead th {\n",
       "        text-align: right;\n",
       "    }\n",
       "</style>\n",
       "<table border=\"1\" class=\"dataframe\">\n",
       "  <thead>\n",
       "    <tr style=\"text-align: right;\">\n",
       "      <th></th>\n",
       "      <th>id</th>\n",
       "      <th>name</th>\n",
       "      <th>author_name</th>\n",
       "      <th>submitted</th>\n",
       "      <th>image_url</th>\n",
       "      <th>minutes</th>\n",
       "      <th>description</th>\n",
       "      <th>category</th>\n",
       "      <th>tags</th>\n",
       "      <th>search_terms</th>\n",
       "      <th>steps</th>\n",
       "      <th>ingredients</th>\n",
       "      <th>ingredients_raw_str</th>\n",
       "      <th>serving_size</th>\n",
       "      <th>servings</th>\n",
       "      <th>calories</th>\n",
       "      <th>rating</th>\n",
       "      <th>review_count</th>\n",
       "    </tr>\n",
       "  </thead>\n",
       "  <tbody>\n",
       "    <tr>\n",
       "      <th>1870</th>\n",
       "      <td>61718</td>\n",
       "      <td>Cross Rib Roast</td>\n",
       "      <td>agileangus</td>\n",
       "      <td>2003-05-08</td>\n",
       "      <td>\"https://img.sndimg.com/food/image/upload/w_55...</td>\n",
       "      <td>85</td>\n",
       "      <td>I found this delicious, simple-to-prepare reci...</td>\n",
       "      <td>Roast Beef</td>\n",
       "      <td>{\"weeknight\",\"time-to-make\",\"main-ingredient\",...</td>\n",
       "      <td>{\"roast\",\"dinner\"}</td>\n",
       "      <td>{\"Brush roast with balsamic vinegar.\",\"Make a ...</td>\n",
       "      <td>{\"cross-rib roasts\",\"balsamic vinegar\",\"garlic...</td>\n",
       "      <td>{\"2   lbs    cross-rib roasts\",\"2   tablespoon...</td>\n",
       "      <td>1 (14 g)</td>\n",
       "      <td>4</td>\n",
       "      <td>47.4</td>\n",
       "      <td>5.0</td>\n",
       "      <td>90</td>\n",
       "    </tr>\n",
       "    <tr>\n",
       "      <th>19197</th>\n",
       "      <td>2886</td>\n",
       "      <td>Best Banana Bread</td>\n",
       "      <td>lkadlec</td>\n",
       "      <td>1999-09-26</td>\n",
       "      <td>\"https://img.sndimg.com/food/image/upload/w_55...</td>\n",
       "      <td>70</td>\n",
       "      <td>You'll never need another banana bread recipe ...</td>\n",
       "      <td>Quick Breads</td>\n",
       "      <td>{\"time-to-make\",\"course\",\"main-ingredient\",\"cu...</td>\n",
       "      <td>{\"bread\"}</td>\n",
       "      <td>{\"Remove odd pots and pans from oven.\",\"Prehea...</td>\n",
       "      <td>{\"butter\",\"granulated sugar\",\"eggs\",\"bananas\",...</td>\n",
       "      <td>{\"1/2  cup    butter; softened \",\"1   cup    g...</td>\n",
       "      <td>1 (96 g)</td>\n",
       "      <td>10</td>\n",
       "      <td>272.8</td>\n",
       "      <td>5.0</td>\n",
       "      <td>2273</td>\n",
       "    </tr>\n",
       "    <tr>\n",
       "      <th>22838</th>\n",
       "      <td>26479</td>\n",
       "      <td>Chocolate Chip Oatmeal Cookies</td>\n",
       "      <td>Kim D.</td>\n",
       "      <td>2002-04-27</td>\n",
       "      <td>\"https://img.sndimg.com/food/image/upload/w_55...</td>\n",
       "      <td>50</td>\n",
       "      <td>These cookies are so good! I found the recipe ...</td>\n",
       "      <td>Drop Cookies</td>\n",
       "      <td>{\"60-minutes-or-less\",\"time-to-make\",\"course\",...</td>\n",
       "      <td>{\"cookie\",\"dessert\"}</td>\n",
       "      <td>{\"Preheat oven to 375°F.\",\"Sift together flour...</td>\n",
       "      <td>{\"flour\",\"baking soda\",\"salt\",\"shortening\",\"br...</td>\n",
       "      <td>{\"1 1/2  cups    flour\",\"1 1/4  teaspoons    b...</td>\n",
       "      <td>1 (1496 g)</td>\n",
       "      <td>1</td>\n",
       "      <td>723.7</td>\n",
       "      <td>5.0</td>\n",
       "      <td>171</td>\n",
       "    </tr>\n",
       "  </tbody>\n",
       "</table>\n",
       "</div>"
      ],
      "text/plain": [
       "          id                            name author_name   submitted  \\\n",
       "1870   61718                 Cross Rib Roast  agileangus  2003-05-08   \n",
       "19197   2886               Best Banana Bread     lkadlec  1999-09-26   \n",
       "22838  26479  Chocolate Chip Oatmeal Cookies      Kim D.  2002-04-27   \n",
       "\n",
       "                                               image_url  minutes  \\\n",
       "1870   \"https://img.sndimg.com/food/image/upload/w_55...       85   \n",
       "19197  \"https://img.sndimg.com/food/image/upload/w_55...       70   \n",
       "22838  \"https://img.sndimg.com/food/image/upload/w_55...       50   \n",
       "\n",
       "                                             description      category  \\\n",
       "1870   I found this delicious, simple-to-prepare reci...    Roast Beef   \n",
       "19197  You'll never need another banana bread recipe ...  Quick Breads   \n",
       "22838  These cookies are so good! I found the recipe ...  Drop Cookies   \n",
       "\n",
       "                                                    tags  \\\n",
       "1870   {\"weeknight\",\"time-to-make\",\"main-ingredient\",...   \n",
       "19197  {\"time-to-make\",\"course\",\"main-ingredient\",\"cu...   \n",
       "22838  {\"60-minutes-or-less\",\"time-to-make\",\"course\",...   \n",
       "\n",
       "               search_terms  \\\n",
       "1870     {\"roast\",\"dinner\"}   \n",
       "19197             {\"bread\"}   \n",
       "22838  {\"cookie\",\"dessert\"}   \n",
       "\n",
       "                                                   steps  \\\n",
       "1870   {\"Brush roast with balsamic vinegar.\",\"Make a ...   \n",
       "19197  {\"Remove odd pots and pans from oven.\",\"Prehea...   \n",
       "22838  {\"Preheat oven to 375°F.\",\"Sift together flour...   \n",
       "\n",
       "                                             ingredients  \\\n",
       "1870   {\"cross-rib roasts\",\"balsamic vinegar\",\"garlic...   \n",
       "19197  {\"butter\",\"granulated sugar\",\"eggs\",\"bananas\",...   \n",
       "22838  {\"flour\",\"baking soda\",\"salt\",\"shortening\",\"br...   \n",
       "\n",
       "                                     ingredients_raw_str serving_size  \\\n",
       "1870   {\"2   lbs    cross-rib roasts\",\"2   tablespoon...     1 (14 g)   \n",
       "19197  {\"1/2  cup    butter; softened \",\"1   cup    g...     1 (96 g)   \n",
       "22838  {\"1 1/2  cups    flour\",\"1 1/4  teaspoons    b...   1 (1496 g)   \n",
       "\n",
       "       servings  calories  rating  review_count  \n",
       "1870          4      47.4     5.0            90  \n",
       "19197        10     272.8     5.0          2273  \n",
       "22838         1     723.7     5.0           171  "
      ]
     },
     "execution_count": 74,
     "metadata": {},
     "output_type": "execute_result"
    }
   ],
   "source": [
    "df_user_recipes = df_recipe_ratings.loc[df_recipe_ratings[\"User\"] == raw_user_id]\n",
    "#df_user_recipes = df_concat.loc[df_concat[\"User\"] == raw_user_id]\n",
    "\n",
    "df_recipes.loc[df_recipes[\"id\"].isin(df_user_recipes.Item.tolist())]"
   ]
  },
  {
   "cell_type": "code",
   "execution_count": 75,
   "id": "031a5323",
   "metadata": {},
   "outputs": [
    {
     "data": {
      "text/html": [
       "<div>\n",
       "<style scoped>\n",
       "    .dataframe tbody tr th:only-of-type {\n",
       "        vertical-align: middle;\n",
       "    }\n",
       "\n",
       "    .dataframe tbody tr th {\n",
       "        vertical-align: top;\n",
       "    }\n",
       "\n",
       "    .dataframe thead th {\n",
       "        text-align: right;\n",
       "    }\n",
       "</style>\n",
       "<table border=\"1\" class=\"dataframe\">\n",
       "  <thead>\n",
       "    <tr style=\"text-align: right;\">\n",
       "      <th></th>\n",
       "      <th>User</th>\n",
       "      <th>Item</th>\n",
       "      <th>Rating</th>\n",
       "    </tr>\n",
       "  </thead>\n",
       "  <tbody>\n",
       "    <tr>\n",
       "      <th>485</th>\n",
       "      <td>2312</td>\n",
       "      <td>2886</td>\n",
       "      <td>5</td>\n",
       "    </tr>\n",
       "    <tr>\n",
       "      <th>23642</th>\n",
       "      <td>2312</td>\n",
       "      <td>26479</td>\n",
       "      <td>5</td>\n",
       "    </tr>\n",
       "    <tr>\n",
       "      <th>56612</th>\n",
       "      <td>2312</td>\n",
       "      <td>61718</td>\n",
       "      <td>4</td>\n",
       "    </tr>\n",
       "  </tbody>\n",
       "</table>\n",
       "</div>"
      ],
      "text/plain": [
       "       User   Item  Rating\n",
       "485    2312   2886       5\n",
       "23642  2312  26479       5\n",
       "56612  2312  61718       4"
      ]
     },
     "execution_count": 75,
     "metadata": {},
     "output_type": "execute_result"
    }
   ],
   "source": [
    "df_recipe_ratings.loc[(df_recipe_ratings[\"Item\"].isin(df_user_recipes.Item.tolist())) & (df_recipe_ratings[\"User\"] == raw_user_id)]"
   ]
  },
  {
   "cell_type": "markdown",
   "id": "8679621a",
   "metadata": {},
   "source": [
    "### Make anti testset"
   ]
  },
  {
   "cell_type": "code",
   "execution_count": 76,
   "id": "11868cf6",
   "metadata": {},
   "outputs": [],
   "source": [
    "anti_testset = make_anti_testset(raw_user_id)"
   ]
  },
  {
   "cell_type": "markdown",
   "id": "75ecf436",
   "metadata": {},
   "source": [
    "###  Make prediction with locally made algorithm"
   ]
  },
  {
   "cell_type": "code",
   "execution_count": 77,
   "id": "6a1c33a4",
   "metadata": {},
   "outputs": [],
   "source": [
    "predictions = algo.test(anti_testset)"
   ]
  },
  {
   "cell_type": "raw",
   "id": "0f2c833f",
   "metadata": {},
   "source": [
    "predictions"
   ]
  },
  {
   "cell_type": "markdown",
   "id": "d3565d76",
   "metadata": {},
   "source": [
    "### OR with pickled"
   ]
  },
  {
   "cell_type": "raw",
   "id": "3aaa5846",
   "metadata": {},
   "source": [
    "pickled_model = pickle.load(open('recrecsys.pkl', 'rb'))\n",
    "predictions = pickled_model.test(anti_testset)"
   ]
  },
  {
   "cell_type": "code",
   "execution_count": 78,
   "id": "2b02f861",
   "metadata": {},
   "outputs": [],
   "source": [
    "pred = pd.DataFrame(predictions)\n",
    "pred = pred.loc[pred[\"est\"] == 5]\n",
    "pred = pd.concat([pred, pred['details'].apply(pd.Series)], axis = 1).drop('details', axis = 1)\n",
    "pred.sort_values(by=['actual_k'], inplace=True, ascending=False)"
   ]
  },
  {
   "cell_type": "code",
   "execution_count": 79,
   "id": "3301aa1f",
   "metadata": {},
   "outputs": [
    {
     "data": {
      "text/html": [
       "<div>\n",
       "<style scoped>\n",
       "    .dataframe tbody tr th:only-of-type {\n",
       "        vertical-align: middle;\n",
       "    }\n",
       "\n",
       "    .dataframe tbody tr th {\n",
       "        vertical-align: top;\n",
       "    }\n",
       "\n",
       "    .dataframe thead th {\n",
       "        text-align: right;\n",
       "    }\n",
       "</style>\n",
       "<table border=\"1\" class=\"dataframe\">\n",
       "  <thead>\n",
       "    <tr style=\"text-align: right;\">\n",
       "      <th></th>\n",
       "      <th>uid</th>\n",
       "      <th>iid</th>\n",
       "      <th>r_ui</th>\n",
       "      <th>est</th>\n",
       "      <th>actual_k</th>\n",
       "      <th>was_impossible</th>\n",
       "    </tr>\n",
       "  </thead>\n",
       "  <tbody>\n",
       "    <tr>\n",
       "      <th>1</th>\n",
       "      <td>2312</td>\n",
       "      <td>8278</td>\n",
       "      <td>4.383993</td>\n",
       "      <td>5.0</td>\n",
       "      <td>2</td>\n",
       "      <td>False</td>\n",
       "    </tr>\n",
       "    <tr>\n",
       "      <th>607</th>\n",
       "      <td>2312</td>\n",
       "      <td>116266</td>\n",
       "      <td>4.383993</td>\n",
       "      <td>5.0</td>\n",
       "      <td>2</td>\n",
       "      <td>False</td>\n",
       "    </tr>\n",
       "    <tr>\n",
       "      <th>495</th>\n",
       "      <td>2312</td>\n",
       "      <td>96582</td>\n",
       "      <td>4.383993</td>\n",
       "      <td>5.0</td>\n",
       "      <td>2</td>\n",
       "      <td>False</td>\n",
       "    </tr>\n",
       "    <tr>\n",
       "      <th>493</th>\n",
       "      <td>2312</td>\n",
       "      <td>87629</td>\n",
       "      <td>4.383993</td>\n",
       "      <td>5.0</td>\n",
       "      <td>2</td>\n",
       "      <td>False</td>\n",
       "    </tr>\n",
       "    <tr>\n",
       "      <th>490</th>\n",
       "      <td>2312</td>\n",
       "      <td>94355</td>\n",
       "      <td>4.383993</td>\n",
       "      <td>5.0</td>\n",
       "      <td>2</td>\n",
       "      <td>False</td>\n",
       "    </tr>\n",
       "    <tr>\n",
       "      <th>...</th>\n",
       "      <td>...</td>\n",
       "      <td>...</td>\n",
       "      <td>...</td>\n",
       "      <td>...</td>\n",
       "      <td>...</td>\n",
       "      <td>...</td>\n",
       "    </tr>\n",
       "    <tr>\n",
       "      <th>559</th>\n",
       "      <td>2312</td>\n",
       "      <td>107864</td>\n",
       "      <td>4.383993</td>\n",
       "      <td>5.0</td>\n",
       "      <td>1</td>\n",
       "      <td>False</td>\n",
       "    </tr>\n",
       "    <tr>\n",
       "      <th>557</th>\n",
       "      <td>2312</td>\n",
       "      <td>89493</td>\n",
       "      <td>4.383993</td>\n",
       "      <td>5.0</td>\n",
       "      <td>1</td>\n",
       "      <td>False</td>\n",
       "    </tr>\n",
       "    <tr>\n",
       "      <th>551</th>\n",
       "      <td>2312</td>\n",
       "      <td>55452</td>\n",
       "      <td>4.383993</td>\n",
       "      <td>5.0</td>\n",
       "      <td>1</td>\n",
       "      <td>False</td>\n",
       "    </tr>\n",
       "    <tr>\n",
       "      <th>550</th>\n",
       "      <td>2312</td>\n",
       "      <td>73886</td>\n",
       "      <td>4.383993</td>\n",
       "      <td>5.0</td>\n",
       "      <td>1</td>\n",
       "      <td>False</td>\n",
       "    </tr>\n",
       "    <tr>\n",
       "      <th>1163</th>\n",
       "      <td>2312</td>\n",
       "      <td>502798</td>\n",
       "      <td>4.383993</td>\n",
       "      <td>5.0</td>\n",
       "      <td>1</td>\n",
       "      <td>False</td>\n",
       "    </tr>\n",
       "  </tbody>\n",
       "</table>\n",
       "<p>622 rows × 6 columns</p>\n",
       "</div>"
      ],
      "text/plain": [
       "       uid     iid      r_ui  est  actual_k  was_impossible\n",
       "1     2312    8278  4.383993  5.0         2           False\n",
       "607   2312  116266  4.383993  5.0         2           False\n",
       "495   2312   96582  4.383993  5.0         2           False\n",
       "493   2312   87629  4.383993  5.0         2           False\n",
       "490   2312   94355  4.383993  5.0         2           False\n",
       "...    ...     ...       ...  ...       ...             ...\n",
       "559   2312  107864  4.383993  5.0         1           False\n",
       "557   2312   89493  4.383993  5.0         1           False\n",
       "551   2312   55452  4.383993  5.0         1           False\n",
       "550   2312   73886  4.383993  5.0         1           False\n",
       "1163  2312  502798  4.383993  5.0         1           False\n",
       "\n",
       "[622 rows x 6 columns]"
      ]
     },
     "execution_count": 79,
     "metadata": {},
     "output_type": "execute_result"
    }
   ],
   "source": [
    "pred"
   ]
  },
  {
   "cell_type": "markdown",
   "id": "20ec1e0b",
   "metadata": {},
   "source": [
    "### List Top-n results"
   ]
  },
  {
   "cell_type": "code",
   "execution_count": 80,
   "id": "4732c0d4",
   "metadata": {},
   "outputs": [],
   "source": [
    "def list_result(predictions):\n",
    "    pred = pd.DataFrame(predictions)\n",
    "    pred.sort_values(by=['est'], inplace=True, ascending=False)\n",
    "    \n",
    "    recipe_list = pred.head(10)['iid'].to_list()\n",
    "    \n",
    "    print(recipe_list)\n",
    "    \n",
    "    # return df_recipes.loc[recipe_list]\n",
    "    return df_recipes.loc[df_recipes[\"id\"].isin(recipe_list)]"
   ]
  },
  {
   "cell_type": "code",
   "execution_count": 81,
   "id": "b0a2f0b3",
   "metadata": {},
   "outputs": [],
   "source": [
    "def list_result_knn(predictions):\n",
    "    pred = pd.DataFrame(predictions)\n",
    "    pred = pred.loc[pred[\"est\"] == 5]\n",
    "    pred = pd.concat([pred, pred['details'].apply(pd.Series)], axis = 1).drop('details', axis = 1)\n",
    "    pred.sort_values(by=['actual_k'], inplace=True, ascending=False)\n",
    "    recipe_list = pred.head(10)['iid'].to_list()\n",
    "    \n",
    "    for x, y in zip(recipe_list, pred.head(10)['actual_k']):\n",
    "        print(x, y)\n",
    "    # return df_recipes.loc[recipe_list]\n",
    "    return df_recipes.loc[df_recipes[\"id\"].isin(recipe_list)]"
   ]
  },
  {
   "cell_type": "markdown",
   "id": "771d6c00",
   "metadata": {},
   "source": [
    "## KNN"
   ]
  },
  {
   "cell_type": "code",
   "execution_count": 82,
   "id": "47787739",
   "metadata": {},
   "outputs": [
    {
     "name": "stdout",
     "output_type": "stream",
     "text": [
      "8278 2\n",
      "116266 2\n",
      "96582 2\n",
      "87629 2\n",
      "94355 2\n",
      "88453 2\n",
      "33420 2\n",
      "78922 2\n",
      "84592 2\n",
      "87689 2\n"
     ]
    },
    {
     "data": {
      "text/html": [
       "<div>\n",
       "<style scoped>\n",
       "    .dataframe tbody tr th:only-of-type {\n",
       "        vertical-align: middle;\n",
       "    }\n",
       "\n",
       "    .dataframe tbody tr th {\n",
       "        vertical-align: top;\n",
       "    }\n",
       "\n",
       "    .dataframe thead th {\n",
       "        text-align: right;\n",
       "    }\n",
       "</style>\n",
       "<table border=\"1\" class=\"dataframe\">\n",
       "  <thead>\n",
       "    <tr style=\"text-align: right;\">\n",
       "      <th></th>\n",
       "      <th>id</th>\n",
       "      <th>name</th>\n",
       "      <th>author_name</th>\n",
       "      <th>submitted</th>\n",
       "      <th>image_url</th>\n",
       "      <th>minutes</th>\n",
       "      <th>description</th>\n",
       "      <th>category</th>\n",
       "      <th>tags</th>\n",
       "      <th>search_terms</th>\n",
       "      <th>steps</th>\n",
       "      <th>ingredients</th>\n",
       "      <th>ingredients_raw_str</th>\n",
       "      <th>serving_size</th>\n",
       "      <th>servings</th>\n",
       "      <th>calories</th>\n",
       "      <th>rating</th>\n",
       "      <th>review_count</th>\n",
       "    </tr>\n",
       "  </thead>\n",
       "  <tbody>\n",
       "    <tr>\n",
       "      <th>2066</th>\n",
       "      <td>96582</td>\n",
       "      <td>Diana's Awesome Oatmeal Muffins</td>\n",
       "      <td>Roosie</td>\n",
       "      <td>2004-07-29</td>\n",
       "      <td>\"https://img.sndimg.com/food/image/upload/w_55...</td>\n",
       "      <td>45</td>\n",
       "      <td>Full of the good stuff- and you get to choose ...</td>\n",
       "      <td>Quick Breads</td>\n",
       "      <td>{\"60-minutes-or-less\",\"time-to-make\",\"course\",...</td>\n",
       "      <td>{\"vegetarian\",\"healthy\",\"low-fat\",\"bread\",\"veg...</td>\n",
       "      <td>{\"Preheat oven to 400°F.\",\"Soak oatmeal in liq...</td>\n",
       "      <td>{\"rolled oats\",\"coffee\",\"applesauce\",\"salt\",\"b...</td>\n",
       "      <td>{\"2   cups    rolled oats\",\"2   cups    juice ...</td>\n",
       "      <td>1 (64 g)</td>\n",
       "      <td>18</td>\n",
       "      <td>96.0</td>\n",
       "      <td>4.0</td>\n",
       "      <td>46</td>\n",
       "    </tr>\n",
       "    <tr>\n",
       "      <th>2814</th>\n",
       "      <td>8278</td>\n",
       "      <td>Mexican Wedding Cookies</td>\n",
       "      <td>truebrit</td>\n",
       "      <td>2000-03-13</td>\n",
       "      <td>\"https://img.sndimg.com/food/image/upload/w_55...</td>\n",
       "      <td>25</td>\n",
       "      <td>Traditional cookie.</td>\n",
       "      <td>Dessert</td>\n",
       "      <td>{\"30-minutes-or-less\",\"time-to-make\",\"course\",...</td>\n",
       "      <td>{\"cookie\",\"dessert\",\"mexican\"}</td>\n",
       "      <td>{\"Combine all ingredients.\",\"Form into 1 1/2\" ...</td>\n",
       "      <td>{\"butter\",\"powdered sugar\",\"flour\",\"nuts\",\"van...</td>\n",
       "      <td>{\"1   cup    butter; softened \",\"1   cup    po...</td>\n",
       "      <td>1 (20 g)</td>\n",
       "      <td>36</td>\n",
       "      <td>106.4</td>\n",
       "      <td>5.0</td>\n",
       "      <td>42</td>\n",
       "    </tr>\n",
       "    <tr>\n",
       "      <th>3050</th>\n",
       "      <td>78922</td>\n",
       "      <td>Kittencal's Best Deep Dark Chocolate Layer Cake</td>\n",
       "      <td>Kittencalrecipezazz</td>\n",
       "      <td>2003-12-14</td>\n",
       "      <td>\"https://img.sndimg.com/food/image/upload/w_55...</td>\n",
       "      <td>40</td>\n",
       "      <td>This will probably be the only layer cake you ...</td>\n",
       "      <td>Dessert</td>\n",
       "      <td>{\"60-minutes-or-less\",\"time-to-make\",\"course\",...</td>\n",
       "      <td>{\"cake\",\"dessert\"}</td>\n",
       "      <td>{\"Set oven to 350 degrees F.\",\"Line bottoms of...</td>\n",
       "      <td>{\"butter\",\"brown sugar\",\"eggs\",\"buttermilk\",\"v...</td>\n",
       "      <td>{\"1   cup    butter; softened \",\"1 1/2  cups  ...</td>\n",
       "      <td>1 (191 g)</td>\n",
       "      <td>12</td>\n",
       "      <td>706.3</td>\n",
       "      <td>5.0</td>\n",
       "      <td>27</td>\n",
       "    </tr>\n",
       "    <tr>\n",
       "      <th>3367</th>\n",
       "      <td>87689</td>\n",
       "      <td>Cake Flour Substitute</td>\n",
       "      <td>Lennie</td>\n",
       "      <td>2004-03-29</td>\n",
       "      <td>\"https://img.sndimg.com/food/image/upload/w_55...</td>\n",
       "      <td>2</td>\n",
       "      <td>I don't always have cake flour on hand, and I'...</td>\n",
       "      <td>Vegan</td>\n",
       "      <td>{\"15-minutes-or-less\",\"time-to-make\",\"course\",...</td>\n",
       "      <td>{\"low-sodium\",\"vegetarian\",\"healthy\",\"low-fat\"...</td>\n",
       "      <td>{\"To make two cups of cake-and-pastry flour (c...</td>\n",
       "      <td>{\"all-purpose flour\",\"cornstarch\"}</td>\n",
       "      <td>{\"1 3/4  cups    all-purpose flour\",\"1/4  cup ...</td>\n",
       "      <td>1 (251 g)</td>\n",
       "      <td>1</td>\n",
       "      <td>459.1</td>\n",
       "      <td>5.0</td>\n",
       "      <td>90</td>\n",
       "    </tr>\n",
       "    <tr>\n",
       "      <th>7967</th>\n",
       "      <td>33420</td>\n",
       "      <td>Great Buffalo Chicken Pizza</td>\n",
       "      <td>Mini Ravindran</td>\n",
       "      <td>2002-07-07</td>\n",
       "      <td>\"https://img.sndimg.com/food/image/upload/w_55...</td>\n",
       "      <td>25</td>\n",
       "      <td>Great as the recipe says !</td>\n",
       "      <td>One Dish Meal</td>\n",
       "      <td>{\"30-minutes-or-less\",\"time-to-make\",\"course\",...</td>\n",
       "      <td>{\"pizza\",\"dinner\",\"chicken\"}</td>\n",
       "      <td>{\"Preheat the oven to 400.\",\"Dice the cooked c...</td>\n",
       "      <td>{\"pizza dough\",\"chicken tenders\",\"butter\",\"hot...</td>\n",
       "      <td>{\"1       pizza dough (12 inch)\",\"1/2  lb    c...</td>\n",
       "      <td>1 (161 g)</td>\n",
       "      <td>4</td>\n",
       "      <td>432.8</td>\n",
       "      <td>5.0</td>\n",
       "      <td>86</td>\n",
       "    </tr>\n",
       "    <tr>\n",
       "      <th>9449</th>\n",
       "      <td>94355</td>\n",
       "      <td>Cheesy Spaghetti Squash</td>\n",
       "      <td>PaulaG</td>\n",
       "      <td>2004-06-26</td>\n",
       "      <td>\"https://img.sndimg.com/food/image/upload/w_55...</td>\n",
       "      <td>25</td>\n",
       "      <td>Not only did this recipe give me an additional...</td>\n",
       "      <td>Cheese</td>\n",
       "      <td>{\"30-minutes-or-less\",\"time-to-make\",\"course\",...</td>\n",
       "      <td>{\"side\",\"diabetic\"}</td>\n",
       "      <td>{\"Pierce the spaghetti squash several times wi...</td>\n",
       "      <td>{\"spaghetti squash\",\"parmesan cheese\",\"reduced...</td>\n",
       "      <td>{\"1       spaghetti squash; approximately 3 lb...</td>\n",
       "      <td>1 (58 g)</td>\n",
       "      <td>6</td>\n",
       "      <td>24.7</td>\n",
       "      <td>4.5</td>\n",
       "      <td>15</td>\n",
       "    </tr>\n",
       "    <tr>\n",
       "      <th>10922</th>\n",
       "      <td>116266</td>\n",
       "      <td>Buffalo Chicken Wing Dip</td>\n",
       "      <td>Parsley</td>\n",
       "      <td>2005-04-11</td>\n",
       "      <td>\"https://img.sndimg.com/food/image/upload/w_55...</td>\n",
       "      <td>1</td>\n",
       "      <td>I first tried this buffalo chicken wing dip at...</td>\n",
       "      <td>Chicken</td>\n",
       "      <td>{\"60-minutes-or-less\",\"time-to-make\",\"course\",...</td>\n",
       "      <td>{\"appetizer\",\"low-carb\",\"chicken\"}</td>\n",
       "      <td>{\"Preaheat oven top 350.\",\"In a large bowl; mi...</td>\n",
       "      <td>{\"chicken breasts\",\"hot sauce\",\"cream cheese\",...</td>\n",
       "      <td>{\"1 1/2  lbs    chicken breasts; cooked and sh...</td>\n",
       "      <td>1 (73 g)</td>\n",
       "      <td>32</td>\n",
       "      <td>196.8</td>\n",
       "      <td>5.0</td>\n",
       "      <td>75</td>\n",
       "    </tr>\n",
       "    <tr>\n",
       "      <th>11464</th>\n",
       "      <td>87629</td>\n",
       "      <td>Sausage Breakfast Muffins (OAMC)</td>\n",
       "      <td>Lightly Toasted</td>\n",
       "      <td>2004-03-28</td>\n",
       "      <td>\"https://img.sndimg.com/food/image/upload/w_55...</td>\n",
       "      <td>45</td>\n",
       "      <td>This is a recipe I found online and adapted to...</td>\n",
       "      <td>Quick Breads</td>\n",
       "      <td>{\"60-minutes-or-less\",\"time-to-make\",\"course\",...</td>\n",
       "      <td>{\"breakfast\",\"bread\"}</td>\n",
       "      <td>{\"Line muffin tins with paper liners; and set ...</td>\n",
       "      <td>{\"chorizo sausage\",\"bisquick\",\"cornmeal\",\"eggs...</td>\n",
       "      <td>{\"2   lbs    chorizo sausage or 2   lbs   bulk...</td>\n",
       "      <td>1 (65 g)</td>\n",
       "      <td>48</td>\n",
       "      <td>193.9</td>\n",
       "      <td>4.5</td>\n",
       "      <td>63</td>\n",
       "    </tr>\n",
       "    <tr>\n",
       "      <th>14211</th>\n",
       "      <td>88453</td>\n",
       "      <td>Best Ever BBQ Chicken</td>\n",
       "      <td>DDW7976</td>\n",
       "      <td>2004-04-06</td>\n",
       "      <td>\"https://img.sndimg.com/food/image/upload/w_55...</td>\n",
       "      <td>1</td>\n",
       "      <td>The BBQ sauce on this juicy grilled chicken is...</td>\n",
       "      <td>Chicken Breast</td>\n",
       "      <td>{\"60-minutes-or-less\",\"time-to-make\",\"course\",...</td>\n",
       "      <td>{\"dinner\",\"barbecue\",\"chicken\"}</td>\n",
       "      <td>{\"In a saucepan; saute the garlic in butter un...</td>\n",
       "      <td>{\"garlic cloves\",\"butter\",\"heinz ketchup\",\"bro...</td>\n",
       "      <td>{\"3       garlic cloves; minced \",\"2   teaspoo...</td>\n",
       "      <td>1 (127 g)</td>\n",
       "      <td>8</td>\n",
       "      <td>205.1</td>\n",
       "      <td>5.0</td>\n",
       "      <td>102</td>\n",
       "    </tr>\n",
       "    <tr>\n",
       "      <th>24590</th>\n",
       "      <td>84592</td>\n",
       "      <td>The Best Blueberry Banana Muffins</td>\n",
       "      <td>Bliss</td>\n",
       "      <td>2004-02-21</td>\n",
       "      <td>\"https://img.sndimg.com/food/image/upload/w_55...</td>\n",
       "      <td>40</td>\n",
       "      <td>I got these off the internet. These were one o...</td>\n",
       "      <td>Quick Breads</td>\n",
       "      <td>{\"60-minutes-or-less\",\"time-to-make\",\"course\",...</td>\n",
       "      <td>{\"breakfast\",\"bread\"}</td>\n",
       "      <td>{\"Heat oven to 350°.\",\"In large mix bowl; comb...</td>\n",
       "      <td>{\"sugar\",\"butter\",\"buttermilk\",\"eggs\",\"vanilla...</td>\n",
       "      <td>{\"1 1/4  cups    sugar\",\"2/3  cup    butter\",\"...</td>\n",
       "      <td>1 (220 g)</td>\n",
       "      <td>6</td>\n",
       "      <td>590.4</td>\n",
       "      <td>5.0</td>\n",
       "      <td>24</td>\n",
       "    </tr>\n",
       "  </tbody>\n",
       "</table>\n",
       "</div>"
      ],
      "text/plain": [
       "           id                                             name  \\\n",
       "2066    96582                  Diana's Awesome Oatmeal Muffins   \n",
       "2814     8278                          Mexican Wedding Cookies   \n",
       "3050    78922  Kittencal's Best Deep Dark Chocolate Layer Cake   \n",
       "3367    87689                            Cake Flour Substitute   \n",
       "7967    33420                      Great Buffalo Chicken Pizza   \n",
       "9449    94355                          Cheesy Spaghetti Squash   \n",
       "10922  116266                         Buffalo Chicken Wing Dip   \n",
       "11464   87629                 Sausage Breakfast Muffins (OAMC)   \n",
       "14211   88453                            Best Ever BBQ Chicken   \n",
       "24590   84592                The Best Blueberry Banana Muffins   \n",
       "\n",
       "               author_name   submitted  \\\n",
       "2066                Roosie  2004-07-29   \n",
       "2814              truebrit  2000-03-13   \n",
       "3050   Kittencalrecipezazz  2003-12-14   \n",
       "3367                Lennie  2004-03-29   \n",
       "7967        Mini Ravindran  2002-07-07   \n",
       "9449                PaulaG  2004-06-26   \n",
       "10922              Parsley  2005-04-11   \n",
       "11464      Lightly Toasted  2004-03-28   \n",
       "14211              DDW7976  2004-04-06   \n",
       "24590                Bliss  2004-02-21   \n",
       "\n",
       "                                               image_url  minutes  \\\n",
       "2066   \"https://img.sndimg.com/food/image/upload/w_55...       45   \n",
       "2814   \"https://img.sndimg.com/food/image/upload/w_55...       25   \n",
       "3050   \"https://img.sndimg.com/food/image/upload/w_55...       40   \n",
       "3367   \"https://img.sndimg.com/food/image/upload/w_55...        2   \n",
       "7967   \"https://img.sndimg.com/food/image/upload/w_55...       25   \n",
       "9449   \"https://img.sndimg.com/food/image/upload/w_55...       25   \n",
       "10922  \"https://img.sndimg.com/food/image/upload/w_55...        1   \n",
       "11464  \"https://img.sndimg.com/food/image/upload/w_55...       45   \n",
       "14211  \"https://img.sndimg.com/food/image/upload/w_55...        1   \n",
       "24590  \"https://img.sndimg.com/food/image/upload/w_55...       40   \n",
       "\n",
       "                                             description        category  \\\n",
       "2066   Full of the good stuff- and you get to choose ...    Quick Breads   \n",
       "2814                                 Traditional cookie.         Dessert   \n",
       "3050   This will probably be the only layer cake you ...         Dessert   \n",
       "3367   I don't always have cake flour on hand, and I'...           Vegan   \n",
       "7967                          Great as the recipe says !   One Dish Meal   \n",
       "9449   Not only did this recipe give me an additional...          Cheese   \n",
       "10922  I first tried this buffalo chicken wing dip at...         Chicken   \n",
       "11464  This is a recipe I found online and adapted to...    Quick Breads   \n",
       "14211  The BBQ sauce on this juicy grilled chicken is...  Chicken Breast   \n",
       "24590  I got these off the internet. These were one o...    Quick Breads   \n",
       "\n",
       "                                                    tags  \\\n",
       "2066   {\"60-minutes-or-less\",\"time-to-make\",\"course\",...   \n",
       "2814   {\"30-minutes-or-less\",\"time-to-make\",\"course\",...   \n",
       "3050   {\"60-minutes-or-less\",\"time-to-make\",\"course\",...   \n",
       "3367   {\"15-minutes-or-less\",\"time-to-make\",\"course\",...   \n",
       "7967   {\"30-minutes-or-less\",\"time-to-make\",\"course\",...   \n",
       "9449   {\"30-minutes-or-less\",\"time-to-make\",\"course\",...   \n",
       "10922  {\"60-minutes-or-less\",\"time-to-make\",\"course\",...   \n",
       "11464  {\"60-minutes-or-less\",\"time-to-make\",\"course\",...   \n",
       "14211  {\"60-minutes-or-less\",\"time-to-make\",\"course\",...   \n",
       "24590  {\"60-minutes-or-less\",\"time-to-make\",\"course\",...   \n",
       "\n",
       "                                            search_terms  \\\n",
       "2066   {\"vegetarian\",\"healthy\",\"low-fat\",\"bread\",\"veg...   \n",
       "2814                      {\"cookie\",\"dessert\",\"mexican\"}   \n",
       "3050                                  {\"cake\",\"dessert\"}   \n",
       "3367   {\"low-sodium\",\"vegetarian\",\"healthy\",\"low-fat\"...   \n",
       "7967                        {\"pizza\",\"dinner\",\"chicken\"}   \n",
       "9449                                 {\"side\",\"diabetic\"}   \n",
       "10922                 {\"appetizer\",\"low-carb\",\"chicken\"}   \n",
       "11464                              {\"breakfast\",\"bread\"}   \n",
       "14211                    {\"dinner\",\"barbecue\",\"chicken\"}   \n",
       "24590                              {\"breakfast\",\"bread\"}   \n",
       "\n",
       "                                                   steps  \\\n",
       "2066   {\"Preheat oven to 400°F.\",\"Soak oatmeal in liq...   \n",
       "2814   {\"Combine all ingredients.\",\"Form into 1 1/2\" ...   \n",
       "3050   {\"Set oven to 350 degrees F.\",\"Line bottoms of...   \n",
       "3367   {\"To make two cups of cake-and-pastry flour (c...   \n",
       "7967   {\"Preheat the oven to 400.\",\"Dice the cooked c...   \n",
       "9449   {\"Pierce the spaghetti squash several times wi...   \n",
       "10922  {\"Preaheat oven top 350.\",\"In a large bowl; mi...   \n",
       "11464  {\"Line muffin tins with paper liners; and set ...   \n",
       "14211  {\"In a saucepan; saute the garlic in butter un...   \n",
       "24590  {\"Heat oven to 350°.\",\"In large mix bowl; comb...   \n",
       "\n",
       "                                             ingredients  \\\n",
       "2066   {\"rolled oats\",\"coffee\",\"applesauce\",\"salt\",\"b...   \n",
       "2814   {\"butter\",\"powdered sugar\",\"flour\",\"nuts\",\"van...   \n",
       "3050   {\"butter\",\"brown sugar\",\"eggs\",\"buttermilk\",\"v...   \n",
       "3367                  {\"all-purpose flour\",\"cornstarch\"}   \n",
       "7967   {\"pizza dough\",\"chicken tenders\",\"butter\",\"hot...   \n",
       "9449   {\"spaghetti squash\",\"parmesan cheese\",\"reduced...   \n",
       "10922  {\"chicken breasts\",\"hot sauce\",\"cream cheese\",...   \n",
       "11464  {\"chorizo sausage\",\"bisquick\",\"cornmeal\",\"eggs...   \n",
       "14211  {\"garlic cloves\",\"butter\",\"heinz ketchup\",\"bro...   \n",
       "24590  {\"sugar\",\"butter\",\"buttermilk\",\"eggs\",\"vanilla...   \n",
       "\n",
       "                                     ingredients_raw_str serving_size  \\\n",
       "2066   {\"2   cups    rolled oats\",\"2   cups    juice ...     1 (64 g)   \n",
       "2814   {\"1   cup    butter; softened \",\"1   cup    po...     1 (20 g)   \n",
       "3050   {\"1   cup    butter; softened \",\"1 1/2  cups  ...    1 (191 g)   \n",
       "3367   {\"1 3/4  cups    all-purpose flour\",\"1/4  cup ...    1 (251 g)   \n",
       "7967   {\"1       pizza dough (12 inch)\",\"1/2  lb    c...    1 (161 g)   \n",
       "9449   {\"1       spaghetti squash; approximately 3 lb...     1 (58 g)   \n",
       "10922  {\"1 1/2  lbs    chicken breasts; cooked and sh...     1 (73 g)   \n",
       "11464  {\"2   lbs    chorizo sausage or 2   lbs   bulk...     1 (65 g)   \n",
       "14211  {\"3       garlic cloves; minced \",\"2   teaspoo...    1 (127 g)   \n",
       "24590  {\"1 1/4  cups    sugar\",\"2/3  cup    butter\",\"...    1 (220 g)   \n",
       "\n",
       "       servings  calories  rating  review_count  \n",
       "2066         18      96.0     4.0            46  \n",
       "2814         36     106.4     5.0            42  \n",
       "3050         12     706.3     5.0            27  \n",
       "3367          1     459.1     5.0            90  \n",
       "7967          4     432.8     5.0            86  \n",
       "9449          6      24.7     4.5            15  \n",
       "10922        32     196.8     5.0            75  \n",
       "11464        48     193.9     4.5            63  \n",
       "14211         8     205.1     5.0           102  \n",
       "24590         6     590.4     5.0            24  "
      ]
     },
     "execution_count": 82,
     "metadata": {},
     "output_type": "execute_result"
    }
   ],
   "source": [
    "df_results = list_result_knn(predictions)\n",
    "df_results"
   ]
  },
  {
   "cell_type": "markdown",
   "id": "89cc9f52",
   "metadata": {},
   "source": [
    "### Examination"
   ]
  },
  {
   "cell_type": "raw",
   "id": "a457e222",
   "metadata": {},
   "source": [
    "examined_recipes = [9872, 809]\n",
    "\n",
    "df_examine_1 = df_recipe_ratings.loc[df_recipe_ratings[\"Item\"].isin(examined_recipes)]\n",
    "\n",
    "len(df_examine_1)#.pivot_table(values='Rating', index=\"User\", columns=\"Item\")"
   ]
  },
  {
   "cell_type": "raw",
   "id": "027e3e35",
   "metadata": {},
   "source": [
    "examined_users = df_examine_1[\"User\"].to_list()\n",
    "\n",
    "for item in examined_users:\n",
    "    print(df_reviews.loc[df_reviews[\"User\"]==item])"
   ]
  },
  {
   "cell_type": "raw",
   "id": "4abbaad8",
   "metadata": {},
   "source": [
    "df_reviews.loc[(df_reviews[\"Item\"] == 8264)][\"User\"].to_list()"
   ]
  },
  {
   "cell_type": "raw",
   "id": "958ec4d5",
   "metadata": {},
   "source": [
    "def intersection(lst1, lst2):\n",
    "    return list(set(lst1) & set(lst2))\n",
    " \n",
    "# Driver Code\n",
    "lst1 = df_examine_1[\"User\"].to_list()\n",
    "lst2 = df_reviews.loc[(df_reviews[\"Item\"] == 8264)][\"User\"].to_list()\n",
    "print(intersection(lst1, lst2))"
   ]
  },
  {
   "cell_type": "markdown",
   "id": "380e2596",
   "metadata": {},
   "source": [
    "---"
   ]
  },
  {
   "cell_type": "markdown",
   "id": "4debb0da",
   "metadata": {},
   "source": [
    "# 4. Save model"
   ]
  },
  {
   "cell_type": "code",
   "execution_count": null,
   "id": "9509a24a",
   "metadata": {},
   "outputs": [],
   "source": []
  }
 ],
 "metadata": {
  "kernelspec": {
   "display_name": "Python 3 (ipykernel)",
   "language": "python",
   "name": "python3"
  },
  "language_info": {
   "codemirror_mode": {
    "name": "ipython",
    "version": 3
   },
   "file_extension": ".py",
   "mimetype": "text/x-python",
   "name": "python",
   "nbconvert_exporter": "python",
   "pygments_lexer": "ipython3",
   "version": "3.9.12"
  }
 },
 "nbformat": 4,
 "nbformat_minor": 5
}
