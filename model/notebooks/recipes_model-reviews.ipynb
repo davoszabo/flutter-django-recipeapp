{
 "cells": [
  {
   "cell_type": "markdown",
   "id": "f219a187",
   "metadata": {},
   "source": [
    "# 0. Imports"
   ]
  },
  {
   "cell_type": "code",
   "execution_count": 1,
   "id": "05cd2531",
   "metadata": {},
   "outputs": [],
   "source": [
    "import pandas as pd\n",
    "import numpy as np"
   ]
  },
  {
   "cell_type": "markdown",
   "id": "b31f8b4c",
   "metadata": {},
   "source": [
    "---"
   ]
  },
  {
   "cell_type": "markdown",
   "id": "78f01b08",
   "metadata": {},
   "source": [
    "# 1. Load datasets"
   ]
  },
  {
   "cell_type": "raw",
   "id": "9b47fa2f",
   "metadata": {},
   "source": [
    "df_reviews = pd.read_csv(\"datasets/raw/reviews.csv\")\n",
    "df_reviews.to_pickle('datasets/raw/reviews.pkl')"
   ]
  },
  {
   "cell_type": "code",
   "execution_count": 44,
   "id": "23ce2623",
   "metadata": {},
   "outputs": [],
   "source": [
    "df_reviews = pd.read_pickle('datasets/raw/reviews.pkl')"
   ]
  },
  {
   "cell_type": "code",
   "execution_count": 3,
   "id": "b243e246",
   "metadata": {},
   "outputs": [
    {
     "data": {
      "text/plain": [
       "24742"
      ]
     },
     "execution_count": 3,
     "metadata": {},
     "output_type": "execute_result"
    }
   ],
   "source": [
    "df_recipes = pd.read_csv(\"datasets/sample/recipes_sample_main.csv\", sep=';')\n",
    "len(df_recipes)"
   ]
  },
  {
   "cell_type": "markdown",
   "id": "011034af",
   "metadata": {},
   "source": [
    "### Make sample df"
   ]
  },
  {
   "cell_type": "markdown",
   "id": "8aec83dd",
   "metadata": {},
   "source": [
    "df_sample = df_recipes.sample(frac = .1)\n",
    "len(df_sample)"
   ]
  },
  {
   "cell_type": "markdown",
   "id": "6da34c13",
   "metadata": {},
   "source": [
    "### Save sample (CSV+PICKLE) "
   ]
  },
  {
   "cell_type": "raw",
   "id": "c65ad7b9",
   "metadata": {},
   "source": [
    "df_sample = pd.read_pickle('sample/refined_recipes_2_sample_main_attempt.pkl')"
   ]
  },
  {
   "cell_type": "raw",
   "id": "39a28fca",
   "metadata": {},
   "source": [
    "df_sample = pd.read_csv(\"sample/refined_recipes_2_sample_main_attempt.csv\", sep=';')"
   ]
  },
  {
   "cell_type": "raw",
   "id": "620681e5",
   "metadata": {},
   "source": [
    "df_sample.drop(columns=[\"listed\"], inplace=True)"
   ]
  },
  {
   "cell_type": "raw",
   "id": "6e9dacc8",
   "metadata": {},
   "source": [
    "df_sample['review_count'] = df_sample['review_count'].astype('Int64')"
   ]
  },
  {
   "cell_type": "raw",
   "id": "a62317b4",
   "metadata": {
    "scrolled": true
   },
   "source": [
    "for col in [\"tags\", \"steps\", \"ingredients\", \"ingredients_raw_str\", \"search_terms\"]:\n",
    "    #df_merged[col] = df_merged[col].str.replace('[','{').str.replace(']','}', regex=False).str.replace(\"'\",'\"').str.replace(\"'\",'\"')    \n",
    "    \n",
    "    df_sample[col] = df_sample[col].str.replace(\"{\",'(').str.replace(\"}\",')')\n",
    "    df_sample[col] = \"{\" + df_sample[col].str[1:-1] + \"}\"\n",
    "    "
   ]
  },
  {
   "cell_type": "raw",
   "id": "ba1e8012",
   "metadata": {},
   "source": [
    "for col in [\"tags\", \"steps\", \"ingredients\", \"ingredients_raw_str\", \"search_terms\"]:\n",
    "    df_sample[col] = df_sample[col].str.replace(', \"','', regex=False)   "
   ]
  },
  {
   "cell_type": "raw",
   "id": "bf94512c",
   "metadata": {
    "scrolled": true
   },
   "source": [
    "df_sample"
   ]
  },
  {
   "cell_type": "code",
   "execution_count": 24,
   "id": "8b7d2610",
   "metadata": {},
   "outputs": [],
   "source": [
    "df_sample.to_csv('sample/refined_recipes_2_sample_main.csv', index=False, sep=\";\")\n",
    "df_sample.to_pickle('sample/refined_recipes_2_sample_main.pkl')"
   ]
  },
  {
   "cell_type": "markdown",
   "id": "2817dde9",
   "metadata": {},
   "source": [
    "## 1.1 Load from pickle"
   ]
  },
  {
   "cell_type": "code",
   "execution_count": 41,
   "id": "c2cf18f2",
   "metadata": {},
   "outputs": [],
   "source": [
    "df_sample = pd.read_pickle('sample/refined_recipes_2_sample_main.pkl')"
   ]
  },
  {
   "cell_type": "markdown",
   "id": "36be202d",
   "metadata": {},
   "source": [
    "### Override if necessary"
   ]
  },
  {
   "cell_type": "code",
   "execution_count": 42,
   "id": "6778d6d5",
   "metadata": {},
   "outputs": [],
   "source": [
    "df_recipes = df_sample"
   ]
  },
  {
   "cell_type": "markdown",
   "id": "52fcea0a",
   "metadata": {},
   "source": [
    "---"
   ]
  },
  {
   "cell_type": "markdown",
   "id": "bd5e2e42",
   "metadata": {},
   "source": [
    "# 2. Refine "
   ]
  },
  {
   "cell_type": "markdown",
   "id": "c87170ba",
   "metadata": {},
   "source": [
    "### Review simplify"
   ]
  },
  {
   "cell_type": "code",
   "execution_count": 4,
   "id": "c3f536bb",
   "metadata": {},
   "outputs": [],
   "source": [
    "df_reviews.drop([\"ReviewId\", \"AuthorName\", \"Review\", \"DateSubmitted\", \"DateModified\"], axis=1, inplace = True)\n",
    "df_reviews.columns = [\"Item\", \"User\", \"Rating\"]\n",
    "df_reviews = df_reviews[[\"User\", \"Item\", \"Rating\"]]"
   ]
  },
  {
   "cell_type": "markdown",
   "id": "d305f23b",
   "metadata": {},
   "source": [
    "### Filtering reviews"
   ]
  },
  {
   "cell_type": "code",
   "execution_count": 5,
   "id": "c5075ac0",
   "metadata": {},
   "outputs": [
    {
     "data": {
      "text/plain": [
       "64828"
      ]
     },
     "execution_count": 5,
     "metadata": {},
     "output_type": "execute_result"
    }
   ],
   "source": [
    "df_recipe_review_counts = df_reviews.groupby(['Item']).size()\n",
    "\n",
    "df_filtered_recipes = df_recipe_review_counts.loc[(df_recipe_review_counts > 4)]\n",
    "\n",
    "filtered_recipes_list = df_filtered_recipes.index.tolist()\n",
    "\n",
    "len(filtered_recipes_list)"
   ]
  },
  {
   "cell_type": "markdown",
   "id": "8c671faf",
   "metadata": {},
   "source": [
    "### Is the reviewed recipe in the main dataset (narrowing)"
   ]
  },
  {
   "cell_type": "code",
   "execution_count": 6,
   "id": "50ec8f35",
   "metadata": {},
   "outputs": [
    {
     "data": {
      "text/plain": [
       "3174"
      ]
     },
     "execution_count": 6,
     "metadata": {},
     "output_type": "execute_result"
    }
   ],
   "source": [
    "all_recipes_list = df_recipes.id.tolist()\n",
    "\n",
    "filtered_all_recipes_list = [value for value in filtered_recipes_list if value in all_recipes_list]\n",
    "\n",
    "len(filtered_all_recipes_list)"
   ]
  },
  {
   "cell_type": "code",
   "execution_count": 7,
   "id": "04521488",
   "metadata": {},
   "outputs": [
    {
     "data": {
      "text/plain": [
       "User      51511\n",
       "Item      51511\n",
       "Rating    51511\n",
       "dtype: int64"
      ]
     },
     "execution_count": 7,
     "metadata": {},
     "output_type": "execute_result"
    }
   ],
   "source": [
    "df_recipe_ratings = df_reviews[df_reviews['Item'].isin(filtered_all_recipes_list)]\n",
    "df_recipe_ratings.count()"
   ]
  },
  {
   "cell_type": "markdown",
   "id": "6f9d3a33",
   "metadata": {},
   "source": [
    "### Save recipe ratings"
   ]
  },
  {
   "cell_type": "code",
   "execution_count": 8,
   "id": "e84ea9cf",
   "metadata": {},
   "outputs": [],
   "source": [
    "df_recipe_ratings.to_pickle('serialized-model/recipe_ratings.pkl')"
   ]
  },
  {
   "cell_type": "code",
   "execution_count": 9,
   "id": "5cf41c1f",
   "metadata": {},
   "outputs": [],
   "source": [
    "df_recipe_ratings = pd.read_pickle('serialized-model/recipe_ratings.pkl')"
   ]
  },
  {
   "cell_type": "markdown",
   "id": "6c427540",
   "metadata": {},
   "source": [
    "### Adding new user reviews"
   ]
  },
  {
   "cell_type": "code",
   "execution_count": 33,
   "id": "04befc0b",
   "metadata": {},
   "outputs": [],
   "source": [
    "new_user_liked_recipes = [9872, 809]"
   ]
  },
  {
   "cell_type": "code",
   "execution_count": 34,
   "id": "3bcf209e",
   "metadata": {
    "scrolled": true
   },
   "outputs": [
    {
     "data": {
      "text/html": [
       "<div>\n",
       "<style scoped>\n",
       "    .dataframe tbody tr th:only-of-type {\n",
       "        vertical-align: middle;\n",
       "    }\n",
       "\n",
       "    .dataframe tbody tr th {\n",
       "        vertical-align: top;\n",
       "    }\n",
       "\n",
       "    .dataframe thead th {\n",
       "        text-align: right;\n",
       "    }\n",
       "</style>\n",
       "<table border=\"1\" class=\"dataframe\">\n",
       "  <thead>\n",
       "    <tr style=\"text-align: right;\">\n",
       "      <th></th>\n",
       "      <th>User</th>\n",
       "      <th>Item</th>\n",
       "      <th>Rating</th>\n",
       "    </tr>\n",
       "  </thead>\n",
       "  <tbody>\n",
       "    <tr>\n",
       "      <th>0</th>\n",
       "      <td>1853000001</td>\n",
       "      <td>9872</td>\n",
       "      <td>5</td>\n",
       "    </tr>\n",
       "    <tr>\n",
       "      <th>1</th>\n",
       "      <td>1853000001</td>\n",
       "      <td>809</td>\n",
       "      <td>5</td>\n",
       "    </tr>\n",
       "  </tbody>\n",
       "</table>\n",
       "</div>"
      ],
      "text/plain": [
       "         User  Item  Rating\n",
       "0  1853000001  9872       5\n",
       "1  1853000001   809       5"
      ]
     },
     "execution_count": 34,
     "metadata": {},
     "output_type": "execute_result"
    }
   ],
   "source": [
    "df_new_user = pd.DataFrame({\"User\": 1853000001, \"Item\": new_user_liked_recipes, \"Rating\": 5})\n",
    "df_new_user"
   ]
  },
  {
   "cell_type": "code",
   "execution_count": 35,
   "id": "ffa14ef6",
   "metadata": {},
   "outputs": [
    {
     "data": {
      "text/html": [
       "<div>\n",
       "<style scoped>\n",
       "    .dataframe tbody tr th:only-of-type {\n",
       "        vertical-align: middle;\n",
       "    }\n",
       "\n",
       "    .dataframe tbody tr th {\n",
       "        vertical-align: top;\n",
       "    }\n",
       "\n",
       "    .dataframe thead th {\n",
       "        text-align: right;\n",
       "    }\n",
       "</style>\n",
       "<table border=\"1\" class=\"dataframe\">\n",
       "  <thead>\n",
       "    <tr style=\"text-align: right;\">\n",
       "      <th></th>\n",
       "      <th>id</th>\n",
       "      <th>name</th>\n",
       "      <th>description</th>\n",
       "      <th>ingredients</th>\n",
       "      <th>ingredients_raw_str</th>\n",
       "      <th>serving_size</th>\n",
       "      <th>servings</th>\n",
       "      <th>steps</th>\n",
       "      <th>tags</th>\n",
       "      <th>search_terms</th>\n",
       "      <th>...</th>\n",
       "      <th>image_url</th>\n",
       "      <th>minutes</th>\n",
       "      <th>category</th>\n",
       "      <th>calories</th>\n",
       "      <th>n_steps</th>\n",
       "      <th>n_ingredients</th>\n",
       "      <th>nutrition</th>\n",
       "      <th>rating</th>\n",
       "      <th>review_count</th>\n",
       "      <th>listed</th>\n",
       "    </tr>\n",
       "  </thead>\n",
       "  <tbody>\n",
       "  </tbody>\n",
       "</table>\n",
       "<p>0 rows × 23 columns</p>\n",
       "</div>"
      ],
      "text/plain": [
       "Empty DataFrame\n",
       "Columns: [id, name, description, ingredients, ingredients_raw_str, serving_size, servings, steps, tags, search_terms, author_id, author_name, submitted, image_url, minutes, category, calories, n_steps, n_ingredients, nutrition, rating, review_count, listed]\n",
       "Index: []\n",
       "\n",
       "[0 rows x 23 columns]"
      ]
     },
     "execution_count": 35,
     "metadata": {},
     "output_type": "execute_result"
    }
   ],
   "source": [
    "df_recipes.loc[df_recipes[\"id\"].isin(df_new_user.Item.tolist())]"
   ]
  },
  {
   "cell_type": "markdown",
   "id": "9d25251b",
   "metadata": {},
   "source": [
    "### DROP IF NECESSARY"
   ]
  },
  {
   "cell_type": "code",
   "execution_count": 11,
   "id": "348d71b2",
   "metadata": {},
   "outputs": [
    {
     "data": {
      "text/plain": [
       "Int64Index([145, 887], dtype='int64')"
      ]
     },
     "execution_count": 11,
     "metadata": {},
     "output_type": "execute_result"
    }
   ],
   "source": [
    "idxs = df_recipe_ratings.loc[df_reviews[\"User\"] == 4177].index\n",
    "idxs"
   ]
  },
  {
   "cell_type": "code",
   "execution_count": 12,
   "id": "31d5243c",
   "metadata": {},
   "outputs": [],
   "source": [
    "df_recipe_ratings_clarified = df_recipe_ratings.drop(idxs)"
   ]
  },
  {
   "cell_type": "markdown",
   "id": "eb2ff931",
   "metadata": {},
   "source": [
    "### Concatenating base and new df"
   ]
  },
  {
   "cell_type": "code",
   "execution_count": 13,
   "id": "77e23825",
   "metadata": {},
   "outputs": [],
   "source": [
    "df_concat = pd.concat([df_recipe_ratings_clarified, df_new_user], sort=False, ignore_index=True)\n",
    "df_concat2 = pd.concat([df_recipe_ratings, df_new_user], sort=False, ignore_index=True)"
   ]
  },
  {
   "cell_type": "code",
   "execution_count": 14,
   "id": "759b6c8a",
   "metadata": {},
   "outputs": [
    {
     "data": {
      "text/html": [
       "<div>\n",
       "<style scoped>\n",
       "    .dataframe tbody tr th:only-of-type {\n",
       "        vertical-align: middle;\n",
       "    }\n",
       "\n",
       "    .dataframe tbody tr th {\n",
       "        vertical-align: top;\n",
       "    }\n",
       "\n",
       "    .dataframe thead th {\n",
       "        text-align: right;\n",
       "    }\n",
       "</style>\n",
       "<table border=\"1\" class=\"dataframe\">\n",
       "  <thead>\n",
       "    <tr style=\"text-align: right;\">\n",
       "      <th></th>\n",
       "      <th>User</th>\n",
       "      <th>Item</th>\n",
       "      <th>Rating</th>\n",
       "    </tr>\n",
       "  </thead>\n",
       "  <tbody>\n",
       "    <tr>\n",
       "      <th>572501</th>\n",
       "      <td>1853000001</td>\n",
       "      <td>9872</td>\n",
       "      <td>5</td>\n",
       "    </tr>\n",
       "    <tr>\n",
       "      <th>572502</th>\n",
       "      <td>1853000001</td>\n",
       "      <td>809</td>\n",
       "      <td>5</td>\n",
       "    </tr>\n",
       "  </tbody>\n",
       "</table>\n",
       "</div>"
      ],
      "text/plain": [
       "              User  Item  Rating\n",
       "572501  1853000001  9872       5\n",
       "572502  1853000001   809       5"
      ]
     },
     "execution_count": 14,
     "metadata": {},
     "output_type": "execute_result"
    }
   ],
   "source": [
    "df_concat.loc[df_concat[\"User\"].isin([1853000001, 4177])]"
   ]
  },
  {
   "cell_type": "markdown",
   "id": "3f5c21b9",
   "metadata": {},
   "source": [
    "---"
   ]
  },
  {
   "cell_type": "markdown",
   "id": "86b6549f",
   "metadata": {},
   "source": [
    "# 3. Model training"
   ]
  },
  {
   "cell_type": "markdown",
   "id": "931a55c7",
   "metadata": {},
   "source": [
    "### Imports"
   ]
  },
  {
   "cell_type": "code",
   "execution_count": 19,
   "id": "1ccf9a7c",
   "metadata": {},
   "outputs": [],
   "source": [
    "from surprise import NormalPredictor\n",
    "from surprise import Dataset\n",
    "from surprise import Reader\n",
    "from surprise import SVD\n",
    "from surprise import SVDpp\n",
    "from surprise import KNNBasic\n",
    "from surprise.model_selection import cross_validate\n",
    "\n",
    "import pickle"
   ]
  },
  {
   "cell_type": "markdown",
   "id": "cd956cc9",
   "metadata": {},
   "source": [
    "### Load and read df"
   ]
  },
  {
   "cell_type": "code",
   "execution_count": 20,
   "id": "6a1f2ead",
   "metadata": {},
   "outputs": [],
   "source": [
    "reader = Reader(rating_scale=(0, 5))\n",
    "\n",
    "data = Dataset.load_from_df(df_recipe_ratings, reader)\n",
    "#data = Dataset.load_from_df(df_concat, reader)"
   ]
  },
  {
   "cell_type": "markdown",
   "id": "69e999d8",
   "metadata": {},
   "source": [
    "### Training set"
   ]
  },
  {
   "cell_type": "code",
   "execution_count": 21,
   "id": "e22fa77f",
   "metadata": {},
   "outputs": [],
   "source": [
    "trainSet = data.build_full_trainset()"
   ]
  },
  {
   "cell_type": "code",
   "execution_count": 22,
   "id": "2eb592f7",
   "metadata": {},
   "outputs": [
    {
     "data": {
      "text/plain": [
       "<surprise.trainset.Trainset at 0x7fc9a4266460>"
      ]
     },
     "execution_count": 22,
     "metadata": {},
     "output_type": "execute_result"
    }
   ],
   "source": [
    "trainSet"
   ]
  },
  {
   "cell_type": "code",
   "execution_count": 23,
   "id": "df5b4a2a",
   "metadata": {},
   "outputs": [
    {
     "data": {
      "text/plain": [
       "3166"
      ]
     },
     "execution_count": 23,
     "metadata": {},
     "output_type": "execute_result"
    }
   ],
   "source": [
    "trainSet.to_raw_uid(0)"
   ]
  },
  {
   "cell_type": "code",
   "execution_count": 24,
   "id": "6dd2116a",
   "metadata": {},
   "outputs": [],
   "source": [
    "def trainset_contains(id):\n",
    "    try:\n",
    "        trainSet.to_inner_uid(id)\n",
    "        return True\n",
    "    except:\n",
    "        print(\"Item is not part of the trainset.\")\n",
    "        return False"
   ]
  },
  {
   "cell_type": "code",
   "execution_count": 25,
   "id": "b425f79c",
   "metadata": {},
   "outputs": [
    {
     "name": "stdout",
     "output_type": "stream",
     "text": [
      "Item is not part of the trainset.\n"
     ]
    },
    {
     "data": {
      "text/plain": [
       "False"
      ]
     },
     "execution_count": 25,
     "metadata": {},
     "output_type": "execute_result"
    }
   ],
   "source": [
    "trainset_contains(2046)"
   ]
  },
  {
   "cell_type": "markdown",
   "id": "910c6b24",
   "metadata": {},
   "source": [
    "### Save and load training set"
   ]
  },
  {
   "cell_type": "code",
   "execution_count": 26,
   "id": "5248e074",
   "metadata": {},
   "outputs": [],
   "source": [
    "pickle.dump(trainSet, open('serialized-model/trainset.pkl', 'wb'))"
   ]
  },
  {
   "cell_type": "code",
   "execution_count": 126,
   "id": "00c1190b",
   "metadata": {},
   "outputs": [],
   "source": [
    "trainSet = pickle.load(open('serialized-model/trainset.pkl', 'rb'))"
   ]
  },
  {
   "cell_type": "markdown",
   "id": "f09e6e77",
   "metadata": {},
   "source": [
    "### Anti training (test) set for ONE specific user"
   ]
  },
  {
   "cell_type": "code",
   "execution_count": 27,
   "id": "7f1b793b",
   "metadata": {},
   "outputs": [],
   "source": [
    "def make_anti_testset(raw_user_id):\n",
    "    anti_testset_user = []\n",
    "    \n",
    "    #targetUser = 0 #inner_id of the target user\n",
    "    targetUser = trainSet.to_inner_uid(raw_user_id)\n",
    "    \n",
    "    fillValue = trainSet.global_mean\n",
    "    \n",
    "    user_item_ratings = trainSet.ur[targetUser]\n",
    "    user_items = [item for (item,_) in (user_item_ratings)]\n",
    "    user_items\n",
    "    \n",
    "    ratings = trainSet.all_ratings()\n",
    "    \n",
    "    for iid in trainSet.all_items():\n",
    "        if(iid not in user_items):\n",
    "            anti_testset_user.append((trainSet.to_raw_uid(targetUser),trainSet.to_raw_iid(iid),fillValue))\n",
    "            \n",
    "    return anti_testset_user"
   ]
  },
  {
   "cell_type": "markdown",
   "id": "2ddbefc8",
   "metadata": {},
   "source": [
    "## 3.1 Validating"
   ]
  },
  {
   "cell_type": "markdown",
   "id": "9b8c58e7",
   "metadata": {},
   "source": [
    "### Normal Predictor"
   ]
  },
  {
   "cell_type": "code",
   "execution_count": 28,
   "id": "da85a013",
   "metadata": {},
   "outputs": [],
   "source": [
    "#algo = NormalPredictor()\n",
    "#cross_validate(algo, data, measures=['RMSE', 'MAE'], cv=5, verbose=True)"
   ]
  },
  {
   "cell_type": "markdown",
   "id": "477aad9d",
   "metadata": {},
   "source": [
    "### KNNBasic"
   ]
  },
  {
   "cell_type": "code",
   "execution_count": null,
   "id": "a1fac2ad",
   "metadata": {},
   "outputs": [],
   "source": []
  },
  {
   "cell_type": "markdown",
   "id": "5d78d054",
   "metadata": {},
   "source": [
    "### SVD"
   ]
  },
  {
   "cell_type": "code",
   "execution_count": null,
   "id": "1e670b11",
   "metadata": {},
   "outputs": [],
   "source": []
  },
  {
   "cell_type": "markdown",
   "id": "e7c41fc4",
   "metadata": {},
   "source": [
    "### GridSearchCV"
   ]
  },
  {
   "cell_type": "code",
   "execution_count": null,
   "id": "44e768dd",
   "metadata": {},
   "outputs": [],
   "source": []
  },
  {
   "cell_type": "markdown",
   "id": "eff6ef7c",
   "metadata": {},
   "source": [
    "## 3.2 Fit and test on trainset"
   ]
  },
  {
   "cell_type": "markdown",
   "id": "f005f837",
   "metadata": {},
   "source": [
    "### Fitting algorithm"
   ]
  },
  {
   "cell_type": "code",
   "execution_count": 29,
   "id": "1fa994f9",
   "metadata": {},
   "outputs": [
    {
     "data": {
      "text/plain": [
       "<surprise.prediction_algorithms.matrix_factorization.SVD at 0x7fc96a271370>"
      ]
     },
     "execution_count": 29,
     "metadata": {},
     "output_type": "execute_result"
    }
   ],
   "source": [
    "algo = SVD()\n",
    "algo.fit(trainSet)"
   ]
  },
  {
   "cell_type": "code",
   "execution_count": 30,
   "id": "f2c7a9d6",
   "metadata": {},
   "outputs": [],
   "source": [
    "pickle.dump(algo, open('serialized-model/recrecsys.pkl', 'wb'))"
   ]
  },
  {
   "cell_type": "markdown",
   "id": "742e95fd",
   "metadata": {},
   "source": [
    "### Checking for one user"
   ]
  },
  {
   "cell_type": "code",
   "execution_count": 31,
   "id": "131f5f6b",
   "metadata": {},
   "outputs": [
    {
     "data": {
      "text/plain": [
       "7890"
      ]
     },
     "execution_count": 31,
     "metadata": {},
     "output_type": "execute_result"
    }
   ],
   "source": [
    "user_id = 19\n",
    "\n",
    "raw_user_id = trainSet.to_raw_uid(user_id)\n",
    "\n",
    "raw_user_id\n",
    "#2178"
   ]
  },
  {
   "cell_type": "code",
   "execution_count": 32,
   "id": "1ff2d3c7",
   "metadata": {},
   "outputs": [],
   "source": [
    "#raw_user_id = 1853000001"
   ]
  },
  {
   "cell_type": "markdown",
   "id": "4487f7bb",
   "metadata": {},
   "source": [
    "### List user reviewed recipes"
   ]
  },
  {
   "cell_type": "code",
   "execution_count": 33,
   "id": "4620d6cb",
   "metadata": {
    "scrolled": false
   },
   "outputs": [
    {
     "data": {
      "text/html": [
       "<div>\n",
       "<style scoped>\n",
       "    .dataframe tbody tr th:only-of-type {\n",
       "        vertical-align: middle;\n",
       "    }\n",
       "\n",
       "    .dataframe tbody tr th {\n",
       "        vertical-align: top;\n",
       "    }\n",
       "\n",
       "    .dataframe thead th {\n",
       "        text-align: right;\n",
       "    }\n",
       "</style>\n",
       "<table border=\"1\" class=\"dataframe\">\n",
       "  <thead>\n",
       "    <tr style=\"text-align: right;\">\n",
       "      <th></th>\n",
       "      <th>id</th>\n",
       "      <th>name</th>\n",
       "      <th>author_name</th>\n",
       "      <th>submitted</th>\n",
       "      <th>image_url</th>\n",
       "      <th>minutes</th>\n",
       "      <th>description</th>\n",
       "      <th>category</th>\n",
       "      <th>tags</th>\n",
       "      <th>search_terms</th>\n",
       "      <th>steps</th>\n",
       "      <th>ingredients</th>\n",
       "      <th>ingredients_raw_str</th>\n",
       "      <th>serving_size</th>\n",
       "      <th>servings</th>\n",
       "      <th>calories</th>\n",
       "      <th>rating</th>\n",
       "      <th>review_count</th>\n",
       "    </tr>\n",
       "  </thead>\n",
       "  <tbody>\n",
       "    <tr>\n",
       "      <th>19197</th>\n",
       "      <td>2886</td>\n",
       "      <td>Best Banana Bread</td>\n",
       "      <td>lkadlec</td>\n",
       "      <td>1999-09-26</td>\n",
       "      <td>\"https://img.sndimg.com/food/image/upload/w_55...</td>\n",
       "      <td>70</td>\n",
       "      <td>You'll never need another banana bread recipe ...</td>\n",
       "      <td>Quick Breads</td>\n",
       "      <td>{\"time-to-make\",\"course\",\"main-ingredient\",\"cu...</td>\n",
       "      <td>{\"bread\"}</td>\n",
       "      <td>{\"Remove odd pots and pans from oven.\",\"Prehea...</td>\n",
       "      <td>{\"butter\",\"granulated sugar\",\"eggs\",\"bananas\",...</td>\n",
       "      <td>{\"1/2  cup    butter; softened \",\"1   cup    g...</td>\n",
       "      <td>1 (96 g)</td>\n",
       "      <td>10</td>\n",
       "      <td>272.8</td>\n",
       "      <td>5.0</td>\n",
       "      <td>2273</td>\n",
       "    </tr>\n",
       "  </tbody>\n",
       "</table>\n",
       "</div>"
      ],
      "text/plain": [
       "         id               name author_name   submitted  \\\n",
       "19197  2886  Best Banana Bread     lkadlec  1999-09-26   \n",
       "\n",
       "                                               image_url  minutes  \\\n",
       "19197  \"https://img.sndimg.com/food/image/upload/w_55...       70   \n",
       "\n",
       "                                             description      category  \\\n",
       "19197  You'll never need another banana bread recipe ...  Quick Breads   \n",
       "\n",
       "                                                    tags search_terms  \\\n",
       "19197  {\"time-to-make\",\"course\",\"main-ingredient\",\"cu...    {\"bread\"}   \n",
       "\n",
       "                                                   steps  \\\n",
       "19197  {\"Remove odd pots and pans from oven.\",\"Prehea...   \n",
       "\n",
       "                                             ingredients  \\\n",
       "19197  {\"butter\",\"granulated sugar\",\"eggs\",\"bananas\",...   \n",
       "\n",
       "                                     ingredients_raw_str serving_size  \\\n",
       "19197  {\"1/2  cup    butter; softened \",\"1   cup    g...     1 (96 g)   \n",
       "\n",
       "       servings  calories  rating  review_count  \n",
       "19197        10     272.8     5.0          2273  "
      ]
     },
     "execution_count": 33,
     "metadata": {},
     "output_type": "execute_result"
    }
   ],
   "source": [
    "df_user_recipes = df_recipe_ratings.loc[df_recipe_ratings[\"User\"] == raw_user_id]\n",
    "#df_user_recipes = df_concat.loc[df_concat[\"User\"] == raw_user_id]\n",
    "\n",
    "df_recipes.loc[df_recipes[\"id\"].isin(df_user_recipes.Item.tolist())]"
   ]
  },
  {
   "cell_type": "code",
   "execution_count": 34,
   "id": "031a5323",
   "metadata": {},
   "outputs": [
    {
     "data": {
      "text/html": [
       "<div>\n",
       "<style scoped>\n",
       "    .dataframe tbody tr th:only-of-type {\n",
       "        vertical-align: middle;\n",
       "    }\n",
       "\n",
       "    .dataframe tbody tr th {\n",
       "        vertical-align: top;\n",
       "    }\n",
       "\n",
       "    .dataframe thead th {\n",
       "        text-align: right;\n",
       "    }\n",
       "</style>\n",
       "<table border=\"1\" class=\"dataframe\">\n",
       "  <thead>\n",
       "    <tr style=\"text-align: right;\">\n",
       "      <th></th>\n",
       "      <th>User</th>\n",
       "      <th>Item</th>\n",
       "      <th>Rating</th>\n",
       "    </tr>\n",
       "  </thead>\n",
       "  <tbody>\n",
       "    <tr>\n",
       "      <th>668</th>\n",
       "      <td>7890</td>\n",
       "      <td>2886</td>\n",
       "      <td>5</td>\n",
       "    </tr>\n",
       "  </tbody>\n",
       "</table>\n",
       "</div>"
      ],
      "text/plain": [
       "     User  Item  Rating\n",
       "668  7890  2886       5"
      ]
     },
     "execution_count": 34,
     "metadata": {},
     "output_type": "execute_result"
    }
   ],
   "source": [
    "df_recipe_ratings.loc[(df_recipe_ratings[\"Item\"].isin(df_user_recipes.Item.tolist())) & (df_recipe_ratings[\"User\"] == raw_user_id)]"
   ]
  },
  {
   "cell_type": "markdown",
   "id": "8679621a",
   "metadata": {},
   "source": [
    "### Make anti testset"
   ]
  },
  {
   "cell_type": "code",
   "execution_count": 35,
   "id": "11868cf6",
   "metadata": {},
   "outputs": [],
   "source": [
    "anti_testset = make_anti_testset(raw_user_id)"
   ]
  },
  {
   "cell_type": "markdown",
   "id": "75ecf436",
   "metadata": {},
   "source": [
    "###  Make prediction with locally made algorithm"
   ]
  },
  {
   "cell_type": "code",
   "execution_count": 36,
   "id": "6a1c33a4",
   "metadata": {},
   "outputs": [],
   "source": [
    "predictions = algo.test(anti_testset)"
   ]
  },
  {
   "cell_type": "markdown",
   "id": "d3565d76",
   "metadata": {},
   "source": [
    "### OR with pickled"
   ]
  },
  {
   "cell_type": "raw",
   "id": "3aaa5846",
   "metadata": {},
   "source": [
    "pickled_model = pickle.load(open('recrecsys.pkl', 'rb'))\n",
    "predictions = pickled_model.test(anti_testset)"
   ]
  },
  {
   "cell_type": "markdown",
   "id": "20ec1e0b",
   "metadata": {},
   "source": [
    "### List Top-n results"
   ]
  },
  {
   "cell_type": "code",
   "execution_count": 37,
   "id": "4732c0d4",
   "metadata": {},
   "outputs": [],
   "source": [
    "def list_result(predictions):\n",
    "    pred = pd.DataFrame(predictions)\n",
    "    pred.sort_values(by=['est'], inplace=True, ascending=False)\n",
    "    \n",
    "    recipe_list = pred.head(10)['iid'].to_list()\n",
    "    \n",
    "    print(recipe_list)\n",
    "    \n",
    "    # return df_recipes.loc[recipe_list]\n",
    "    return df_recipes.loc[df_recipes[\"id\"].isin(recipe_list)]"
   ]
  },
  {
   "cell_type": "code",
   "execution_count": 38,
   "id": "47787739",
   "metadata": {},
   "outputs": [
    {
     "name": "stdout",
     "output_type": "stream",
     "text": [
      "[4218, 97213, 118450, 1209, 7483, 47769, 118258, 182040, 46645, 38711]\n"
     ]
    },
    {
     "data": {
      "text/html": [
       "<div>\n",
       "<style scoped>\n",
       "    .dataframe tbody tr th:only-of-type {\n",
       "        vertical-align: middle;\n",
       "    }\n",
       "\n",
       "    .dataframe tbody tr th {\n",
       "        vertical-align: top;\n",
       "    }\n",
       "\n",
       "    .dataframe thead th {\n",
       "        text-align: right;\n",
       "    }\n",
       "</style>\n",
       "<table border=\"1\" class=\"dataframe\">\n",
       "  <thead>\n",
       "    <tr style=\"text-align: right;\">\n",
       "      <th></th>\n",
       "      <th>id</th>\n",
       "      <th>name</th>\n",
       "      <th>author_name</th>\n",
       "      <th>submitted</th>\n",
       "      <th>image_url</th>\n",
       "      <th>minutes</th>\n",
       "      <th>description</th>\n",
       "      <th>category</th>\n",
       "      <th>tags</th>\n",
       "      <th>search_terms</th>\n",
       "      <th>steps</th>\n",
       "      <th>ingredients</th>\n",
       "      <th>ingredients_raw_str</th>\n",
       "      <th>serving_size</th>\n",
       "      <th>servings</th>\n",
       "      <th>calories</th>\n",
       "      <th>rating</th>\n",
       "      <th>review_count</th>\n",
       "    </tr>\n",
       "  </thead>\n",
       "  <tbody>\n",
       "    <tr>\n",
       "      <th>584</th>\n",
       "      <td>118258</td>\n",
       "      <td>Kittencal's Best Chicken Stock/Broth (Crock Po...</td>\n",
       "      <td>Kittencalrecipezazz</td>\n",
       "      <td>2005-04-20</td>\n",
       "      <td>\"https://img.sndimg.com/food/image/upload/w_55...</td>\n",
       "      <td>28</td>\n",
       "      <td>Plan ahead this method takes 2 days to create ...</td>\n",
       "      <td>Stocks</td>\n",
       "      <td>{\"time-to-make\",\"course\",\"main-ingredient\",\"pr...</td>\n",
       "      <td>{\"low-carb\"}</td>\n",
       "      <td>{\"Place the chicken pieces and/or carcass (or ...</td>\n",
       "      <td>{\"chicken pieces\",\"onions\",\"carrots\",\"celery r...</td>\n",
       "      <td>{\"4   lbs   uncooked chicken pieces (bone and ...</td>\n",
       "      <td>1 (118 g)</td>\n",
       "      <td>12</td>\n",
       "      <td>222.1</td>\n",
       "      <td>5.0</td>\n",
       "      <td>68</td>\n",
       "    </tr>\n",
       "    <tr>\n",
       "      <th>3978</th>\n",
       "      <td>46645</td>\n",
       "      <td>Nutter Butter Frozen Peanut Butter Pie</td>\n",
       "      <td>Leta8076</td>\n",
       "      <td>2002-11-18</td>\n",
       "      <td>\"https://img.sndimg.com/food/image/upload/w_55...</td>\n",
       "      <td>270</td>\n",
       "      <td>Delicious frozen peanut butter pie. Cook time ...</td>\n",
       "      <td>Pie</td>\n",
       "      <td>{\"weeknight\",\"time-to-make\",\"course\",\"preparat...</td>\n",
       "      <td>{\"dessert\",\"pie\"}</td>\n",
       "      <td>{\"To make crust*; crush the cookies in a zippe...</td>\n",
       "      <td>{\"nutter butter sandwich cookies\",\"butter\",\"cr...</td>\n",
       "      <td>{\"24       Nutter Butter sandwich cookies\",\"5 ...</td>\n",
       "      <td>1 (213 g)</td>\n",
       "      <td>6</td>\n",
       "      <td>958.1</td>\n",
       "      <td>5.0</td>\n",
       "      <td>24</td>\n",
       "    </tr>\n",
       "    <tr>\n",
       "      <th>11146</th>\n",
       "      <td>97213</td>\n",
       "      <td>Jeni's Chocolate Ganache</td>\n",
       "      <td>Amanda Beth</td>\n",
       "      <td>2004-08-07</td>\n",
       "      <td>\"https://img.sndimg.com/food/image/upload/w_55...</td>\n",
       "      <td>75</td>\n",
       "      <td>I named this for my sister-in-law, Jeni, after...</td>\n",
       "      <td>Dessert</td>\n",
       "      <td>{\"time-to-make\",\"course\",\"main-ingredient\",\"pr...</td>\n",
       "      <td>{\"dessert\",\"low-sodium\"}</td>\n",
       "      <td>{\"In a small saucepan; over low heat; combine ...</td>\n",
       "      <td>{\"semisweet chocolate\",\"heavy whipping cream\",...</td>\n",
       "      <td>{\"6   ounces    semisweet chocolate; chopped  ...</td>\n",
       "      <td>1 (307 g)</td>\n",
       "      <td>1</td>\n",
       "      <td>1384.1</td>\n",
       "      <td>5.0</td>\n",
       "      <td>35</td>\n",
       "    </tr>\n",
       "    <tr>\n",
       "      <th>12270</th>\n",
       "      <td>118450</td>\n",
       "      <td>Heavenly Light Dinner Rolls (abm)</td>\n",
       "      <td>Marie</td>\n",
       "      <td>2005-04-22</td>\n",
       "      <td>\"https://img.sndimg.com/food/image/upload/w_55...</td>\n",
       "      <td>32</td>\n",
       "      <td>One of my favorite dinner rolls.  Extremely li...</td>\n",
       "      <td>Yeast Breads</td>\n",
       "      <td>{\"60-minutes-or-less\",\"time-to-make\",\"course\",...</td>\n",
       "      <td>{\"bread\",\"dinner\",\"light\"}</td>\n",
       "      <td>{\"Add all ingredients to bread machine accordi...</td>\n",
       "      <td>{\"milk\",\"eggs\",\"butter\",\"salt\",\"sugar\",\"bread ...</td>\n",
       "      <td>{\"1   cup    milk\",\"2       eggs\",\"1/2  cup   ...</td>\n",
       "      <td>1 (1024 g)</td>\n",
       "      <td>1</td>\n",
       "      <td>175.5</td>\n",
       "      <td>5.0</td>\n",
       "      <td>14</td>\n",
       "    </tr>\n",
       "    <tr>\n",
       "      <th>12934</th>\n",
       "      <td>1209</td>\n",
       "      <td>Spinach Artichoke Dip</td>\n",
       "      <td>Juli9251</td>\n",
       "      <td>1999-09-22</td>\n",
       "      <td>\"https://img.sndimg.com/food/image/upload/w_55...</td>\n",
       "      <td>30</td>\n",
       "      <td>Here is a delicious spinach artichoke dip!</td>\n",
       "      <td>Cheese</td>\n",
       "      <td>{\"30-minutes-or-less\",\"time-to-make\",\"course\",...</td>\n",
       "      <td>{\"appetizer\",\"dinner\"}</td>\n",
       "      <td>{\"Preheat oven to 375°F.\",\"Mix together Parmes...</td>\n",
       "      <td>{\"parmesan cheese\",\"frozen chopped spinach\",\"a...</td>\n",
       "      <td>{\"2   cups    parmesan cheese\",\"1 (10   ounce)...</td>\n",
       "      <td>1 (84 g)</td>\n",
       "      <td>15</td>\n",
       "      <td>150.2</td>\n",
       "      <td>5.0</td>\n",
       "      <td>609</td>\n",
       "    </tr>\n",
       "    <tr>\n",
       "      <th>16842</th>\n",
       "      <td>182040</td>\n",
       "      <td>Spicy Meat and Cheese Stromboli</td>\n",
       "      <td>KelBel</td>\n",
       "      <td>2006-08-16</td>\n",
       "      <td>\"https://img.sndimg.com/food/image/upload/w_55...</td>\n",
       "      <td>20</td>\n",
       "      <td>This is from 30 Minute Meals on Food Network. ...</td>\n",
       "      <td>Lunch/Snacks</td>\n",
       "      <td>{\"30-minutes-or-less\",\"time-to-make\",\"course\",...</td>\n",
       "      <td>{\"dinner\",\"lunch\"}</td>\n",
       "      <td>{\"Pre-heat oven to 400 degrees.\",\"Break open t...</td>\n",
       "      <td>{\"pizza dough\",\"pepperoni\",\"provolone cheese\",...</td>\n",
       "      <td>{\"1       pizza dough; refrigerated  (recommen...</td>\n",
       "      <td>1 (86 g)</td>\n",
       "      <td>4</td>\n",
       "      <td>376.0</td>\n",
       "      <td>5.0</td>\n",
       "      <td>51</td>\n",
       "    </tr>\n",
       "    <tr>\n",
       "      <th>19410</th>\n",
       "      <td>38711</td>\n",
       "      <td>Make Your Own Baking Powder - Clone, Substitute</td>\n",
       "      <td>Dancer</td>\n",
       "      <td>2002-08-28</td>\n",
       "      <td>NaN</td>\n",
       "      <td>5</td>\n",
       "      <td>This is handy when you have forgotten to buy b...</td>\n",
       "      <td>Low Protein</td>\n",
       "      <td>{\"15-minutes-or-less\",\"time-to-make\",\"course\",...</td>\n",
       "      <td>{\"diabetic\",\"vegetarian\",\"healthy\",\"gluten-fre...</td>\n",
       "      <td>{\"Mix together; store in refrigerator.\",\"Can b...</td>\n",
       "      <td>{\"cream of tartar\",\"baking soda\",\"cornstarch\"}</td>\n",
       "      <td>{\"1/2  teaspoon    cream of tartar\",\"1/4  teas...</td>\n",
       "      <td>1 (4 g)</td>\n",
       "      <td>1</td>\n",
       "      <td>6.4</td>\n",
       "      <td>5.0</td>\n",
       "      <td>23</td>\n",
       "    </tr>\n",
       "    <tr>\n",
       "      <th>19608</th>\n",
       "      <td>4218</td>\n",
       "      <td>Honey Oat Bread (Bread Machine)</td>\n",
       "      <td>Tonkcats</td>\n",
       "      <td>1999-11-10</td>\n",
       "      <td>\"https://img.sndimg.com/food/image/upload/w_55...</td>\n",
       "      <td>190</td>\n",
       "      <td>A nice simple hearth-like bread...Great for an...</td>\n",
       "      <td>Yeast Breads</td>\n",
       "      <td>{\"time-to-make\",\"course\",\"preparation\",\"occasi...</td>\n",
       "      <td>{\"healthy\",\"bread\"}</td>\n",
       "      <td>{\"Combine ingredients in breadmaker per your m...</td>\n",
       "      <td>{\"water\",\"honey\",\"vegetable oil\",\"white bread ...</td>\n",
       "      <td>{\"1   cup    water\",\"1/4  cup    honey\",\"2   t...</td>\n",
       "      <td>1 (97 g)</td>\n",
       "      <td>8</td>\n",
       "      <td>255.3</td>\n",
       "      <td>5.0</td>\n",
       "      <td>53</td>\n",
       "    </tr>\n",
       "    <tr>\n",
       "      <th>21427</th>\n",
       "      <td>7483</td>\n",
       "      <td>Cajun Pork Roast</td>\n",
       "      <td>Julesong</td>\n",
       "      <td>2000-03-13</td>\n",
       "      <td>NaN</td>\n",
       "      <td>0</td>\n",
       "      <td>Garlicky, spicy pork roast!</td>\n",
       "      <td>Pork</td>\n",
       "      <td>{\"weeknight\",\"15-minutes-or-less\",\"time-to-mak...</td>\n",
       "      <td>{\"roast\",\"cajun\",\"pork\",\"dinner\",\"southern\"}</td>\n",
       "      <td>{\"MARINADE:  Combine chopped onion; chopped ga...</td>\n",
       "      <td>{\"boneless boston pork roast\",\"steak sauce\",\"o...</td>\n",
       "      <td>{\"10   lbs    boneless boston pork roast\",\"2  ...</td>\n",
       "      <td>1 (383 g)</td>\n",
       "      <td>12</td>\n",
       "      <td>1074.7</td>\n",
       "      <td>5.0</td>\n",
       "      <td>9</td>\n",
       "    </tr>\n",
       "    <tr>\n",
       "      <th>23265</th>\n",
       "      <td>47769</td>\n",
       "      <td>Cranberry Chutney</td>\n",
       "      <td>Jellyqueen</td>\n",
       "      <td>2002-12-07</td>\n",
       "      <td>\"https://img.sndimg.com/food/image/upload/w_55...</td>\n",
       "      <td>40</td>\n",
       "      <td>Once again, I have to give Taste of Home credi...</td>\n",
       "      <td>Chutneys</td>\n",
       "      <td>{\"60-minutes-or-less\",\"time-to-make\",\"course\",...</td>\n",
       "      <td>{\"healthy\",\"low-fat\",\"low-sodium\"}</td>\n",
       "      <td>{\"In a saucepan; combine the cranberries; suga...</td>\n",
       "      <td>{\"fresh cranberries\",\"sugar\",\"water\",\"salt\",\"g...</td>\n",
       "      <td>{\"1   lb    fresh cranberries\",\"2 1/2  cups   ...</td>\n",
       "      <td>1 (1955 g)</td>\n",
       "      <td>1</td>\n",
       "      <td>456.6</td>\n",
       "      <td>5.0</td>\n",
       "      <td>16</td>\n",
       "    </tr>\n",
       "  </tbody>\n",
       "</table>\n",
       "</div>"
      ],
      "text/plain": [
       "           id                                               name  \\\n",
       "584    118258  Kittencal's Best Chicken Stock/Broth (Crock Po...   \n",
       "3978    46645             Nutter Butter Frozen Peanut Butter Pie   \n",
       "11146   97213                           Jeni's Chocolate Ganache   \n",
       "12270  118450                  Heavenly Light Dinner Rolls (abm)   \n",
       "12934    1209                              Spinach Artichoke Dip   \n",
       "16842  182040                    Spicy Meat and Cheese Stromboli   \n",
       "19410   38711    Make Your Own Baking Powder - Clone, Substitute   \n",
       "19608    4218                    Honey Oat Bread (Bread Machine)   \n",
       "21427    7483                                   Cajun Pork Roast   \n",
       "23265   47769                                  Cranberry Chutney   \n",
       "\n",
       "               author_name   submitted  \\\n",
       "584    Kittencalrecipezazz  2005-04-20   \n",
       "3978              Leta8076  2002-11-18   \n",
       "11146          Amanda Beth  2004-08-07   \n",
       "12270                Marie  2005-04-22   \n",
       "12934             Juli9251  1999-09-22   \n",
       "16842               KelBel  2006-08-16   \n",
       "19410               Dancer  2002-08-28   \n",
       "19608             Tonkcats  1999-11-10   \n",
       "21427             Julesong  2000-03-13   \n",
       "23265           Jellyqueen  2002-12-07   \n",
       "\n",
       "                                               image_url  minutes  \\\n",
       "584    \"https://img.sndimg.com/food/image/upload/w_55...       28   \n",
       "3978   \"https://img.sndimg.com/food/image/upload/w_55...      270   \n",
       "11146  \"https://img.sndimg.com/food/image/upload/w_55...       75   \n",
       "12270  \"https://img.sndimg.com/food/image/upload/w_55...       32   \n",
       "12934  \"https://img.sndimg.com/food/image/upload/w_55...       30   \n",
       "16842  \"https://img.sndimg.com/food/image/upload/w_55...       20   \n",
       "19410                                                NaN        5   \n",
       "19608  \"https://img.sndimg.com/food/image/upload/w_55...      190   \n",
       "21427                                                NaN        0   \n",
       "23265  \"https://img.sndimg.com/food/image/upload/w_55...       40   \n",
       "\n",
       "                                             description      category  \\\n",
       "584    Plan ahead this method takes 2 days to create ...        Stocks   \n",
       "3978   Delicious frozen peanut butter pie. Cook time ...           Pie   \n",
       "11146  I named this for my sister-in-law, Jeni, after...       Dessert   \n",
       "12270  One of my favorite dinner rolls.  Extremely li...  Yeast Breads   \n",
       "12934         Here is a delicious spinach artichoke dip!        Cheese   \n",
       "16842  This is from 30 Minute Meals on Food Network. ...  Lunch/Snacks   \n",
       "19410  This is handy when you have forgotten to buy b...   Low Protein   \n",
       "19608  A nice simple hearth-like bread...Great for an...  Yeast Breads   \n",
       "21427                        Garlicky, spicy pork roast!          Pork   \n",
       "23265  Once again, I have to give Taste of Home credi...      Chutneys   \n",
       "\n",
       "                                                    tags  \\\n",
       "584    {\"time-to-make\",\"course\",\"main-ingredient\",\"pr...   \n",
       "3978   {\"weeknight\",\"time-to-make\",\"course\",\"preparat...   \n",
       "11146  {\"time-to-make\",\"course\",\"main-ingredient\",\"pr...   \n",
       "12270  {\"60-minutes-or-less\",\"time-to-make\",\"course\",...   \n",
       "12934  {\"30-minutes-or-less\",\"time-to-make\",\"course\",...   \n",
       "16842  {\"30-minutes-or-less\",\"time-to-make\",\"course\",...   \n",
       "19410  {\"15-minutes-or-less\",\"time-to-make\",\"course\",...   \n",
       "19608  {\"time-to-make\",\"course\",\"preparation\",\"occasi...   \n",
       "21427  {\"weeknight\",\"15-minutes-or-less\",\"time-to-mak...   \n",
       "23265  {\"60-minutes-or-less\",\"time-to-make\",\"course\",...   \n",
       "\n",
       "                                            search_terms  \\\n",
       "584                                         {\"low-carb\"}   \n",
       "3978                                   {\"dessert\",\"pie\"}   \n",
       "11146                           {\"dessert\",\"low-sodium\"}   \n",
       "12270                         {\"bread\",\"dinner\",\"light\"}   \n",
       "12934                             {\"appetizer\",\"dinner\"}   \n",
       "16842                                 {\"dinner\",\"lunch\"}   \n",
       "19410  {\"diabetic\",\"vegetarian\",\"healthy\",\"gluten-fre...   \n",
       "19608                                {\"healthy\",\"bread\"}   \n",
       "21427       {\"roast\",\"cajun\",\"pork\",\"dinner\",\"southern\"}   \n",
       "23265                 {\"healthy\",\"low-fat\",\"low-sodium\"}   \n",
       "\n",
       "                                                   steps  \\\n",
       "584    {\"Place the chicken pieces and/or carcass (or ...   \n",
       "3978   {\"To make crust*; crush the cookies in a zippe...   \n",
       "11146  {\"In a small saucepan; over low heat; combine ...   \n",
       "12270  {\"Add all ingredients to bread machine accordi...   \n",
       "12934  {\"Preheat oven to 375°F.\",\"Mix together Parmes...   \n",
       "16842  {\"Pre-heat oven to 400 degrees.\",\"Break open t...   \n",
       "19410  {\"Mix together; store in refrigerator.\",\"Can b...   \n",
       "19608  {\"Combine ingredients in breadmaker per your m...   \n",
       "21427  {\"MARINADE:  Combine chopped onion; chopped ga...   \n",
       "23265  {\"In a saucepan; combine the cranberries; suga...   \n",
       "\n",
       "                                             ingredients  \\\n",
       "584    {\"chicken pieces\",\"onions\",\"carrots\",\"celery r...   \n",
       "3978   {\"nutter butter sandwich cookies\",\"butter\",\"cr...   \n",
       "11146  {\"semisweet chocolate\",\"heavy whipping cream\",...   \n",
       "12270  {\"milk\",\"eggs\",\"butter\",\"salt\",\"sugar\",\"bread ...   \n",
       "12934  {\"parmesan cheese\",\"frozen chopped spinach\",\"a...   \n",
       "16842  {\"pizza dough\",\"pepperoni\",\"provolone cheese\",...   \n",
       "19410     {\"cream of tartar\",\"baking soda\",\"cornstarch\"}   \n",
       "19608  {\"water\",\"honey\",\"vegetable oil\",\"white bread ...   \n",
       "21427  {\"boneless boston pork roast\",\"steak sauce\",\"o...   \n",
       "23265  {\"fresh cranberries\",\"sugar\",\"water\",\"salt\",\"g...   \n",
       "\n",
       "                                     ingredients_raw_str serving_size  \\\n",
       "584    {\"4   lbs   uncooked chicken pieces (bone and ...    1 (118 g)   \n",
       "3978   {\"24       Nutter Butter sandwich cookies\",\"5 ...    1 (213 g)   \n",
       "11146  {\"6   ounces    semisweet chocolate; chopped  ...    1 (307 g)   \n",
       "12270  {\"1   cup    milk\",\"2       eggs\",\"1/2  cup   ...   1 (1024 g)   \n",
       "12934  {\"2   cups    parmesan cheese\",\"1 (10   ounce)...     1 (84 g)   \n",
       "16842  {\"1       pizza dough; refrigerated  (recommen...     1 (86 g)   \n",
       "19410  {\"1/2  teaspoon    cream of tartar\",\"1/4  teas...      1 (4 g)   \n",
       "19608  {\"1   cup    water\",\"1/4  cup    honey\",\"2   t...     1 (97 g)   \n",
       "21427  {\"10   lbs    boneless boston pork roast\",\"2  ...    1 (383 g)   \n",
       "23265  {\"1   lb    fresh cranberries\",\"2 1/2  cups   ...   1 (1955 g)   \n",
       "\n",
       "       servings  calories  rating  review_count  \n",
       "584          12     222.1     5.0            68  \n",
       "3978          6     958.1     5.0            24  \n",
       "11146         1    1384.1     5.0            35  \n",
       "12270         1     175.5     5.0            14  \n",
       "12934        15     150.2     5.0           609  \n",
       "16842         4     376.0     5.0            51  \n",
       "19410         1       6.4     5.0            23  \n",
       "19608         8     255.3     5.0            53  \n",
       "21427        12    1074.7     5.0             9  \n",
       "23265         1     456.6     5.0            16  "
      ]
     },
     "execution_count": 38,
     "metadata": {},
     "output_type": "execute_result"
    }
   ],
   "source": [
    "df_results = list_result(predictions)\n",
    "df_results"
   ]
  },
  {
   "cell_type": "markdown",
   "id": "89cc9f52",
   "metadata": {},
   "source": [
    "### Examination"
   ]
  },
  {
   "cell_type": "raw",
   "id": "a457e222",
   "metadata": {},
   "source": [
    "examined_recipes = [9872, 809]\n",
    "\n",
    "df_examine_1 = df_recipe_ratings.loc[df_recipe_ratings[\"Item\"].isin(examined_recipes)]\n",
    "\n",
    "len(df_examine_1)#.pivot_table(values='Rating', index=\"User\", columns=\"Item\")"
   ]
  },
  {
   "cell_type": "raw",
   "id": "027e3e35",
   "metadata": {},
   "source": [
    "examined_users = df_examine_1[\"User\"].to_list()\n",
    "\n",
    "for item in examined_users:\n",
    "    print(df_reviews.loc[df_reviews[\"User\"]==item])"
   ]
  },
  {
   "cell_type": "raw",
   "id": "4abbaad8",
   "metadata": {},
   "source": [
    "df_reviews.loc[(df_reviews[\"Item\"] == 8264)][\"User\"].to_list()"
   ]
  },
  {
   "cell_type": "raw",
   "id": "958ec4d5",
   "metadata": {},
   "source": [
    "def intersection(lst1, lst2):\n",
    "    return list(set(lst1) & set(lst2))\n",
    " \n",
    "# Driver Code\n",
    "lst1 = df_examine_1[\"User\"].to_list()\n",
    "lst2 = df_reviews.loc[(df_reviews[\"Item\"] == 8264)][\"User\"].to_list()\n",
    "print(intersection(lst1, lst2))"
   ]
  },
  {
   "cell_type": "markdown",
   "id": "380e2596",
   "metadata": {},
   "source": [
    "---"
   ]
  },
  {
   "cell_type": "markdown",
   "id": "4debb0da",
   "metadata": {},
   "source": [
    "# 4. Save model"
   ]
  },
  {
   "cell_type": "code",
   "execution_count": null,
   "id": "9509a24a",
   "metadata": {},
   "outputs": [],
   "source": []
  }
 ],
 "metadata": {
  "kernelspec": {
   "display_name": "Python 3 (ipykernel)",
   "language": "python",
   "name": "python3"
  },
  "language_info": {
   "codemirror_mode": {
    "name": "ipython",
    "version": 3
   },
   "file_extension": ".py",
   "mimetype": "text/x-python",
   "name": "python",
   "nbconvert_exporter": "python",
   "pygments_lexer": "ipython3",
   "version": "3.9.12"
  }
 },
 "nbformat": 4,
 "nbformat_minor": 5
}
