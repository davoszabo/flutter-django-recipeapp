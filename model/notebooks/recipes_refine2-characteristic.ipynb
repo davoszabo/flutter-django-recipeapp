{
 "cells": [
  {
   "cell_type": "code",
   "execution_count": 1,
   "id": "2895807e",
   "metadata": {},
   "outputs": [],
   "source": [
    "import numpy as np\n",
    "import pandas as pd"
   ]
  },
  {
   "cell_type": "markdown",
   "id": "a286f5e5",
   "metadata": {},
   "source": [
    "# 1. Load datasets"
   ]
  },
  {
   "cell_type": "code",
   "execution_count": 2,
   "id": "fa680c29",
   "metadata": {},
   "outputs": [],
   "source": [
    "df = pd.read_pickle('datasets/refined/recipes_refined_merged.pkl')"
   ]
  },
  {
   "cell_type": "code",
   "execution_count": 11,
   "id": "3ce78cc6",
   "metadata": {},
   "outputs": [
    {
     "data": {
      "text/plain": [
       "['My friend gave me some trout a couple months ago and I used this recipe out of Louisiana Cookin and it was divine!']"
      ]
     },
     "execution_count": 11,
     "metadata": {},
     "output_type": "execute_result"
    }
   ],
   "source": [
    "list(df[df[\"id\"] == 221185][\"description\"])"
   ]
  },
  {
   "cell_type": "raw",
   "id": "385fa87f",
   "metadata": {},
   "source": [
    "df[df[\"name\"].str.contains(\"&amp;\")]"
   ]
  },
  {
   "cell_type": "markdown",
   "id": "7e93963f",
   "metadata": {},
   "source": [
    "---"
   ]
  },
  {
   "cell_type": "markdown",
   "id": "9e1a78a5",
   "metadata": {},
   "source": [
    "# 2. Analysing"
   ]
  },
  {
   "cell_type": "raw",
   "id": "cb6dc7ce",
   "metadata": {
    "scrolled": true
   },
   "source": [
    "list(df[df[\"id\"] == 107786][\"image_url\"])"
   ]
  },
  {
   "cell_type": "markdown",
   "id": "097f617b",
   "metadata": {},
   "source": [
    "### Counting tag occurrence"
   ]
  },
  {
   "cell_type": "raw",
   "id": "85905443",
   "metadata": {},
   "source": [
    "import ast\n",
    "from collections import Counter\n",
    "from itertools import chain\n",
    "\n",
    "ls = list()\n",
    "df_ls = df.loc[:1,[\"tags\"]]\n",
    "for item in df_ls[\"tags\"]:\n",
    "    ls.append(ast.literal_eval(item))\n",
    "\n",
    "listed = df.tags.apply(ast.literal_eval)\n",
    "\n",
    "s = pd.Series(Counter(chain.from_iterable(listed)))\n",
    "\n",
    "s.sort_values(ascending=False)"
   ]
  },
  {
   "cell_type": "markdown",
   "id": "d044b232",
   "metadata": {},
   "source": [
    "---"
   ]
  },
  {
   "cell_type": "markdown",
   "id": "b104efd0",
   "metadata": {},
   "source": [
    "# 3. Charactersitic update"
   ]
  },
  {
   "cell_type": "markdown",
   "id": "6a87cfb6",
   "metadata": {},
   "source": [
    "### \"&;amp;\" to \"&\""
   ]
  },
  {
   "cell_type": "code",
   "execution_count": 8,
   "id": "840bf1a1",
   "metadata": {},
   "outputs": [],
   "source": [
    "df[\"name\"] = df[\"name\"].str.replace(\"&amp;\", \"&\")"
   ]
  },
  {
   "cell_type": "code",
   "execution_count": 5,
   "id": "eeaa57c3",
   "metadata": {},
   "outputs": [],
   "source": [
    "target_columns = [\"tags\", \"search_terms\", \"steps\", \"ingredients\", \"ingredients_raw_str\"]"
   ]
  },
  {
   "cell_type": "markdown",
   "id": "a3a105a1",
   "metadata": {},
   "source": [
    "### Remove qoutes in desc and name"
   ]
  },
  {
   "cell_type": "code",
   "execution_count": 5,
   "id": "ece69fde",
   "metadata": {},
   "outputs": [],
   "source": [
    "for col in [\"name\", \"description\"]:\n",
    "    df[col] = df[col].str.replace('\"',\"\").str.replace(\"'\",\"\")"
   ]
  },
  {
   "cell_type": "markdown",
   "id": "800e95fb",
   "metadata": {},
   "source": [
    "### Change quote marks for Postgres "
   ]
  },
  {
   "cell_type": "code",
   "execution_count": 9,
   "id": "947b3f40",
   "metadata": {},
   "outputs": [],
   "source": [
    "for col in [\"tags\", \"search_terms\", \"steps\", \"ingredients\"]:\n",
    "    df[col] = df[col].str.replace(\"'\",'\"').str.replace('\", \"','\",\"')"
   ]
  },
  {
   "cell_type": "markdown",
   "id": "62bb66b2",
   "metadata": {},
   "source": [
    "### Separator malfunction fix"
   ]
  },
  {
   "cell_type": "code",
   "execution_count": 3,
   "id": "6fe673d5",
   "metadata": {},
   "outputs": [
    {
     "name": "stderr",
     "output_type": "stream",
     "text": [
      "/tmp/ipykernel_38/221723067.py:2: FutureWarning: The default value of regex will change from True to False in a future version. In addition, single character regular expressions will *not* be treated as literal strings when regex=True.\n",
      "  df[col] = df[col].str.replace('\",\"','|').str.replace(',',';').str.replace('|','\",\"')#.str.replace('\"\",','').str.replace(',\"\"','')\n"
     ]
    }
   ],
   "source": [
    "for col in [\"steps\", \"ingredients_raw_str\"]:\n",
    "    df[col] = df[col].str.replace('\",\"','|').str.replace(',',';').str.replace('|','\",\"')#.str.replace('\"\",','').str.replace(',\"\"','')"
   ]
  },
  {
   "cell_type": "code",
   "execution_count": 6,
   "id": "c59381d6",
   "metadata": {},
   "outputs": [],
   "source": [
    "for col in target_columns:\n",
    "    df[col] = df[col].str.replace('\"\",','').str.replace(',\"\"','')"
   ]
  },
  {
   "cell_type": "raw",
   "id": "cab7e7e7",
   "metadata": {},
   "source": [
    "df[df['steps'].str.contains(\",\")]"
   ]
  },
  {
   "cell_type": "markdown",
   "id": "a20c9c08",
   "metadata": {},
   "source": [
    "### Section save "
   ]
  },
  {
   "cell_type": "code",
   "execution_count": 10,
   "id": "2bda6930",
   "metadata": {},
   "outputs": [],
   "source": [
    "df.to_pickle('datasets/refined/recipes_temp1.pkl')"
   ]
  },
  {
   "cell_type": "code",
   "execution_count": 2,
   "id": "f0c13ac1",
   "metadata": {},
   "outputs": [],
   "source": [
    "df = pd.read_pickle('datasets/refined/recipes_temp1.pkl')"
   ]
  },
  {
   "cell_type": "markdown",
   "id": "bcab9c53",
   "metadata": {},
   "source": [
    "### Inline bounders replacement"
   ]
  },
  {
   "cell_type": "raw",
   "id": "03890159",
   "metadata": {},
   "source": [
    "for col in target_columns:\n",
    "    df[col] = df[col].str[1:-1].str.replace(\"{\",\"(\").str.replace(\"}\",\")\")"
   ]
  },
  {
   "cell_type": "markdown",
   "id": "c48b56d7",
   "metadata": {},
   "source": [
    "### Change brackets "
   ]
  },
  {
   "cell_type": "code",
   "execution_count": 7,
   "id": "f4c97302",
   "metadata": {},
   "outputs": [
    {
     "name": "stderr",
     "output_type": "stream",
     "text": [
      "/tmp/ipykernel_38/2558694278.py:2: FutureWarning: The default value of regex will change from True to False in a future version. In addition, single character regular expressions will *not* be treated as literal strings when regex=True.\n",
      "  df[col] = \"{\" + df[col].str[1:-1].str.replace(\"{\",\"(\").str.replace(\"}\",\")\") + \"}\"\n"
     ]
    }
   ],
   "source": [
    "for col in target_columns:\n",
    "    df[col] = \"{\" + df[col].str[1:-1].str.replace(\"{\",\"(\").str.replace(\"}\",\")\") + \"}\""
   ]
  },
  {
   "cell_type": "markdown",
   "id": "f8075049",
   "metadata": {},
   "source": [
    "### Apostrophe fix\n",
    "(Only if needed)"
   ]
  },
  {
   "cell_type": "raw",
   "id": "0113b154",
   "metadata": {},
   "source": [
    "df_merged['name'] = df_merged['name'].str.replace(\" s \",\"'s \")\n",
    "df_merged['name'] = df_merged['name'].str.title()\n",
    "df_merged['name'] = df_merged['name'].str.replace(\"'S \",\"'s \")"
   ]
  },
  {
   "cell_type": "markdown",
   "id": "1e419117",
   "metadata": {},
   "source": [
    "# 4. Save"
   ]
  },
  {
   "cell_type": "code",
   "execution_count": 9,
   "id": "728d37f5",
   "metadata": {},
   "outputs": [],
   "source": [
    "df.to_csv('datasets/refined/refined_merged_char_recipes.csv', sep=';', index=False)"
   ]
  },
  {
   "cell_type": "code",
   "execution_count": 8,
   "id": "001acf87",
   "metadata": {},
   "outputs": [],
   "source": [
    "df.to_pickle('datasets/refined/refined_merged_char_recipes.pkl')"
   ]
  },
  {
   "cell_type": "markdown",
   "id": "8954b404",
   "metadata": {},
   "source": [
    "## Check"
   ]
  },
  {
   "cell_type": "code",
   "execution_count": 10,
   "id": "0c3f95e0",
   "metadata": {
    "scrolled": true
   },
   "outputs": [
    {
     "data": {
      "text/html": [
       "<div>\n",
       "<style scoped>\n",
       "    .dataframe tbody tr th:only-of-type {\n",
       "        vertical-align: middle;\n",
       "    }\n",
       "\n",
       "    .dataframe tbody tr th {\n",
       "        vertical-align: top;\n",
       "    }\n",
       "\n",
       "    .dataframe thead th {\n",
       "        text-align: right;\n",
       "    }\n",
       "</style>\n",
       "<table border=\"1\" class=\"dataframe\">\n",
       "  <thead>\n",
       "    <tr style=\"text-align: right;\">\n",
       "      <th></th>\n",
       "      <th>id</th>\n",
       "      <th>name</th>\n",
       "      <th>author_name</th>\n",
       "      <th>submitted</th>\n",
       "      <th>image_url</th>\n",
       "      <th>minutes</th>\n",
       "      <th>description</th>\n",
       "      <th>category</th>\n",
       "      <th>tags</th>\n",
       "      <th>search_terms</th>\n",
       "      <th>steps</th>\n",
       "      <th>ingredients</th>\n",
       "      <th>ingredients_raw_str</th>\n",
       "      <th>serving_size</th>\n",
       "      <th>servings</th>\n",
       "      <th>review_count</th>\n",
       "      <th>calories</th>\n",
       "      <th>rating</th>\n",
       "    </tr>\n",
       "  </thead>\n",
       "  <tbody>\n",
       "    <tr>\n",
       "      <th>0</th>\n",
       "      <td>96313</td>\n",
       "      <td>Grilled Garlic Cheese Grits</td>\n",
       "      <td>Barb G.</td>\n",
       "      <td>2004-07-24</td>\n",
       "      <td>\"https://img.sndimg.com/food/image/upload/w_55...</td>\n",
       "      <td>65</td>\n",
       "      <td>We love grits, this is another good way to ser...</td>\n",
       "      <td>Grains</td>\n",
       "      <td>{\"time-to-make\",\"course\",\"main-ingredient\",\"pr...</td>\n",
       "      <td>{\"diabetic\",\"low-calorie\",\"vegetarian\",\"low-ca...</td>\n",
       "      <td>{\"I a sauce pan; bring water to a boil; slowly...</td>\n",
       "      <td>{\"water\",\"grits\",\"salt\",\"cheddar cheese\",\"garl...</td>\n",
       "      <td>{\"4   cups    water\",\"1   cup   uncooked old f...</td>\n",
       "      <td>1 (155 g)</td>\n",
       "      <td>8</td>\n",
       "      <td>3</td>\n",
       "      <td>144.8</td>\n",
       "      <td>5.0</td>\n",
       "    </tr>\n",
       "    <tr>\n",
       "      <th>1</th>\n",
       "      <td>232037</td>\n",
       "      <td>Simple Shrimp and Andouille Jambalaya</td>\n",
       "      <td>lisar</td>\n",
       "      <td>2007-06-03</td>\n",
       "      <td>NaN</td>\n",
       "      <td>45</td>\n",
       "      <td>Simple, easy and very tasty for when you are i...</td>\n",
       "      <td>One Dish Meal</td>\n",
       "      <td>{\"60-minutes-or-less\",\"time-to-make\",\"course\",...</td>\n",
       "      <td>{\"dinner\",\"shrimp\"}</td>\n",
       "      <td>{\"In a food processor; pulse the onion; red pe...</td>\n",
       "      <td>{\"onion\",\"red bell pepper\",\"garlic cloves\",\"la...</td>\n",
       "      <td>{\"1   medium    onion; chopped coarse \",\"1   m...</td>\n",
       "      <td>1 (366 g)</td>\n",
       "      <td>4</td>\n",
       "      <td>3</td>\n",
       "      <td>756.5</td>\n",
       "      <td>5.0</td>\n",
       "    </tr>\n",
       "    <tr>\n",
       "      <th>2</th>\n",
       "      <td>41090</td>\n",
       "      <td>black-and-white bean salad</td>\n",
       "      <td>spatchcock</td>\n",
       "      <td>2002-09-24</td>\n",
       "      <td>NaN</td>\n",
       "      <td>5</td>\n",
       "      <td>NaN</td>\n",
       "      <td>Black Beans</td>\n",
       "      <td>{\"15-minutes-or-less\",\"time-to-make\",\"course\",...</td>\n",
       "      <td>{\"vegetarian\",\"salad\",\"side\",\"dinner\",\"vegan\"}</td>\n",
       "      <td>{\"In a large bowl; combine beans; tomato; onio...</td>\n",
       "      <td>{\"white beans\",\"canned black beans\",\"tomatoes\"...</td>\n",
       "      <td>{\"1   cup   canned white beans; rinsed and dra...</td>\n",
       "      <td>1 (807 g)</td>\n",
       "      <td>1</td>\n",
       "      <td>2</td>\n",
       "      <td>159.0</td>\n",
       "      <td>4.5</td>\n",
       "    </tr>\n",
       "    <tr>\n",
       "      <th>3</th>\n",
       "      <td>60656</td>\n",
       "      <td>Crock Pot Italian Zucchini</td>\n",
       "      <td>Karen in KS</td>\n",
       "      <td>2003-04-22</td>\n",
       "      <td>NaN</td>\n",
       "      <td>370</td>\n",
       "      <td>This is a good recipe for weight watchers. It ...</td>\n",
       "      <td>Vegetable</td>\n",
       "      <td>{\"weeknight\",\"time-to-make\",\"course\",\"main-ing...</td>\n",
       "      <td>{\"side\",\"vegetarian\",\"italian\"}</td>\n",
       "      <td>{\"Put all ingredients in the crock pot and coo...</td>\n",
       "      <td>{\"zucchini\",\"yellow squash\",\"diced tomatoes\",\"...</td>\n",
       "      <td>{\"2       zucchini; sliced \",\"2   small    yel...</td>\n",
       "      <td>1 (244 g)</td>\n",
       "      <td>4</td>\n",
       "      <td>1</td>\n",
       "      <td>47.1</td>\n",
       "      <td>4.0</td>\n",
       "    </tr>\n",
       "    <tr>\n",
       "      <th>4</th>\n",
       "      <td>232047</td>\n",
       "      <td>Beef Stew With Dried Cherries</td>\n",
       "      <td>ktdid</td>\n",
       "      <td>2007-06-03</td>\n",
       "      <td>NaN</td>\n",
       "      <td>165</td>\n",
       "      <td>This is a fabulous stew that came from one of ...</td>\n",
       "      <td>Stew</td>\n",
       "      <td>{\"time-to-make\",\"course\",\"main-ingredient\",\"pr...</td>\n",
       "      <td>{\"dinner\"}</td>\n",
       "      <td>{\"Preheat oven to 350°F.\",\"Cut beef into 1 inc...</td>\n",
       "      <td>{\"beef stew meat\",\"flour\",\"salt\",\"allspice\",\"c...</td>\n",
       "      <td>{\"3   lbs    beef stew meat\",\"3   tablespoons ...</td>\n",
       "      <td>1 (358 g)</td>\n",
       "      <td>8</td>\n",
       "      <td>0</td>\n",
       "      <td>691.1</td>\n",
       "      <td>NaN</td>\n",
       "    </tr>\n",
       "    <tr>\n",
       "      <th>...</th>\n",
       "      <td>...</td>\n",
       "      <td>...</td>\n",
       "      <td>...</td>\n",
       "      <td>...</td>\n",
       "      <td>...</td>\n",
       "      <td>...</td>\n",
       "      <td>...</td>\n",
       "      <td>...</td>\n",
       "      <td>...</td>\n",
       "      <td>...</td>\n",
       "      <td>...</td>\n",
       "      <td>...</td>\n",
       "      <td>...</td>\n",
       "      <td>...</td>\n",
       "      <td>...</td>\n",
       "      <td>...</td>\n",
       "      <td>...</td>\n",
       "      <td>...</td>\n",
       "    </tr>\n",
       "    <tr>\n",
       "      <th>494958</th>\n",
       "      <td>276465</td>\n",
       "      <td>Blackberry Orange Scones</td>\n",
       "      <td>MsTeechur</td>\n",
       "      <td>2008-01-04</td>\n",
       "      <td>NaN</td>\n",
       "      <td>27</td>\n",
       "      <td>The orange zest makes for a flavorful, not ove...</td>\n",
       "      <td>Scones</td>\n",
       "      <td>{\"30-minutes-or-less\",\"time-to-make\",\"course\",...</td>\n",
       "      <td>{\"breakfast\",\"bread\"}</td>\n",
       "      <td>{\"Sift about 2 cups of flour onto a piece of w...</td>\n",
       "      <td>{\"unbleached flour\",\"baking soda\",\"butter\",\"or...</td>\n",
       "      <td>{\"2 1/2  cups    unbleached flour\",\"2   teaspo...</td>\n",
       "      <td>1 (83 g)</td>\n",
       "      <td>8</td>\n",
       "      <td>2</td>\n",
       "      <td>244.8</td>\n",
       "      <td>3.5</td>\n",
       "    </tr>\n",
       "    <tr>\n",
       "      <th>494959</th>\n",
       "      <td>257796</td>\n",
       "      <td>Slow Cooker Garlic Chicken With Rosemary</td>\n",
       "      <td>AZRoxy63</td>\n",
       "      <td>2007-10-08</td>\n",
       "      <td>NaN</td>\n",
       "      <td>440</td>\n",
       "      <td>Delicious and easy!</td>\n",
       "      <td>Chicken</td>\n",
       "      <td>{\"main-ingredient\",\"preparation\",\"occasion\",\"p...</td>\n",
       "      <td>{\"dinner\",\"chicken\"}</td>\n",
       "      <td>{\"Place rosemary springs; 1 lemon half; celery...</td>\n",
       "      <td>{\"roasting chickens\",\"lemons\",\"rosemary sprigs...</td>\n",
       "      <td>{\"1 (5   lb)    roasting chickens; rinsed and ...</td>\n",
       "      <td>1 (340 g)</td>\n",
       "      <td>6</td>\n",
       "      <td>1</td>\n",
       "      <td>566.2</td>\n",
       "      <td>4.0</td>\n",
       "    </tr>\n",
       "    <tr>\n",
       "      <th>494960</th>\n",
       "      <td>78003</td>\n",
       "      <td>Pot Roast with Port (Stove Top)</td>\n",
       "      <td>Rick B2</td>\n",
       "      <td>2003-12-05</td>\n",
       "      <td>NaN</td>\n",
       "      <td>115</td>\n",
       "      <td>This is a recipe from the Frugal Gourmet cooki...</td>\n",
       "      <td>Weeknight</td>\n",
       "      <td>{\"weeknight\",\"time-to-make\",\"course\",\"preparat...</td>\n",
       "      <td>{\"roast\",\"dinner\",\"low-sodium\",\"low-carb\"}</td>\n",
       "      <td>{\"In a large pan; heat oil and brown roast on ...</td>\n",
       "      <td>{\"boneless beef chuck roast\",\"olive oil\",\"tawn...</td>\n",
       "      <td>{\"2 -3   lbs    boneless beef chuck roast\",\"2 ...</td>\n",
       "      <td>1 (283 g)</td>\n",
       "      <td>4</td>\n",
       "      <td>5</td>\n",
       "      <td>828.2</td>\n",
       "      <td>5.0</td>\n",
       "    </tr>\n",
       "    <tr>\n",
       "      <th>494961</th>\n",
       "      <td>328810</td>\n",
       "      <td>Kapusta ( Cabbage and Kielbasa )</td>\n",
       "      <td>Nikki S</td>\n",
       "      <td>2008-10-04</td>\n",
       "      <td>NaN</td>\n",
       "      <td>2</td>\n",
       "      <td>Cabbage and sausage in tomato sauce</td>\n",
       "      <td>One Dish Meal</td>\n",
       "      <td>{\"time-to-make\",\"course\",\"preparation\",\"main-d...</td>\n",
       "      <td>{\"dinner\"}</td>\n",
       "      <td>{\"Saute bacon in large pan until browned.  Lea...</td>\n",
       "      <td>{\"cabbage\",\"condensed tomato soup\",\"kielbasa\",...</td>\n",
       "      <td>{\"8   cups    cabbage or 2   heads    cabbage;...</td>\n",
       "      <td>1 (564 g)</td>\n",
       "      <td>6</td>\n",
       "      <td>0</td>\n",
       "      <td>688.0</td>\n",
       "      <td>NaN</td>\n",
       "    </tr>\n",
       "    <tr>\n",
       "      <th>494962</th>\n",
       "      <td>9116</td>\n",
       "      <td>Yellow or Zucchini Squash Pie</td>\n",
       "      <td>southern chef in lo</td>\n",
       "      <td>2001-05-28</td>\n",
       "      <td>\"https://img.sndimg.com/food/image/upload/w_55...</td>\n",
       "      <td>40</td>\n",
       "      <td>This recipe was given to my mom from a lady wh...</td>\n",
       "      <td>Cheese</td>\n",
       "      <td>{\"60-minutes-or-less\",\"time-to-make\",\"course\",...</td>\n",
       "      <td>{\"southern\",\"pie\",\"dinner\",\"side\"}</td>\n",
       "      <td>{\"Melt butter in skillet. Add squash; onions; ...</td>\n",
       "      <td>{\"zucchini\",\"onion\",\"butter\",\"oregano\",\"basil\"...</td>\n",
       "      <td>{\"4   cups    zucchini (can mix the squash if ...</td>\n",
       "      <td>1 (160 g)</td>\n",
       "      <td>6</td>\n",
       "      <td>70</td>\n",
       "      <td>411.0</td>\n",
       "      <td>5.0</td>\n",
       "    </tr>\n",
       "  </tbody>\n",
       "</table>\n",
       "<p>494963 rows × 18 columns</p>\n",
       "</div>"
      ],
      "text/plain": [
       "            id                                      name          author_name  \\\n",
       "0        96313               Grilled Garlic Cheese Grits              Barb G.   \n",
       "1       232037     Simple Shrimp and Andouille Jambalaya                lisar   \n",
       "2        41090                black-and-white bean salad           spatchcock   \n",
       "3        60656                Crock Pot Italian Zucchini          Karen in KS   \n",
       "4       232047             Beef Stew With Dried Cherries                ktdid   \n",
       "...        ...                                       ...                  ...   \n",
       "494958  276465                  Blackberry Orange Scones            MsTeechur   \n",
       "494959  257796  Slow Cooker Garlic Chicken With Rosemary             AZRoxy63   \n",
       "494960   78003           Pot Roast with Port (Stove Top)              Rick B2   \n",
       "494961  328810          Kapusta ( Cabbage and Kielbasa )              Nikki S   \n",
       "494962    9116             Yellow or Zucchini Squash Pie  southern chef in lo   \n",
       "\n",
       "         submitted                                          image_url  \\\n",
       "0       2004-07-24  \"https://img.sndimg.com/food/image/upload/w_55...   \n",
       "1       2007-06-03                                                NaN   \n",
       "2       2002-09-24                                                NaN   \n",
       "3       2003-04-22                                                NaN   \n",
       "4       2007-06-03                                                NaN   \n",
       "...            ...                                                ...   \n",
       "494958  2008-01-04                                                NaN   \n",
       "494959  2007-10-08                                                NaN   \n",
       "494960  2003-12-05                                                NaN   \n",
       "494961  2008-10-04                                                NaN   \n",
       "494962  2001-05-28  \"https://img.sndimg.com/food/image/upload/w_55...   \n",
       "\n",
       "        minutes                                        description  \\\n",
       "0            65  We love grits, this is another good way to ser...   \n",
       "1            45  Simple, easy and very tasty for when you are i...   \n",
       "2             5                                                NaN   \n",
       "3           370  This is a good recipe for weight watchers. It ...   \n",
       "4           165  This is a fabulous stew that came from one of ...   \n",
       "...         ...                                                ...   \n",
       "494958       27  The orange zest makes for a flavorful, not ove...   \n",
       "494959      440                                Delicious and easy!   \n",
       "494960      115  This is a recipe from the Frugal Gourmet cooki...   \n",
       "494961        2                Cabbage and sausage in tomato sauce   \n",
       "494962       40  This recipe was given to my mom from a lady wh...   \n",
       "\n",
       "             category                                               tags  \\\n",
       "0              Grains  {\"time-to-make\",\"course\",\"main-ingredient\",\"pr...   \n",
       "1       One Dish Meal  {\"60-minutes-or-less\",\"time-to-make\",\"course\",...   \n",
       "2         Black Beans  {\"15-minutes-or-less\",\"time-to-make\",\"course\",...   \n",
       "3           Vegetable  {\"weeknight\",\"time-to-make\",\"course\",\"main-ing...   \n",
       "4                Stew  {\"time-to-make\",\"course\",\"main-ingredient\",\"pr...   \n",
       "...               ...                                                ...   \n",
       "494958         Scones  {\"30-minutes-or-less\",\"time-to-make\",\"course\",...   \n",
       "494959        Chicken  {\"main-ingredient\",\"preparation\",\"occasion\",\"p...   \n",
       "494960      Weeknight  {\"weeknight\",\"time-to-make\",\"course\",\"preparat...   \n",
       "494961  One Dish Meal  {\"time-to-make\",\"course\",\"preparation\",\"main-d...   \n",
       "494962         Cheese  {\"60-minutes-or-less\",\"time-to-make\",\"course\",...   \n",
       "\n",
       "                                             search_terms  \\\n",
       "0       {\"diabetic\",\"low-calorie\",\"vegetarian\",\"low-ca...   \n",
       "1                                     {\"dinner\",\"shrimp\"}   \n",
       "2          {\"vegetarian\",\"salad\",\"side\",\"dinner\",\"vegan\"}   \n",
       "3                         {\"side\",\"vegetarian\",\"italian\"}   \n",
       "4                                              {\"dinner\"}   \n",
       "...                                                   ...   \n",
       "494958                              {\"breakfast\",\"bread\"}   \n",
       "494959                               {\"dinner\",\"chicken\"}   \n",
       "494960         {\"roast\",\"dinner\",\"low-sodium\",\"low-carb\"}   \n",
       "494961                                         {\"dinner\"}   \n",
       "494962                 {\"southern\",\"pie\",\"dinner\",\"side\"}   \n",
       "\n",
       "                                                    steps  \\\n",
       "0       {\"I a sauce pan; bring water to a boil; slowly...   \n",
       "1       {\"In a food processor; pulse the onion; red pe...   \n",
       "2       {\"In a large bowl; combine beans; tomato; onio...   \n",
       "3       {\"Put all ingredients in the crock pot and coo...   \n",
       "4       {\"Preheat oven to 350°F.\",\"Cut beef into 1 inc...   \n",
       "...                                                   ...   \n",
       "494958  {\"Sift about 2 cups of flour onto a piece of w...   \n",
       "494959  {\"Place rosemary springs; 1 lemon half; celery...   \n",
       "494960  {\"In a large pan; heat oil and brown roast on ...   \n",
       "494961  {\"Saute bacon in large pan until browned.  Lea...   \n",
       "494962  {\"Melt butter in skillet. Add squash; onions; ...   \n",
       "\n",
       "                                              ingredients  \\\n",
       "0       {\"water\",\"grits\",\"salt\",\"cheddar cheese\",\"garl...   \n",
       "1       {\"onion\",\"red bell pepper\",\"garlic cloves\",\"la...   \n",
       "2       {\"white beans\",\"canned black beans\",\"tomatoes\"...   \n",
       "3       {\"zucchini\",\"yellow squash\",\"diced tomatoes\",\"...   \n",
       "4       {\"beef stew meat\",\"flour\",\"salt\",\"allspice\",\"c...   \n",
       "...                                                   ...   \n",
       "494958  {\"unbleached flour\",\"baking soda\",\"butter\",\"or...   \n",
       "494959  {\"roasting chickens\",\"lemons\",\"rosemary sprigs...   \n",
       "494960  {\"boneless beef chuck roast\",\"olive oil\",\"tawn...   \n",
       "494961  {\"cabbage\",\"condensed tomato soup\",\"kielbasa\",...   \n",
       "494962  {\"zucchini\",\"onion\",\"butter\",\"oregano\",\"basil\"...   \n",
       "\n",
       "                                      ingredients_raw_str serving_size  \\\n",
       "0       {\"4   cups    water\",\"1   cup   uncooked old f...    1 (155 g)   \n",
       "1       {\"1   medium    onion; chopped coarse \",\"1   m...    1 (366 g)   \n",
       "2       {\"1   cup   canned white beans; rinsed and dra...    1 (807 g)   \n",
       "3       {\"2       zucchini; sliced \",\"2   small    yel...    1 (244 g)   \n",
       "4       {\"3   lbs    beef stew meat\",\"3   tablespoons ...    1 (358 g)   \n",
       "...                                                   ...          ...   \n",
       "494958  {\"2 1/2  cups    unbleached flour\",\"2   teaspo...     1 (83 g)   \n",
       "494959  {\"1 (5   lb)    roasting chickens; rinsed and ...    1 (340 g)   \n",
       "494960  {\"2 -3   lbs    boneless beef chuck roast\",\"2 ...    1 (283 g)   \n",
       "494961  {\"8   cups    cabbage or 2   heads    cabbage;...    1 (564 g)   \n",
       "494962  {\"4   cups    zucchini (can mix the squash if ...    1 (160 g)   \n",
       "\n",
       "        servings  review_count  calories  rating  \n",
       "0              8             3     144.8     5.0  \n",
       "1              4             3     756.5     5.0  \n",
       "2              1             2     159.0     4.5  \n",
       "3              4             1      47.1     4.0  \n",
       "4              8             0     691.1     NaN  \n",
       "...          ...           ...       ...     ...  \n",
       "494958         8             2     244.8     3.5  \n",
       "494959         6             1     566.2     4.0  \n",
       "494960         4             5     828.2     5.0  \n",
       "494961         6             0     688.0     NaN  \n",
       "494962         6            70     411.0     5.0  \n",
       "\n",
       "[494963 rows x 18 columns]"
      ]
     },
     "execution_count": 10,
     "metadata": {},
     "output_type": "execute_result"
    }
   ],
   "source": [
    "df"
   ]
  },
  {
   "cell_type": "code",
   "execution_count": null,
   "id": "9f1dd51b",
   "metadata": {},
   "outputs": [],
   "source": []
  }
 ],
 "metadata": {
  "kernelspec": {
   "display_name": "Python 3 (ipykernel)",
   "language": "python",
   "name": "python3"
  },
  "language_info": {
   "codemirror_mode": {
    "name": "ipython",
    "version": 3
   },
   "file_extension": ".py",
   "mimetype": "text/x-python",
   "name": "python",
   "nbconvert_exporter": "python",
   "pygments_lexer": "ipython3",
   "version": "3.9.12"
  }
 },
 "nbformat": 4,
 "nbformat_minor": 5
}
