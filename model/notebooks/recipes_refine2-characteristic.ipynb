{
 "cells": [
  {
   "cell_type": "code",
   "execution_count": 2,
   "id": "2895807e",
   "metadata": {},
   "outputs": [],
   "source": [
    "import numpy as np\n",
    "import pandas as pd"
   ]
  },
  {
   "cell_type": "markdown",
   "id": "a286f5e5",
   "metadata": {},
   "source": [
    "# 1. Load datasets"
   ]
  },
  {
   "cell_type": "code",
   "execution_count": 2,
   "id": "fa680c29",
   "metadata": {},
   "outputs": [],
   "source": [
    "df = pd.read_pickle('datasets/refined/recipes_refined_merged.pkl')"
   ]
  },
  {
   "cell_type": "code",
   "execution_count": 3,
   "id": "3ce78cc6",
   "metadata": {},
   "outputs": [
    {
     "data": {
      "text/plain": [
       "['My friend gave me some trout a couple months ago and I used this recipe out of \"Louisiana Cookin\\'\" and it was divine!']"
      ]
     },
     "execution_count": 3,
     "metadata": {},
     "output_type": "execute_result"
    }
   ],
   "source": [
    "list(df[df[\"id\"] == 221185][\"description\"])"
   ]
  },
  {
   "cell_type": "code",
   "execution_count": 4,
   "id": "109e334c",
   "metadata": {},
   "outputs": [
    {
     "data": {
      "text/html": [
       "<div>\n",
       "<style scoped>\n",
       "    .dataframe tbody tr th:only-of-type {\n",
       "        vertical-align: middle;\n",
       "    }\n",
       "\n",
       "    .dataframe tbody tr th {\n",
       "        vertical-align: top;\n",
       "    }\n",
       "\n",
       "    .dataframe thead th {\n",
       "        text-align: right;\n",
       "    }\n",
       "</style>\n",
       "<table border=\"1\" class=\"dataframe\">\n",
       "  <thead>\n",
       "    <tr style=\"text-align: right;\">\n",
       "      <th></th>\n",
       "      <th>id</th>\n",
       "      <th>name</th>\n",
       "      <th>author_name</th>\n",
       "      <th>submitted</th>\n",
       "      <th>image_url</th>\n",
       "      <th>minutes</th>\n",
       "      <th>description</th>\n",
       "      <th>category</th>\n",
       "      <th>tags</th>\n",
       "      <th>search_terms</th>\n",
       "      <th>steps</th>\n",
       "      <th>ingredients</th>\n",
       "      <th>ingredients_raw_str</th>\n",
       "      <th>serving_size</th>\n",
       "      <th>servings</th>\n",
       "      <th>calories</th>\n",
       "      <th>rating</th>\n",
       "      <th>review_count</th>\n",
       "    </tr>\n",
       "  </thead>\n",
       "  <tbody>\n",
       "    <tr>\n",
       "      <th>6</th>\n",
       "      <td>232076</td>\n",
       "      <td>Retro Chicken &amp;amp; Chips Casserole</td>\n",
       "      <td>Kizzikate</td>\n",
       "      <td>2007-06-03</td>\n",
       "      <td>\"https://img.sndimg.com/food/image/upload/w_55...</td>\n",
       "      <td>25</td>\n",
       "      <td>From Cooking Light Magazine, 11/05. This is co...</td>\n",
       "      <td>One Dish Meal</td>\n",
       "      <td>['30-minutes-or-less', 'time-to-make', 'course...</td>\n",
       "      <td>['casserole', 'dinner', 'chicken']</td>\n",
       "      <td>['In large bowl, combine chicken, green onion,...</td>\n",
       "      <td>['chicken breasts', 'green onion', 'red bell p...</td>\n",
       "      <td>[\"4   cups   roasted chopped chicken breasts\",...</td>\n",
       "      <td>1 (85 g)</td>\n",
       "      <td>6</td>\n",
       "      <td>515.5</td>\n",
       "      <td>4.5</td>\n",
       "      <td>4</td>\n",
       "    </tr>\n",
       "    <tr>\n",
       "      <th>25</th>\n",
       "      <td>232105</td>\n",
       "      <td>Simple Garlic &amp;amp; Pepper Rack of Lamb</td>\n",
       "      <td>Jen T</td>\n",
       "      <td>2007-06-04</td>\n",
       "      <td>\"https://img.sndimg.com/food/image/upload/w_55...</td>\n",
       "      <td>35</td>\n",
       "      <td>This is an ideal way of cooking racks of lamb ...</td>\n",
       "      <td>Lamb/Sheep</td>\n",
       "      <td>['60-minutes-or-less', 'time-to-make', 'course...</td>\n",
       "      <td>['dinner']</td>\n",
       "      <td>[\"Preheat oven to 350'F.\", 'Heat oil in pan an...</td>\n",
       "      <td>['racks of lamb', 'oil', 'garlic', 'peppercorn...</td>\n",
       "      <td>[\"2       racks of lamb (frenched \\u0026 fatty...</td>\n",
       "      <td>1 (7 g)</td>\n",
       "      <td>2</td>\n",
       "      <td>72.6</td>\n",
       "      <td>5.0</td>\n",
       "      <td>3</td>\n",
       "    </tr>\n",
       "    <tr>\n",
       "      <th>39</th>\n",
       "      <td>127155</td>\n",
       "      <td>Crab &amp;amp; Fresh Basil Stuffed Mushrooms</td>\n",
       "      <td>NcMysteryShopper</td>\n",
       "      <td>2005-06-22</td>\n",
       "      <td>\"https://img.sndimg.com/food/image/upload/w_55...</td>\n",
       "      <td>35</td>\n",
       "      <td>A wonderful tasting and attractive hors d’oeuv...</td>\n",
       "      <td>Crab</td>\n",
       "      <td>['60-minutes-or-less', 'time-to-make', 'course...</td>\n",
       "      <td>['appetizer', 'low-calorie', 'dinner', 'low-ca...</td>\n",
       "      <td>['Combine cheese, breadcrumbs, salt, green oni...</td>\n",
       "      <td>['monterey jack cheese', 'plain breadcrumbs', ...</td>\n",
       "      <td>[\"3   cups    monterey jack cheese, shredded  ...</td>\n",
       "      <td>1 (185 g)</td>\n",
       "      <td>8</td>\n",
       "      <td>272.2</td>\n",
       "      <td>5.0</td>\n",
       "      <td>7</td>\n",
       "    </tr>\n",
       "    <tr>\n",
       "      <th>49</th>\n",
       "      <td>204805</td>\n",
       "      <td>Spicy Hot &amp;amp; Sour Garlic Saute'</td>\n",
       "      <td>Sister Earth</td>\n",
       "      <td>2007-01-11</td>\n",
       "      <td>NaN</td>\n",
       "      <td>40</td>\n",
       "      <td>This is a fun &amp; easy way to get an exotic spic...</td>\n",
       "      <td>Curries</td>\n",
       "      <td>['curries', '60-minutes-or-less', 'time-to-mak...</td>\n",
       "      <td>['dinner']</td>\n",
       "      <td>[\"Have the meat and/or veggies that you are go...</td>\n",
       "      <td>['meat', 'garlic cloves', 'fresh gingerroot', ...</td>\n",
       "      <td>[\"14 -18   ounces   of stir fry meat (or a com...</td>\n",
       "      <td>1 (40 g)</td>\n",
       "      <td>4</td>\n",
       "      <td>147.1</td>\n",
       "      <td>NaN</td>\n",
       "      <td>0</td>\n",
       "    </tr>\n",
       "    <tr>\n",
       "      <th>110</th>\n",
       "      <td>241335</td>\n",
       "      <td>Chicken Thighs With Lemon &amp;amp; Garlic</td>\n",
       "      <td>Boonyas mom</td>\n",
       "      <td>2007-07-19</td>\n",
       "      <td>\"https://img.sndimg.com/food/image/upload/w_55...</td>\n",
       "      <td>1</td>\n",
       "      <td>This is a Mediterranean/Greek recipe. It's ver...</td>\n",
       "      <td>Chicken Thigh &amp; Leg</td>\n",
       "      <td>['60-minutes-or-less', 'time-to-make', 'course...</td>\n",
       "      <td>['low-sodium', 'greek', 'low-carb', 'dinner', ...</td>\n",
       "      <td>['Preheat oven to 350°.', 'Bring stock, garlic...</td>\n",
       "      <td>['chicken stock', 'garlic cloves', 'butter', '...</td>\n",
       "      <td>[\"2 1/2  cups    chicken stock\",\"20       garl...</td>\n",
       "      <td>1 (429 g)</td>\n",
       "      <td>4</td>\n",
       "      <td>545.2</td>\n",
       "      <td>4.0</td>\n",
       "      <td>1</td>\n",
       "    </tr>\n",
       "    <tr>\n",
       "      <th>...</th>\n",
       "      <td>...</td>\n",
       "      <td>...</td>\n",
       "      <td>...</td>\n",
       "      <td>...</td>\n",
       "      <td>...</td>\n",
       "      <td>...</td>\n",
       "      <td>...</td>\n",
       "      <td>...</td>\n",
       "      <td>...</td>\n",
       "      <td>...</td>\n",
       "      <td>...</td>\n",
       "      <td>...</td>\n",
       "      <td>...</td>\n",
       "      <td>...</td>\n",
       "      <td>...</td>\n",
       "      <td>...</td>\n",
       "      <td>...</td>\n",
       "      <td>...</td>\n",
       "    </tr>\n",
       "    <tr>\n",
       "      <th>494691</th>\n",
       "      <td>43025</td>\n",
       "      <td>Asparagus &amp;amp; Cheese Stuffed Turkey or Chick...</td>\n",
       "      <td>spatchcock</td>\n",
       "      <td>2002-10-14</td>\n",
       "      <td>NaN</td>\n",
       "      <td>80</td>\n",
       "      <td>This is a great dish for company.</td>\n",
       "      <td>Chicken</td>\n",
       "      <td>['weeknight', 'time-to-make', 'course', 'main-...</td>\n",
       "      <td>['dinner', 'chicken']</td>\n",
       "      <td>['Cut cheese into approximately 1/2\" square cu...</td>\n",
       "      <td>['skinless boneless turkey breasts', 'swiss ch...</td>\n",
       "      <td>[\"2 -3   lbs    skinless boneless turkey breas...</td>\n",
       "      <td>1 (140 g)</td>\n",
       "      <td>8</td>\n",
       "      <td>204.4</td>\n",
       "      <td>NaN</td>\n",
       "      <td>0</td>\n",
       "    </tr>\n",
       "    <tr>\n",
       "      <th>494853</th>\n",
       "      <td>207778</td>\n",
       "      <td>Wine  &amp;amp; Blue Cheese Hamburgers (Oamc)</td>\n",
       "      <td>Oolala</td>\n",
       "      <td>2007-01-26</td>\n",
       "      <td>NaN</td>\n",
       "      <td>20</td>\n",
       "      <td>Called Different Hamburgers by Gloria Diggs wh...</td>\n",
       "      <td>Lunch/Snacks</td>\n",
       "      <td>['30-minutes-or-less', 'time-to-make', 'course...</td>\n",
       "      <td>['dinner', 'lunch']</td>\n",
       "      <td>['Combine all ingredients except the beef, in ...</td>\n",
       "      <td>['ground beef', 'salt', 'pepper', 'blue cheese...</td>\n",
       "      <td>[\"1   lb    ground beef\",\"1/2  teaspoon    sal...</td>\n",
       "      <td>1 (115 g)</td>\n",
       "      <td>4</td>\n",
       "      <td>386.3</td>\n",
       "      <td>3.0</td>\n",
       "      <td>2</td>\n",
       "    </tr>\n",
       "    <tr>\n",
       "      <th>494859</th>\n",
       "      <td>141156</td>\n",
       "      <td>Light &amp;amp; Creamy Layered Lemon Cheesecake</td>\n",
       "      <td>hannahactually</td>\n",
       "      <td>2005-10-12</td>\n",
       "      <td>\"https://img.sndimg.com/food/image/upload/w_55...</td>\n",
       "      <td>95</td>\n",
       "      <td>I am not a big cheesecake fan, but this is abs...</td>\n",
       "      <td>Cheesecake</td>\n",
       "      <td>['time-to-make', 'course', 'preparation', 'occ...</td>\n",
       "      <td>['dessert', 'vegetarian']</td>\n",
       "      <td>['To make bottom layer:.', 'Mix flour, margari...</td>\n",
       "      <td>['flour', 'margarine', 'nuts', 'cream cheese',...</td>\n",
       "      <td>[\"\",\"1   cup    flour\",\"1/2  cup    margarine\"...</td>\n",
       "      <td>1 (2061 g)</td>\n",
       "      <td>1</td>\n",
       "      <td>5575.2</td>\n",
       "      <td>5.0</td>\n",
       "      <td>1</td>\n",
       "    </tr>\n",
       "    <tr>\n",
       "      <th>494875</th>\n",
       "      <td>499832</td>\n",
       "      <td>Peanut Butter &amp;amp; Jelly Waffles</td>\n",
       "      <td>ElizabethKnicely</td>\n",
       "      <td>2013-05-04</td>\n",
       "      <td>NaN</td>\n",
       "      <td>1</td>\n",
       "      <td>Don't count out the grownups when it comes to ...</td>\n",
       "      <td>Breakfast</td>\n",
       "      <td>['weeknight', '60-minutes-or-less', 'time-to-m...</td>\n",
       "      <td>['breakfast']</td>\n",
       "      <td>['In a large bowl, combine flour, sugar, bakin...</td>\n",
       "      <td>['all-purpose flour', 'sugar', 'baking powder'...</td>\n",
       "      <td>[\"1 1/4  cups    all-purpose flour\",\"3   table...</td>\n",
       "      <td>1 (153 g)</td>\n",
       "      <td>5</td>\n",
       "      <td>374.5</td>\n",
       "      <td>NaN</td>\n",
       "      <td>0</td>\n",
       "    </tr>\n",
       "    <tr>\n",
       "      <th>494912</th>\n",
       "      <td>293807</td>\n",
       "      <td>Lamb Chops With Spring Onion &amp;amp; Mustard Mash</td>\n",
       "      <td>Um Safia</td>\n",
       "      <td>2008-03-24</td>\n",
       "      <td>NaN</td>\n",
       "      <td>45</td>\n",
       "      <td>This is a quick &amp; tasty recipe for lamb chops....</td>\n",
       "      <td>Lamb/Sheep</td>\n",
       "      <td>['60-minutes-or-less', 'time-to-make', 'course...</td>\n",
       "      <td>['lamb', 'dinner', 'english']</td>\n",
       "      <td>['Cook th epotatoes in simmering, lightly salt...</td>\n",
       "      <td>['potatoes', 'savoy cabbage', 'butter', 'sprin...</td>\n",
       "      <td>[\"800   g   maris piper potatoes or 800   g   ...</td>\n",
       "      <td>1 (435 g)</td>\n",
       "      <td>4</td>\n",
       "      <td>808.0</td>\n",
       "      <td>NaN</td>\n",
       "      <td>0</td>\n",
       "    </tr>\n",
       "  </tbody>\n",
       "</table>\n",
       "<p>13026 rows × 18 columns</p>\n",
       "</div>"
      ],
      "text/plain": [
       "            id                                               name  \\\n",
       "6       232076                Retro Chicken &amp; Chips Casserole   \n",
       "25      232105            Simple Garlic &amp; Pepper Rack of Lamb   \n",
       "39      127155           Crab &amp; Fresh Basil Stuffed Mushrooms   \n",
       "49      204805                 Spicy Hot &amp; Sour Garlic Saute'   \n",
       "110     241335             Chicken Thighs With Lemon &amp; Garlic   \n",
       "...        ...                                                ...   \n",
       "494691   43025  Asparagus &amp; Cheese Stuffed Turkey or Chick...   \n",
       "494853  207778          Wine  &amp; Blue Cheese Hamburgers (Oamc)   \n",
       "494859  141156        Light &amp; Creamy Layered Lemon Cheesecake   \n",
       "494875  499832                  Peanut Butter &amp; Jelly Waffles   \n",
       "494912  293807    Lamb Chops With Spring Onion &amp; Mustard Mash   \n",
       "\n",
       "             author_name   submitted  \\\n",
       "6              Kizzikate  2007-06-03   \n",
       "25                 Jen T  2007-06-04   \n",
       "39      NcMysteryShopper  2005-06-22   \n",
       "49          Sister Earth  2007-01-11   \n",
       "110          Boonyas mom  2007-07-19   \n",
       "...                  ...         ...   \n",
       "494691        spatchcock  2002-10-14   \n",
       "494853            Oolala  2007-01-26   \n",
       "494859    hannahactually  2005-10-12   \n",
       "494875  ElizabethKnicely  2013-05-04   \n",
       "494912          Um Safia  2008-03-24   \n",
       "\n",
       "                                                image_url  minutes  \\\n",
       "6       \"https://img.sndimg.com/food/image/upload/w_55...       25   \n",
       "25      \"https://img.sndimg.com/food/image/upload/w_55...       35   \n",
       "39      \"https://img.sndimg.com/food/image/upload/w_55...       35   \n",
       "49                                                    NaN       40   \n",
       "110     \"https://img.sndimg.com/food/image/upload/w_55...        1   \n",
       "...                                                   ...      ...   \n",
       "494691                                                NaN       80   \n",
       "494853                                                NaN       20   \n",
       "494859  \"https://img.sndimg.com/food/image/upload/w_55...       95   \n",
       "494875                                                NaN        1   \n",
       "494912                                                NaN       45   \n",
       "\n",
       "                                              description  \\\n",
       "6       From Cooking Light Magazine, 11/05. This is co...   \n",
       "25      This is an ideal way of cooking racks of lamb ...   \n",
       "39      A wonderful tasting and attractive hors d’oeuv...   \n",
       "49      This is a fun & easy way to get an exotic spic...   \n",
       "110     This is a Mediterranean/Greek recipe. It's ver...   \n",
       "...                                                   ...   \n",
       "494691                  This is a great dish for company.   \n",
       "494853  Called Different Hamburgers by Gloria Diggs wh...   \n",
       "494859  I am not a big cheesecake fan, but this is abs...   \n",
       "494875  Don't count out the grownups when it comes to ...   \n",
       "494912  This is a quick & tasty recipe for lamb chops....   \n",
       "\n",
       "                   category  \\\n",
       "6             One Dish Meal   \n",
       "25               Lamb/Sheep   \n",
       "39                     Crab   \n",
       "49                  Curries   \n",
       "110     Chicken Thigh & Leg   \n",
       "...                     ...   \n",
       "494691              Chicken   \n",
       "494853         Lunch/Snacks   \n",
       "494859           Cheesecake   \n",
       "494875            Breakfast   \n",
       "494912           Lamb/Sheep   \n",
       "\n",
       "                                                     tags  \\\n",
       "6       ['30-minutes-or-less', 'time-to-make', 'course...   \n",
       "25      ['60-minutes-or-less', 'time-to-make', 'course...   \n",
       "39      ['60-minutes-or-less', 'time-to-make', 'course...   \n",
       "49      ['curries', '60-minutes-or-less', 'time-to-mak...   \n",
       "110     ['60-minutes-or-less', 'time-to-make', 'course...   \n",
       "...                                                   ...   \n",
       "494691  ['weeknight', 'time-to-make', 'course', 'main-...   \n",
       "494853  ['30-minutes-or-less', 'time-to-make', 'course...   \n",
       "494859  ['time-to-make', 'course', 'preparation', 'occ...   \n",
       "494875  ['weeknight', '60-minutes-or-less', 'time-to-m...   \n",
       "494912  ['60-minutes-or-less', 'time-to-make', 'course...   \n",
       "\n",
       "                                             search_terms  \\\n",
       "6                      ['casserole', 'dinner', 'chicken']   \n",
       "25                                             ['dinner']   \n",
       "39      ['appetizer', 'low-calorie', 'dinner', 'low-ca...   \n",
       "49                                             ['dinner']   \n",
       "110     ['low-sodium', 'greek', 'low-carb', 'dinner', ...   \n",
       "...                                                   ...   \n",
       "494691                              ['dinner', 'chicken']   \n",
       "494853                                ['dinner', 'lunch']   \n",
       "494859                          ['dessert', 'vegetarian']   \n",
       "494875                                      ['breakfast']   \n",
       "494912                      ['lamb', 'dinner', 'english']   \n",
       "\n",
       "                                                    steps  \\\n",
       "6       ['In large bowl, combine chicken, green onion,...   \n",
       "25      [\"Preheat oven to 350'F.\", 'Heat oil in pan an...   \n",
       "39      ['Combine cheese, breadcrumbs, salt, green oni...   \n",
       "49      [\"Have the meat and/or veggies that you are go...   \n",
       "110     ['Preheat oven to 350°.', 'Bring stock, garlic...   \n",
       "...                                                   ...   \n",
       "494691  ['Cut cheese into approximately 1/2\" square cu...   \n",
       "494853  ['Combine all ingredients except the beef, in ...   \n",
       "494859  ['To make bottom layer:.', 'Mix flour, margari...   \n",
       "494875  ['In a large bowl, combine flour, sugar, bakin...   \n",
       "494912  ['Cook th epotatoes in simmering, lightly salt...   \n",
       "\n",
       "                                              ingredients  \\\n",
       "6       ['chicken breasts', 'green onion', 'red bell p...   \n",
       "25      ['racks of lamb', 'oil', 'garlic', 'peppercorn...   \n",
       "39      ['monterey jack cheese', 'plain breadcrumbs', ...   \n",
       "49      ['meat', 'garlic cloves', 'fresh gingerroot', ...   \n",
       "110     ['chicken stock', 'garlic cloves', 'butter', '...   \n",
       "...                                                   ...   \n",
       "494691  ['skinless boneless turkey breasts', 'swiss ch...   \n",
       "494853  ['ground beef', 'salt', 'pepper', 'blue cheese...   \n",
       "494859  ['flour', 'margarine', 'nuts', 'cream cheese',...   \n",
       "494875  ['all-purpose flour', 'sugar', 'baking powder'...   \n",
       "494912  ['potatoes', 'savoy cabbage', 'butter', 'sprin...   \n",
       "\n",
       "                                      ingredients_raw_str serving_size  \\\n",
       "6       [\"4   cups   roasted chopped chicken breasts\",...     1 (85 g)   \n",
       "25      [\"2       racks of lamb (frenched \\u0026 fatty...      1 (7 g)   \n",
       "39      [\"3   cups    monterey jack cheese, shredded  ...    1 (185 g)   \n",
       "49      [\"14 -18   ounces   of stir fry meat (or a com...     1 (40 g)   \n",
       "110     [\"2 1/2  cups    chicken stock\",\"20       garl...    1 (429 g)   \n",
       "...                                                   ...          ...   \n",
       "494691  [\"2 -3   lbs    skinless boneless turkey breas...    1 (140 g)   \n",
       "494853  [\"1   lb    ground beef\",\"1/2  teaspoon    sal...    1 (115 g)   \n",
       "494859  [\"\",\"1   cup    flour\",\"1/2  cup    margarine\"...   1 (2061 g)   \n",
       "494875  [\"1 1/4  cups    all-purpose flour\",\"3   table...    1 (153 g)   \n",
       "494912  [\"800   g   maris piper potatoes or 800   g   ...    1 (435 g)   \n",
       "\n",
       "        servings  calories  rating  review_count  \n",
       "6              6     515.5     4.5             4  \n",
       "25             2      72.6     5.0             3  \n",
       "39             8     272.2     5.0             7  \n",
       "49             4     147.1     NaN             0  \n",
       "110            4     545.2     4.0             1  \n",
       "...          ...       ...     ...           ...  \n",
       "494691         8     204.4     NaN             0  \n",
       "494853         4     386.3     3.0             2  \n",
       "494859         1    5575.2     5.0             1  \n",
       "494875         5     374.5     NaN             0  \n",
       "494912         4     808.0     NaN             0  \n",
       "\n",
       "[13026 rows x 18 columns]"
      ]
     },
     "execution_count": 4,
     "metadata": {},
     "output_type": "execute_result"
    }
   ],
   "source": [
    "df[df[\"name\"].str.contains(\"&amp;\")]"
   ]
  },
  {
   "cell_type": "markdown",
   "id": "7e93963f",
   "metadata": {},
   "source": [
    "---"
   ]
  },
  {
   "cell_type": "markdown",
   "id": "9e1a78a5",
   "metadata": {},
   "source": [
    "# 2. Analysing"
   ]
  },
  {
   "cell_type": "code",
   "execution_count": 5,
   "id": "b54c7bbf",
   "metadata": {},
   "outputs": [
    {
     "data": {
      "text/plain": [
       "['\"https://img.sndimg.com/food/image/upload/w_555,h_416,c_fit,fl_progressive,q_95/v1/img/recipes/10/77/86/mr5ViaW4TBmhRU3uCtLB_0S9A8585.jpg\"']"
      ]
     },
     "execution_count": 5,
     "metadata": {},
     "output_type": "execute_result"
    }
   ],
   "source": [
    "list(df[df[\"id\"] == 107786][\"image_url\"])"
   ]
  },
  {
   "cell_type": "markdown",
   "id": "097f617b",
   "metadata": {},
   "source": [
    "### Counting tag occurrence"
   ]
  },
  {
   "cell_type": "raw",
   "id": "be18b1ea",
   "metadata": {},
   "source": [
    "import ast\n",
    "from collections import Counter\n",
    "from itertools import chain\n",
    "\n",
    "ls = list()\n",
    "df_ls = df.loc[:1,[\"tags\"]]\n",
    "for item in df_ls[\"tags\"]:\n",
    "    ls.append(ast.literal_eval(item))\n",
    "\n",
    "listed = df.tags.apply(ast.literal_eval)\n",
    "\n",
    "s = pd.Series(Counter(chain.from_iterable(listed)))\n",
    "\n",
    "s.sort_values(ascending=False)"
   ]
  },
  {
   "cell_type": "markdown",
   "id": "d044b232",
   "metadata": {},
   "source": [
    "---"
   ]
  },
  {
   "cell_type": "markdown",
   "id": "b104efd0",
   "metadata": {},
   "source": [
    "# 3. Charactersitic update"
   ]
  },
  {
   "cell_type": "markdown",
   "id": "6a87cfb6",
   "metadata": {},
   "source": [
    "### \"&;amp;\" to \"&\""
   ]
  },
  {
   "cell_type": "code",
   "execution_count": 6,
   "id": "840bf1a1",
   "metadata": {},
   "outputs": [],
   "source": [
    "df[\"name\"] = df[\"name\"].str.replace(\"&amp;\", \"&\")"
   ]
  },
  {
   "cell_type": "code",
   "execution_count": 5,
   "id": "eeaa57c3",
   "metadata": {},
   "outputs": [],
   "source": [
    "target_columns = [\"tags\", \"search_terms\", \"steps\", \"ingredients\", \"ingredients_raw_str\"]"
   ]
  },
  {
   "cell_type": "markdown",
   "id": "a3a105a1",
   "metadata": {},
   "source": [
    "### Remove qoutes in desc and name"
   ]
  },
  {
   "cell_type": "code",
   "execution_count": 8,
   "id": "ece69fde",
   "metadata": {},
   "outputs": [],
   "source": [
    "for col in [\"name\", \"description\", \"steps\"]:\n",
    "    df[col] = df[col].str.replace('\"',\"\").str.replace(\"'\",\"\")"
   ]
  },
  {
   "cell_type": "code",
   "execution_count": 9,
   "id": "73127b10",
   "metadata": {
    "scrolled": false
   },
   "outputs": [
    {
     "data": {
      "text/plain": [
       "['{Mix graham cracker crumbs; sugar and margarine in a 13 x 9 cake pan.; Press evenly onto bottom of pan.; Arrange banana slices on crust.; Beat cream cheese in a large bowl with a wire whisk or electric mixer until smooth.; Gradually beat in milk.; Add pudding mixes.; Beat until well blended.; Spread evenly over banana slices.; Spoon pineapple evenly over pudding mixture.; Spread Whipped topping over pineapple.; Refrigerate for 3 hours before serving.}']"
      ]
     },
     "execution_count": 9,
     "metadata": {},
     "output_type": "execute_result"
    }
   ],
   "source": [
    "list(df[df[\"id\"] == 20812][\"steps\"])"
   ]
  },
  {
   "cell_type": "markdown",
   "id": "800e95fb",
   "metadata": {},
   "source": [
    "### Change quote marks for Postgres "
   ]
  },
  {
   "cell_type": "code",
   "execution_count": 10,
   "id": "947b3f40",
   "metadata": {},
   "outputs": [],
   "source": [
    "for col in [\"tags\", \"search_terms\", \"steps\", \"ingredients\"]:\n",
    "    df[col] = df[col].str.replace(\"'\",'\"').str.replace('\", \"','\",\"')"
   ]
  },
  {
   "cell_type": "markdown",
   "id": "62bb66b2",
   "metadata": {},
   "source": [
    "### Separator malfunction fix"
   ]
  },
  {
   "cell_type": "code",
   "execution_count": 11,
   "id": "6fe673d5",
   "metadata": {},
   "outputs": [
    {
     "name": "stderr",
     "output_type": "stream",
     "text": [
      "/tmp/ipykernel_66/221723067.py:2: FutureWarning: The default value of regex will change from True to False in a future version. In addition, single character regular expressions will *not* be treated as literal strings when regex=True.\n",
      "  df[col] = df[col].str.replace('\",\"','|').str.replace(',',';').str.replace('|','\",\"')#.str.replace('\"\",','').str.replace(',\"\"','')\n"
     ]
    }
   ],
   "source": [
    "for col in [\"steps\", \"ingredients_raw_str\"]:\n",
    "    df[col] = df[col].str.replace('\",\"','|').str.replace(',',';').str.replace('|','\",\"')#.str.replace('\"\",','').str.replace(',\"\"','')"
   ]
  },
  {
   "cell_type": "code",
   "execution_count": 12,
   "id": "c59381d6",
   "metadata": {},
   "outputs": [],
   "source": [
    "for col in target_columns:\n",
    "    df[col] = df[col].str.replace('\"\",','').str.replace(',\"\"','')"
   ]
  },
  {
   "cell_type": "raw",
   "id": "b6cd398c",
   "metadata": {},
   "source": [
    "df[df['steps'].str.contains(\",\")]"
   ]
  },
  {
   "cell_type": "markdown",
   "id": "a20c9c08",
   "metadata": {},
   "source": [
    "### Section save "
   ]
  },
  {
   "cell_type": "code",
   "execution_count": 13,
   "id": "2bda6930",
   "metadata": {},
   "outputs": [],
   "source": [
    "df.to_pickle('datasets/refined/recipes_temp1.pkl')"
   ]
  },
  {
   "cell_type": "code",
   "execution_count": 3,
   "id": "f0c13ac1",
   "metadata": {},
   "outputs": [],
   "source": [
    "df = pd.read_pickle('datasets/refined/recipes_temp1.pkl')"
   ]
  },
  {
   "cell_type": "markdown",
   "id": "bcab9c53",
   "metadata": {},
   "source": [
    "### Inline bounders replacement"
   ]
  },
  {
   "cell_type": "raw",
   "id": "ecfdfe98",
   "metadata": {},
   "source": [
    "for col in target_columns:\n",
    "    df[col] = df[col].str[1:-1].str.replace(\"{\",\"(\").str.replace(\"}\",\")\")"
   ]
  },
  {
   "cell_type": "markdown",
   "id": "c48b56d7",
   "metadata": {},
   "source": [
    "### Change brackets "
   ]
  },
  {
   "cell_type": "code",
   "execution_count": 6,
   "id": "f4c97302",
   "metadata": {
    "scrolled": true
   },
   "outputs": [
    {
     "name": "stderr",
     "output_type": "stream",
     "text": [
      "/tmp/ipykernel_86/2558694278.py:2: FutureWarning: The default value of regex will change from True to False in a future version. In addition, single character regular expressions will *not* be treated as literal strings when regex=True.\n",
      "  df[col] = \"{\" + df[col].str[1:-1].str.replace(\"{\",\"(\").str.replace(\"}\",\")\") + \"}\"\n"
     ]
    }
   ],
   "source": [
    "for col in target_columns:\n",
    "    df[col] = \"{\" + df[col].str[1:-1].str.replace(\"{\",\"(\").str.replace(\"}\",\")\") + \"}\""
   ]
  },
  {
   "cell_type": "markdown",
   "id": "f8075049",
   "metadata": {},
   "source": [
    "### Apostrophe fix\n",
    "(Only if needed)"
   ]
  },
  {
   "cell_type": "raw",
   "id": "acf8fe6a",
   "metadata": {},
   "source": [
    "df_merged['name'] = df_merged['name'].str.replace(\" s \",\"'s \")\n",
    "df_merged['name'] = df_merged['name'].str.title()\n",
    "df_merged['name'] = df_merged['name'].str.replace(\"'S \",\"'s \")"
   ]
  },
  {
   "cell_type": "markdown",
   "id": "1e419117",
   "metadata": {},
   "source": [
    "# 4. Save"
   ]
  },
  {
   "cell_type": "code",
   "execution_count": 7,
   "id": "728d37f5",
   "metadata": {},
   "outputs": [],
   "source": [
    "df.to_csv('datasets/refined/refined_merged_char_recipes.csv', sep=';', index=False)"
   ]
  },
  {
   "cell_type": "code",
   "execution_count": 8,
   "id": "001acf87",
   "metadata": {},
   "outputs": [],
   "source": [
    "df.to_pickle('datasets/refined/refined_merged_char_recipes.pkl')"
   ]
  },
  {
   "cell_type": "code",
   "execution_count": null,
   "id": "51132e3d",
   "metadata": {},
   "outputs": [],
   "source": []
  }
 ],
 "metadata": {
  "kernelspec": {
   "display_name": "Python 3 (ipykernel)",
   "language": "python",
   "name": "python3"
  },
  "language_info": {
   "codemirror_mode": {
    "name": "ipython",
    "version": 3
   },
   "file_extension": ".py",
   "mimetype": "text/x-python",
   "name": "python",
   "nbconvert_exporter": "python",
   "pygments_lexer": "ipython3",
   "version": "3.9.13"
  }
 },
 "nbformat": 4,
 "nbformat_minor": 5
}
