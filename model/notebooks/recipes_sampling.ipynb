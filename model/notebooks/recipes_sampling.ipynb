{
 "cells": [
  {
   "cell_type": "code",
   "execution_count": 1,
   "metadata": {
    "_cell_guid": "b1076dfc-b9ad-4769-8c92-a6c4dae69d19",
    "_uuid": "8f2839f25d086af736a60e9eeb907d3b93b6e0e5"
   },
   "outputs": [],
   "source": [
    "import numpy as np\n",
    "import pandas as pd"
   ]
  },
  {
   "cell_type": "code",
   "execution_count": 2,
   "metadata": {
    "_cell_guid": "79c7e3d0-c299-4dcb-8224-4455121ee9b0",
    "_uuid": "d629ff2d2480ee46fbb7e2d37f6b5fab8052498a",
    "scrolled": true
   },
   "outputs": [
    {
     "name": "stdout",
     "output_type": "stream",
     "text": [
      "<class 'pandas.core.frame.DataFrame'>\n",
      "Int64Index: 494963 entries, 0 to 494962\n",
      "Data columns (total 18 columns):\n",
      " #   Column               Non-Null Count   Dtype  \n",
      "---  ------               --------------   -----  \n",
      " 0   id                   494963 non-null  int64  \n",
      " 1   name                 494963 non-null  object \n",
      " 2   author_name          494949 non-null  object \n",
      " 3   submitted            494949 non-null  object \n",
      " 4   image_url            157313 non-null  object \n",
      " 5   minutes              494963 non-null  int64  \n",
      " 6   description          485365 non-null  object \n",
      " 7   category             494294 non-null  object \n",
      " 8   tags                 494963 non-null  object \n",
      " 9   search_terms         494963 non-null  object \n",
      " 10  steps                494963 non-null  object \n",
      " 11  ingredients          494963 non-null  object \n",
      " 12  ingredients_raw_str  494963 non-null  object \n",
      " 13  serving_size         494963 non-null  object \n",
      " 14  servings             494963 non-null  int64  \n",
      " 15  review_count         494963 non-null  int64  \n",
      " 16  calories             494949 non-null  float64\n",
      " 17  rating               258307 non-null  float64\n",
      "dtypes: float64(2), int64(4), object(12)\n",
      "memory usage: 71.7+ MB\n"
     ]
    }
   ],
   "source": [
    "df = pd.read_pickle('datasets/refined/recipes_refined_merged_char.pkl')\n",
    "df.info()"
   ]
  },
  {
   "cell_type": "code",
   "execution_count": 4,
   "metadata": {},
   "outputs": [
    {
     "name": "stdout",
     "output_type": "stream",
     "text": [
      "<class 'pandas.core.frame.DataFrame'>\n",
      "RangeIndex: 24748 entries, 0 to 24747\n",
      "Data columns (total 18 columns):\n",
      " #   Column               Non-Null Count  Dtype  \n",
      "---  ------               --------------  -----  \n",
      " 0   id                   24748 non-null  int64  \n",
      " 1   name                 24748 non-null  object \n",
      " 2   author_name          24748 non-null  object \n",
      " 3   submitted            24748 non-null  object \n",
      " 4   image_url            7863 non-null   object \n",
      " 5   minutes              24748 non-null  int64  \n",
      " 6   description          24262 non-null  object \n",
      " 7   category             24717 non-null  object \n",
      " 8   tags                 24748 non-null  object \n",
      " 9   search_terms         24748 non-null  object \n",
      " 10  steps                24748 non-null  object \n",
      " 11  ingredients          24748 non-null  object \n",
      " 12  ingredients_raw_str  24748 non-null  object \n",
      " 13  serving_size         24748 non-null  object \n",
      " 14  servings             24748 non-null  int64  \n",
      " 15  review_count         24748 non-null  int64  \n",
      " 16  calories             24748 non-null  float64\n",
      " 17  rating               12912 non-null  float64\n",
      "dtypes: float64(2), int64(4), object(12)\n",
      "memory usage: 3.4+ MB\n"
     ]
    }
   ],
   "source": [
    "df_sample = df.sample(frac=0.05).reset_index(drop=True)\n",
    "df_sample.info()"
   ]
  },
  {
   "cell_type": "code",
   "execution_count": 5,
   "metadata": {},
   "outputs": [],
   "source": [
    "df_sample.to_csv('datasets/sample/recipes_sample_main.csv', sep=';', index=False)"
   ]
  },
  {
   "cell_type": "raw",
   "metadata": {},
   "source": [
    "df_sample.to_excel('datasets/sample/recipes_sample_main.xlsx', index=False)"
   ]
  },
  {
   "cell_type": "code",
   "execution_count": 6,
   "metadata": {},
   "outputs": [],
   "source": [
    "df_sample.to_pickle('datasets/sample/recipes_sample_main.pkl')"
   ]
  },
  {
   "cell_type": "code",
   "execution_count": null,
   "metadata": {},
   "outputs": [],
   "source": []
  }
 ],
 "metadata": {
  "kernelspec": {
   "display_name": "Python 3 (ipykernel)",
   "language": "python",
   "name": "python3"
  },
  "language_info": {
   "codemirror_mode": {
    "name": "ipython",
    "version": 3
   },
   "file_extension": ".py",
   "mimetype": "text/x-python",
   "name": "python",
   "nbconvert_exporter": "python",
   "pygments_lexer": "ipython3",
   "version": "3.9.12"
  }
 },
 "nbformat": 4,
 "nbformat_minor": 4
}
